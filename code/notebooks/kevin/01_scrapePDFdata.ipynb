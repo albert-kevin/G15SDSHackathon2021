{
 "cells": [
  {
   "cell_type": "markdown",
   "id": "specialized-commodity",
   "metadata": {},
   "source": [
    "Author: Kevin ALBERT\n",
    "\n",
    "Created: March 2021"
   ]
  },
  {
   "cell_type": "markdown",
   "id": "found-browse",
   "metadata": {},
   "source": [
    "Here we need to transform the pdf to csv"
   ]
  },
  {
   "cell_type": "code",
   "execution_count": 43,
   "id": "southern-fault",
   "metadata": {},
   "outputs": [
    {
     "name": "stdout",
     "output_type": "stream",
     "text": [
      "-rw-rw-r-- 1 ubuntu ubuntu 280100 Mar 12 21:29 Ultratop - Singles - 02_01_2021.pdf\r\n",
      "-rw-rw-r-- 1 ubuntu ubuntu 280692 Mar 12 21:29 Ultratop - Singles - 05_12_2020.pdf\r\n",
      "-rw-rw-r-- 1 ubuntu ubuntu 280330 Mar 12 21:29 Ultratop - Singles - 06_02_2021.pdf\r\n",
      "-rw-rw-r-- 1 ubuntu ubuntu 280714 Mar 12 21:29 Ultratop - Singles - 06_03_2021.pdf\r\n",
      "-rw-rw-r-- 1 ubuntu ubuntu 280455 Mar 12 21:29 Ultratop - Singles - 09_01_2021.pdf\r\n",
      "-rw-rw-r-- 1 ubuntu ubuntu 279925 Mar 12 21:29 Ultratop - Singles - 12_12_2020.pdf\r\n",
      "-rw-rw-r-- 1 ubuntu ubuntu 279910 Mar 12 21:29 Ultratop - Singles - 13_02_2021.pdf\r\n",
      "-rw-rw-r-- 1 ubuntu ubuntu 280490 Mar 12 21:29 Ultratop - Singles - 14_11_2020.pdf\r\n",
      "-rw-rw-r-- 1 ubuntu ubuntu 280100 Mar 12 21:29 Ultratop - Singles - 16_01_2021.pdf\r\n",
      "-rw-rw-r-- 1 ubuntu ubuntu 280833 Mar 12 21:29 Ultratop - Singles - 19_12_2020.pdf\r\n",
      "-rw-rw-r-- 1 ubuntu ubuntu 279418 Mar 12 21:29 Ultratop - Singles - 20_02_2021.pdf\r\n",
      "-rw-rw-r-- 1 ubuntu ubuntu 279885 Mar 12 21:29 Ultratop - Singles - 21_11_2020.pdf\r\n",
      "-rw-rw-r-- 1 ubuntu ubuntu 279709 Mar 12 21:29 Ultratop - Singles - 23_01_2021.pdf\r\n",
      "-rw-rw-r-- 1 ubuntu ubuntu 280808 Mar 12 21:29 Ultratop - Singles - 26_12_2020.pdf\r\n",
      "-rw-rw-r-- 1 ubuntu ubuntu 279819 Mar 12 21:29 Ultratop - Singles - 27_02_2021.pdf\r\n",
      "-rw-rw-r-- 1 ubuntu ubuntu 280561 Mar 12 21:29 Ultratop - Singles - 28_11_2020.pdf\r\n",
      "-rw-rw-r-- 1 ubuntu ubuntu 279779 Mar 12 21:29 Ultratop - Singles - 30_01_2021.pdf\r\n"
     ]
    }
   ],
   "source": [
    "!ls -al ../../../data/bronze/Ultratop/Flanders |grep pdf"
   ]
  },
  {
   "cell_type": "code",
   "execution_count": 44,
   "id": "addressed-appendix",
   "metadata": {},
   "outputs": [],
   "source": [
    "import pandas as pd\n",
    "import tabula\n",
    "import os"
   ]
  },
  {
   "cell_type": "code",
   "execution_count": 45,
   "id": "manufactured-monthly",
   "metadata": {},
   "outputs": [
    {
     "data": {
      "text/plain": [
       "['Ultratop - Singles - 02_01_2021.pdf',\n",
       " 'Ultratop - Singles - 05_12_2020.pdf',\n",
       " 'Ultratop - Singles - 06_02_2021.pdf',\n",
       " 'Ultratop - Singles - 06_03_2021.pdf',\n",
       " 'Ultratop - Singles - 09_01_2021.pdf',\n",
       " 'Ultratop - Singles - 12_12_2020.pdf',\n",
       " 'Ultratop - Singles - 13_02_2021.pdf',\n",
       " 'Ultratop - Singles - 14_11_2020.pdf',\n",
       " 'Ultratop - Singles - 16_01_2021.pdf',\n",
       " 'Ultratop - Singles - 19_12_2020.pdf',\n",
       " 'Ultratop - Singles - 20_02_2021.pdf',\n",
       " 'Ultratop - Singles - 21_11_2020.pdf',\n",
       " 'Ultratop - Singles - 23_01_2021.pdf',\n",
       " 'Ultratop - Singles - 26_12_2020.pdf',\n",
       " 'Ultratop - Singles - 27_02_2021.pdf',\n",
       " 'Ultratop - Singles - 28_11_2020.pdf',\n",
       " 'Ultratop - Singles - 30_01_2021.pdf']"
      ]
     },
     "execution_count": 45,
     "metadata": {},
     "output_type": "execute_result"
    }
   ],
   "source": [
    "files = !ls ../../../data/bronze/Ultratop/Flanders |grep pdf\n",
    "files"
   ]
  },
  {
   "cell_type": "code",
   "execution_count": 46,
   "id": "tracked-hostel",
   "metadata": {},
   "outputs": [],
   "source": [
    "# files = ['Ultratop - Singles - 02_01_2021.pdf']"
   ]
  },
  {
   "cell_type": "code",
   "execution_count": 47,
   "id": "statistical-springer",
   "metadata": {},
   "outputs": [],
   "source": [
    "# files = os.listdir('../../../data/bronze/Ultratop/Flanders/')\n",
    "# files"
   ]
  },
  {
   "cell_type": "code",
   "execution_count": 48,
   "id": "natural-cincinnati",
   "metadata": {},
   "outputs": [],
   "source": [
    "ultraTopPDF = pd.DataFrame()\n",
    "for file in files:\n",
    "    data = tabula.read_pdf(f'../../../data/bronze/Ultratop/Flanders/{file}', pages=\"1\", lattice=True)[0]\n",
    "    data.columns = data.iloc[1]\n",
    "    data = data.drop([0,1])\n",
    "    data['fileDate'] = f'{file[21:31]}'\n",
    "    ultraTopPDF = ultraTopPDF.append(data)"
   ]
  },
  {
   "cell_type": "code",
   "execution_count": 49,
   "id": "corrected-jason",
   "metadata": {},
   "outputs": [
    {
     "name": "stdout",
     "output_type": "stream",
     "text": [
      "<class 'pandas.core.frame.DataFrame'>\n",
      "Int64Index: 850 entries, 2 to 51\n",
      "Data columns (total 9 columns):\n",
      " #   Column        Non-Null Count  Dtype \n",
      "---  ------        --------------  ----- \n",
      " 0   #             850 non-null    object\n",
      " 1   VW            850 non-null    object\n",
      " 2   W             850 non-null    object\n",
      " 3   Artiest       850 non-null    object\n",
      " 4   Titel         850 non-null    object\n",
      " 5   Label         850 non-null    object\n",
      " 6   Distributeur  850 non-null    object\n",
      " 7   HP            850 non-null    object\n",
      " 8   fileDate      850 non-null    object\n",
      "dtypes: object(9)\n",
      "memory usage: 66.4+ KB\n"
     ]
    }
   ],
   "source": [
    "ultraTopPDF.info()"
   ]
  },
  {
   "cell_type": "code",
   "execution_count": 50,
   "id": "cognitive-gambling",
   "metadata": {},
   "outputs": [
    {
     "data": {
      "text/html": [
       "<div>\n",
       "<style scoped>\n",
       "    .dataframe tbody tr th:only-of-type {\n",
       "        vertical-align: middle;\n",
       "    }\n",
       "\n",
       "    .dataframe tbody tr th {\n",
       "        vertical-align: top;\n",
       "    }\n",
       "\n",
       "    .dataframe thead th {\n",
       "        text-align: right;\n",
       "    }\n",
       "</style>\n",
       "<table border=\"1\" class=\"dataframe\">\n",
       "  <thead>\n",
       "    <tr style=\"text-align: right;\">\n",
       "      <th>1</th>\n",
       "      <th>#</th>\n",
       "      <th>VW</th>\n",
       "      <th>W</th>\n",
       "      <th>Artiest</th>\n",
       "      <th>Titel</th>\n",
       "      <th>Label</th>\n",
       "      <th>Distributeur</th>\n",
       "      <th>HP</th>\n",
       "      <th>fileDate</th>\n",
       "    </tr>\n",
       "  </thead>\n",
       "  <tbody>\n",
       "    <tr>\n",
       "      <th>47</th>\n",
       "      <td>46</td>\n",
       "      <td>NEW</td>\n",
       "      <td>1</td>\n",
       "      <td>Harry Styles</td>\n",
       "      <td>Golden</td>\n",
       "      <td>COLUMBIA</td>\n",
       "      <td>SONY</td>\n",
       "      <td>46</td>\n",
       "      <td>21_11_2020</td>\n",
       "    </tr>\n",
       "    <tr>\n",
       "      <th>12</th>\n",
       "      <td>11</td>\n",
       "      <td>7</td>\n",
       "      <td>28</td>\n",
       "      <td>Joel Corry feat. MNEK</td>\n",
       "      <td>Head &amp; Heart</td>\n",
       "      <td>ASYLUM</td>\n",
       "      <td>WARNER</td>\n",
       "      <td>1</td>\n",
       "      <td>20_02_2021</td>\n",
       "    </tr>\n",
       "    <tr>\n",
       "      <th>45</th>\n",
       "      <td>44</td>\n",
       "      <td>40</td>\n",
       "      <td>3</td>\n",
       "      <td>Celeste [UK]</td>\n",
       "      <td>Love Is Back</td>\n",
       "      <td>POLYDOR</td>\n",
       "      <td>UNIVERSAL</td>\n",
       "      <td>40</td>\n",
       "      <td>27_02_2021</td>\n",
       "    </tr>\n",
       "    <tr>\n",
       "      <th>18</th>\n",
       "      <td>17</td>\n",
       "      <td>19</td>\n",
       "      <td>12</td>\n",
       "      <td>Shawn Mendes</td>\n",
       "      <td>Wonder</td>\n",
       "      <td>ISLAND</td>\n",
       "      <td>UNIVERSAL</td>\n",
       "      <td>14</td>\n",
       "      <td>26_12_2020</td>\n",
       "    </tr>\n",
       "    <tr>\n",
       "      <th>4</th>\n",
       "      <td>3</td>\n",
       "      <td>2</td>\n",
       "      <td>11</td>\n",
       "      <td>24kGoldn feat. Iann Dior</td>\n",
       "      <td>Mood</td>\n",
       "      <td>COLUMBIA</td>\n",
       "      <td>SONY</td>\n",
       "      <td>2</td>\n",
       "      <td>14_11_2020</td>\n",
       "    </tr>\n",
       "  </tbody>\n",
       "</table>\n",
       "</div>"
      ],
      "text/plain": [
       "1    #   VW   W                   Artiest         Titel     Label  \\\n",
       "47  46  NEW   1              Harry Styles        Golden  COLUMBIA   \n",
       "12  11    7  28     Joel Corry feat. MNEK  Head & Heart    ASYLUM   \n",
       "45  44   40   3              Celeste [UK]  Love Is Back   POLYDOR   \n",
       "18  17   19  12              Shawn Mendes        Wonder    ISLAND   \n",
       "4    3    2  11  24kGoldn feat. Iann Dior          Mood  COLUMBIA   \n",
       "\n",
       "1  Distributeur  HP    fileDate  \n",
       "47         SONY  46  21_11_2020  \n",
       "12       WARNER   1  20_02_2021  \n",
       "45    UNIVERSAL  40  27_02_2021  \n",
       "18    UNIVERSAL  14  26_12_2020  \n",
       "4          SONY   2  14_11_2020  "
      ]
     },
     "execution_count": 50,
     "metadata": {},
     "output_type": "execute_result"
    }
   ],
   "source": [
    "ultraTopPDF.sample(5)"
   ]
  },
  {
   "cell_type": "code",
   "execution_count": 51,
   "id": "integral-transport",
   "metadata": {},
   "outputs": [],
   "source": [
    "ultraTopPDF.to_parquet(\"../../../data/bronze/Ultratop/Flanders/ultratopPDFflanders.parquet\")"
   ]
  },
  {
   "cell_type": "code",
   "execution_count": 52,
   "id": "compliant-mortgage",
   "metadata": {},
   "outputs": [],
   "source": [
    "ultraTopPDF.to_csv(\"../../../data/bronze/Ultratop/Flanders/ultratopPDFflanders.csv\", index=False)"
   ]
  },
  {
   "cell_type": "markdown",
   "id": "searching-endorsement",
   "metadata": {},
   "source": [
    "### now, for Walonie"
   ]
  },
  {
   "cell_type": "code",
   "execution_count": 33,
   "id": "quick-responsibility",
   "metadata": {},
   "outputs": [
    {
     "data": {
      "text/plain": [
       "['Ultratop - Singles - 02_01_2021.pdf',\n",
       " 'Ultratop - Singles - 05_12_2020.pdf',\n",
       " 'Ultratop - Singles - 06_02_2021.pdf',\n",
       " 'Ultratop - Singles - 06_03_2021.pdf',\n",
       " 'Ultratop - Singles - 09_01_2021.pdf',\n",
       " 'Ultratop - Singles - 12_12_2020.pdf',\n",
       " 'Ultratop - Singles - 13_02_2021.pdf',\n",
       " 'Ultratop - Singles - 14_11_2020.pdf',\n",
       " 'Ultratop - Singles - 16_01_2021.pdf',\n",
       " 'Ultratop - Singles - 19_12_2020.pdf',\n",
       " 'Ultratop - Singles - 20_02_2021.pdf',\n",
       " 'Ultratop - Singles - 21_11_2020.pdf',\n",
       " 'Ultratop - Singles - 23_01_2021.pdf',\n",
       " 'Ultratop - Singles - 26_12_2020.pdf',\n",
       " 'Ultratop - Singles - 27_02_2021.pdf',\n",
       " 'Ultratop - Singles - 28_11_2020.pdf',\n",
       " 'Ultratop - Singles - 30_01_2021.pdf']"
      ]
     },
     "execution_count": 33,
     "metadata": {},
     "output_type": "execute_result"
    }
   ],
   "source": [
    "files = !ls ../../../data/bronze/Ultratop/Walonie |grep pdf\n",
    "files"
   ]
  },
  {
   "cell_type": "code",
   "execution_count": 34,
   "id": "silent-minority",
   "metadata": {},
   "outputs": [],
   "source": [
    "ultraTopPDF = pd.DataFrame()\n",
    "for file in files:\n",
    "    data = tabula.read_pdf(f'../../../data/bronze/Ultratop/Walonie/{file}', pages=\"1\", lattice=True)[0]\n",
    "    data.columns = data.iloc[1]\n",
    "    data = data.drop([0,1])\n",
    "    data['fileDate'] = f'{file[21:31]}'\n",
    "    ultraTopPDF = ultraTopPDF.append(data)"
   ]
  },
  {
   "cell_type": "code",
   "execution_count": 35,
   "id": "exciting-community",
   "metadata": {},
   "outputs": [
    {
     "name": "stdout",
     "output_type": "stream",
     "text": [
      "<class 'pandas.core.frame.DataFrame'>\n",
      "Int64Index: 850 entries, 2 to 51\n",
      "Data columns (total 9 columns):\n",
      " #   Column        Non-Null Count  Dtype \n",
      "---  ------        --------------  ----- \n",
      " 0   #             850 non-null    object\n",
      " 1   -1            850 non-null    object\n",
      " 2   S             850 non-null    object\n",
      " 3   Artiste       850 non-null    object\n",
      " 4   Titre         850 non-null    object\n",
      " 5   Label         850 non-null    object\n",
      " 6   Distributeur  850 non-null    object\n",
      " 7   MP            850 non-null    object\n",
      " 8   fileDate      850 non-null    object\n",
      "dtypes: object(9)\n",
      "memory usage: 66.4+ KB\n"
     ]
    }
   ],
   "source": [
    "ultraTopPDF.info()"
   ]
  },
  {
   "cell_type": "code",
   "execution_count": 36,
   "id": "isolated-large",
   "metadata": {},
   "outputs": [
    {
     "data": {
      "text/html": [
       "<div>\n",
       "<style scoped>\n",
       "    .dataframe tbody tr th:only-of-type {\n",
       "        vertical-align: middle;\n",
       "    }\n",
       "\n",
       "    .dataframe tbody tr th {\n",
       "        vertical-align: top;\n",
       "    }\n",
       "\n",
       "    .dataframe thead th {\n",
       "        text-align: right;\n",
       "    }\n",
       "</style>\n",
       "<table border=\"1\" class=\"dataframe\">\n",
       "  <thead>\n",
       "    <tr style=\"text-align: right;\">\n",
       "      <th>1</th>\n",
       "      <th>#</th>\n",
       "      <th>-1</th>\n",
       "      <th>S</th>\n",
       "      <th>Artiste</th>\n",
       "      <th>Titre</th>\n",
       "      <th>Label</th>\n",
       "      <th>Distributeur</th>\n",
       "      <th>MP</th>\n",
       "      <th>fileDate</th>\n",
       "    </tr>\n",
       "  </thead>\n",
       "  <tbody>\n",
       "    <tr>\n",
       "      <th>10</th>\n",
       "      <td>9</td>\n",
       "      <td>7</td>\n",
       "      <td>13</td>\n",
       "      <td>Sch - Kofs - Jul - Naps - Soso Maness - Elams ...</td>\n",
       "      <td>Bande organisée</td>\n",
       "      <td>RIEN 100 RIEN</td>\n",
       "      <td>PIAS</td>\n",
       "      <td>2</td>\n",
       "      <td>14_11_2020</td>\n",
       "    </tr>\n",
       "    <tr>\n",
       "      <th>37</th>\n",
       "      <td>36</td>\n",
       "      <td>RE</td>\n",
       "      <td>17</td>\n",
       "      <td>Aya Nakamura</td>\n",
       "      <td>Jolie nana</td>\n",
       "      <td>REC. 118</td>\n",
       "      <td>WARNER</td>\n",
       "      <td>2</td>\n",
       "      <td>21_11_2020</td>\n",
       "    </tr>\n",
       "    <tr>\n",
       "      <th>2</th>\n",
       "      <td>1</td>\n",
       "      <td>1</td>\n",
       "      <td>15</td>\n",
       "      <td>Dua Lipa feat. Angèle</td>\n",
       "      <td>Fever</td>\n",
       "      <td>WARNER</td>\n",
       "      <td>WARNER</td>\n",
       "      <td>1</td>\n",
       "      <td>13_02_2021</td>\n",
       "    </tr>\n",
       "    <tr>\n",
       "      <th>46</th>\n",
       "      <td>45</td>\n",
       "      <td>47</td>\n",
       "      <td>15</td>\n",
       "      <td>Franglish feat. Tory Lanez</td>\n",
       "      <td>My Salsa</td>\n",
       "      <td>DEF JAM</td>\n",
       "      <td>UNIVERSAL</td>\n",
       "      <td>35</td>\n",
       "      <td>28_11_2020</td>\n",
       "    </tr>\n",
       "    <tr>\n",
       "      <th>7</th>\n",
       "      <td>6</td>\n",
       "      <td>6</td>\n",
       "      <td>12</td>\n",
       "      <td>Ariana Grande</td>\n",
       "      <td>Positions</td>\n",
       "      <td>REPUBLIC</td>\n",
       "      <td>UNIVERSAL</td>\n",
       "      <td>6</td>\n",
       "      <td>16_01_2021</td>\n",
       "    </tr>\n",
       "  </tbody>\n",
       "</table>\n",
       "</div>"
      ],
      "text/plain": [
       "1    #  -1   S                                            Artiste  \\\n",
       "10   9   7  13  Sch - Kofs - Jul - Naps - Soso Maness - Elams ...   \n",
       "37  36  RE  17                                       Aya Nakamura   \n",
       "2    1   1  15                              Dua Lipa feat. Angèle   \n",
       "46  45  47  15                         Franglish feat. Tory Lanez   \n",
       "7    6   6  12                                      Ariana Grande   \n",
       "\n",
       "1             Titre          Label Distributeur  MP    fileDate  \n",
       "10  Bande organisée  RIEN 100 RIEN         PIAS   2  14_11_2020  \n",
       "37       Jolie nana       REC. 118       WARNER   2  21_11_2020  \n",
       "2             Fever         WARNER       WARNER   1  13_02_2021  \n",
       "46         My Salsa        DEF JAM    UNIVERSAL  35  28_11_2020  \n",
       "7         Positions       REPUBLIC    UNIVERSAL   6  16_01_2021  "
      ]
     },
     "execution_count": 36,
     "metadata": {},
     "output_type": "execute_result"
    }
   ],
   "source": [
    "ultraTopPDF.sample(5)"
   ]
  },
  {
   "cell_type": "code",
   "execution_count": 37,
   "id": "fluid-junior",
   "metadata": {},
   "outputs": [],
   "source": [
    "ultraTopPDF.to_parquet(\"../../../data/bronze/Ultratop/Walonie/ultratopPDFwalonie.parquet\")"
   ]
  },
  {
   "cell_type": "code",
   "execution_count": 38,
   "id": "material-medicaid",
   "metadata": {},
   "outputs": [],
   "source": [
    "ultraTopPDF.to_csv(\"../../../data/bronze/Ultratop/Walonie/ultratopPDFwalonie.csv\", index=False)"
   ]
  },
  {
   "cell_type": "code",
   "execution_count": 40,
   "id": "educational-privilege",
   "metadata": {},
   "outputs": [
    {
     "data": {
      "text/html": [
       "<div>\n",
       "<style scoped>\n",
       "    .dataframe tbody tr th:only-of-type {\n",
       "        vertical-align: middle;\n",
       "    }\n",
       "\n",
       "    .dataframe tbody tr th {\n",
       "        vertical-align: top;\n",
       "    }\n",
       "\n",
       "    .dataframe thead th {\n",
       "        text-align: right;\n",
       "    }\n",
       "</style>\n",
       "<table border=\"1\" class=\"dataframe\">\n",
       "  <thead>\n",
       "    <tr style=\"text-align: right;\">\n",
       "      <th>1</th>\n",
       "      <th>#</th>\n",
       "      <th>-1</th>\n",
       "      <th>S</th>\n",
       "      <th>Artiste</th>\n",
       "      <th>Titre</th>\n",
       "      <th>Label</th>\n",
       "      <th>Distributeur</th>\n",
       "      <th>MP</th>\n",
       "      <th>fileDate</th>\n",
       "    </tr>\n",
       "  </thead>\n",
       "  <tbody>\n",
       "    <tr>\n",
       "      <th>2</th>\n",
       "      <td>1</td>\n",
       "      <td>1</td>\n",
       "      <td>9</td>\n",
       "      <td>Dua Lipa feat. Angèle</td>\n",
       "      <td>Fever</td>\n",
       "      <td>WARNER</td>\n",
       "      <td>WARNER</td>\n",
       "      <td>1</td>\n",
       "      <td>02_01_2021</td>\n",
       "    </tr>\n",
       "    <tr>\n",
       "      <th>3</th>\n",
       "      <td>2</td>\n",
       "      <td>3</td>\n",
       "      <td>15</td>\n",
       "      <td>David Guetta &amp; Sia</td>\n",
       "      <td>Let's Love</td>\n",
       "      <td>PARLOPHONE</td>\n",
       "      <td>WARNER</td>\n",
       "      <td>2</td>\n",
       "      <td>02_01_2021</td>\n",
       "    </tr>\n",
       "    <tr>\n",
       "      <th>4</th>\n",
       "      <td>3</td>\n",
       "      <td>2</td>\n",
       "      <td>17</td>\n",
       "      <td>24kGoldn feat. Iann Dior</td>\n",
       "      <td>Mood</td>\n",
       "      <td>COLUMBIA</td>\n",
       "      <td>SONY</td>\n",
       "      <td>2</td>\n",
       "      <td>02_01_2021</td>\n",
       "    </tr>\n",
       "    <tr>\n",
       "      <th>5</th>\n",
       "      <td>4</td>\n",
       "      <td>4</td>\n",
       "      <td>14</td>\n",
       "      <td>Vianney</td>\n",
       "      <td>Beau-papa</td>\n",
       "      <td>TOT OU TARD</td>\n",
       "      <td>PIAS</td>\n",
       "      <td>3</td>\n",
       "      <td>02_01_2021</td>\n",
       "    </tr>\n",
       "    <tr>\n",
       "      <th>6</th>\n",
       "      <td>5</td>\n",
       "      <td>6</td>\n",
       "      <td>14</td>\n",
       "      <td>BTS</td>\n",
       "      <td>Dynamite</td>\n",
       "      <td>BIGHIT</td>\n",
       "      <td>SONY</td>\n",
       "      <td>5</td>\n",
       "      <td>02_01_2021</td>\n",
       "    </tr>\n",
       "    <tr>\n",
       "      <th>7</th>\n",
       "      <td>6</td>\n",
       "      <td>7</td>\n",
       "      <td>14</td>\n",
       "      <td>Jason Derulo</td>\n",
       "      <td>Take You Dancing</td>\n",
       "      <td>ATLANTIC</td>\n",
       "      <td>WARNER</td>\n",
       "      <td>6</td>\n",
       "      <td>02_01_2021</td>\n",
       "    </tr>\n",
       "    <tr>\n",
       "      <th>8</th>\n",
       "      <td>7</td>\n",
       "      <td>10</td>\n",
       "      <td>10</td>\n",
       "      <td>Ariana Grande</td>\n",
       "      <td>Positions</td>\n",
       "      <td>REPUBLIC</td>\n",
       "      <td>UNIVERSAL</td>\n",
       "      <td>7</td>\n",
       "      <td>02_01_2021</td>\n",
       "    </tr>\n",
       "    <tr>\n",
       "      <th>9</th>\n",
       "      <td>8</td>\n",
       "      <td>5</td>\n",
       "      <td>14</td>\n",
       "      <td>Ava Max</td>\n",
       "      <td>Who's Laughing Now?</td>\n",
       "      <td>ATLANTIC</td>\n",
       "      <td>WARNER</td>\n",
       "      <td>4</td>\n",
       "      <td>02_01_2021</td>\n",
       "    </tr>\n",
       "    <tr>\n",
       "      <th>10</th>\n",
       "      <td>9</td>\n",
       "      <td>15</td>\n",
       "      <td>11</td>\n",
       "      <td>Tate McRae</td>\n",
       "      <td>You Broke Me First</td>\n",
       "      <td>RCA</td>\n",
       "      <td>SONY</td>\n",
       "      <td>9</td>\n",
       "      <td>02_01_2021</td>\n",
       "    </tr>\n",
       "    <tr>\n",
       "      <th>11</th>\n",
       "      <td>10</td>\n",
       "      <td>8</td>\n",
       "      <td>13</td>\n",
       "      <td>Clean Bandit and Mabel feat. 24kGoldn</td>\n",
       "      <td>Tick Tock</td>\n",
       "      <td>ATLANTIC</td>\n",
       "      <td>WARNER</td>\n",
       "      <td>8</td>\n",
       "      <td>02_01_2021</td>\n",
       "    </tr>\n",
       "  </tbody>\n",
       "</table>\n",
       "</div>"
      ],
      "text/plain": [
       "1    #  -1   S                                Artiste                Titre  \\\n",
       "2    1   1   9                  Dua Lipa feat. Angèle                Fever   \n",
       "3    2   3  15                     David Guetta & Sia           Let's Love   \n",
       "4    3   2  17               24kGoldn feat. Iann Dior                 Mood   \n",
       "5    4   4  14                                Vianney            Beau-papa   \n",
       "6    5   6  14                                    BTS             Dynamite   \n",
       "7    6   7  14                           Jason Derulo     Take You Dancing   \n",
       "8    7  10  10                          Ariana Grande            Positions   \n",
       "9    8   5  14                                Ava Max  Who's Laughing Now?   \n",
       "10   9  15  11                             Tate McRae   You Broke Me First   \n",
       "11  10   8  13  Clean Bandit and Mabel feat. 24kGoldn            Tick Tock   \n",
       "\n",
       "1         Label Distributeur MP    fileDate  \n",
       "2        WARNER       WARNER  1  02_01_2021  \n",
       "3    PARLOPHONE       WARNER  2  02_01_2021  \n",
       "4      COLUMBIA         SONY  2  02_01_2021  \n",
       "5   TOT OU TARD         PIAS  3  02_01_2021  \n",
       "6        BIGHIT         SONY  5  02_01_2021  \n",
       "7      ATLANTIC       WARNER  6  02_01_2021  \n",
       "8      REPUBLIC    UNIVERSAL  7  02_01_2021  \n",
       "9      ATLANTIC       WARNER  4  02_01_2021  \n",
       "10          RCA         SONY  9  02_01_2021  \n",
       "11     ATLANTIC       WARNER  8  02_01_2021  "
      ]
     },
     "execution_count": 40,
     "metadata": {},
     "output_type": "execute_result"
    }
   ],
   "source": [
    "ultraTopPDF.head(10)"
   ]
  },
  {
   "cell_type": "code",
   "execution_count": null,
   "id": "pursuant-academy",
   "metadata": {},
   "outputs": [],
   "source": []
  },
  {
   "cell_type": "code",
   "execution_count": null,
   "id": "leading-encoding",
   "metadata": {},
   "outputs": [],
   "source": [
    "# dfs = tabula.read_pdf(\"../../../data/bronze/Ultratop/Flanders/Ultratop - Singles - 27_02_2021.pdf\",\n",
    "#                       pages=\"1\",\n",
    "#                       lattice=True)"
   ]
  },
  {
   "cell_type": "code",
   "execution_count": null,
   "id": "worth-aviation",
   "metadata": {},
   "outputs": [],
   "source": [
    "# read_pdf returns list of DataFrames\n",
    "# print(len(dfs))\n",
    "# df = dfs[0]\n",
    "# df"
   ]
  },
  {
   "cell_type": "code",
   "execution_count": null,
   "id": "fitting-anaheim",
   "metadata": {},
   "outputs": [],
   "source": [
    "# # set a row to acolumn:\n",
    "# df.columns = df.iloc[1]\n",
    "# df = df.drop([0,1])"
   ]
  },
  {
   "cell_type": "code",
   "execution_count": null,
   "id": "greenhouse-journal",
   "metadata": {},
   "outputs": [],
   "source": [
    "# df"
   ]
  },
  {
   "cell_type": "code",
   "execution_count": null,
   "id": "productive-operation",
   "metadata": {},
   "outputs": [],
   "source": [
    "# store local as *.csv files\n",
    "df.to_parquet(\"../../../data/bronze/Ultratop/Flanders/Ultratop - Singles - 27_02_2021.parquet\")"
   ]
  },
  {
   "cell_type": "code",
   "execution_count": null,
   "id": "reverse-young",
   "metadata": {},
   "outputs": [],
   "source": [
    "for "
   ]
  },
  {
   "cell_type": "code",
   "execution_count": null,
   "id": "supposed-peeing",
   "metadata": {},
   "outputs": [],
   "source": []
  }
 ],
 "metadata": {
  "kernelspec": {
   "display_name": "py38_scrapedata",
   "language": "python",
   "name": "conda-env-py38_scrapedata-py"
  },
  "language_info": {
   "codemirror_mode": {
    "name": "ipython",
    "version": 3
   },
   "file_extension": ".py",
   "mimetype": "text/x-python",
   "name": "python",
   "nbconvert_exporter": "python",
   "pygments_lexer": "ipython3",
   "version": "3.8.8"
  }
 },
 "nbformat": 4,
 "nbformat_minor": 5
}
