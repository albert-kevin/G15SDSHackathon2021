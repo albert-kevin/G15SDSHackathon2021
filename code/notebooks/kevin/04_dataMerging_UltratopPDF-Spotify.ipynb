{
 "cells": [
  {
   "cell_type": "markdown",
   "id": "fixed-parks",
   "metadata": {},
   "source": [
    "Author: Kevin ALBERT\n",
    "\n",
    "Created: March 2021"
   ]
  },
  {
   "cell_type": "code",
   "execution_count": 1,
   "id": "reduced-proposal",
   "metadata": {},
   "outputs": [],
   "source": [
    "import pandas as pd\n",
    "import dtale\n",
    "import pandas_profiling as pp\n",
    "from IPython.display import Javascript"
   ]
  },
  {
   "cell_type": "code",
   "execution_count": 2,
   "id": "robust-ceremony",
   "metadata": {},
   "outputs": [],
   "source": [
    "spotify  = pd.read_csv(\"../../../data/silver/spotify.csv\")\n",
    "ultraPDFflanders = pd.read_parquet(\"../../../data/bronze/Ultratop/Flanders/ultratopPDFflanders.parquet\")\n",
    "# ultraPDFwalonie = pd.read_parquet(\"../../../data/bronze/Ultratop/Walonie/ultratopPDFwalonie.parquet\")"
   ]
  },
  {
   "cell_type": "code",
   "execution_count": 3,
   "id": "excited-motel",
   "metadata": {},
   "outputs": [
    {
     "data": {
      "text/plain": [
       "Index(['Titre', 'album', 'Artiste', 'release_date', 'length', 'popularity',\n",
       "       'acousticness', 'danceability', 'energy', 'instrumentalness',\n",
       "       'liveness', 'loudness', 'speechiness', 'tempo', 'time_signature'],\n",
       "      dtype='object')"
      ]
     },
     "execution_count": 3,
     "metadata": {},
     "output_type": "execute_result"
    }
   ],
   "source": [
    "spotify.columns"
   ]
  },
  {
   "cell_type": "code",
   "execution_count": 4,
   "id": "offshore-robin",
   "metadata": {},
   "outputs": [
    {
     "data": {
      "text/plain": [
       "Index(['#', 'VW', 'W', 'Artiest', 'Titel', 'Label', 'Distributeur', 'HP',\n",
       "       'fileDate'],\n",
       "      dtype='object', name=1)"
      ]
     },
     "execution_count": 4,
     "metadata": {},
     "output_type": "execute_result"
    }
   ],
   "source": [
    "ultraPDFflanders.columns"
   ]
  },
  {
   "cell_type": "markdown",
   "id": "inclusive-exchange",
   "metadata": {},
   "source": [
    "### investigate"
   ]
  },
  {
   "cell_type": "code",
   "execution_count": 8,
   "id": "interesting-mongolia",
   "metadata": {},
   "outputs": [
    {
     "data": {
      "text/plain": [
       "2       2\n",
       "3       1\n",
       "4       3\n",
       "5       4\n",
       "6       7\n",
       "     ... \n",
       "47     49\n",
       "48    NEW\n",
       "49     50\n",
       "50     43\n",
       "51     RE\n",
       "Name: VW, Length: 850, dtype: object"
      ]
     },
     "execution_count": 8,
     "metadata": {},
     "output_type": "execute_result"
    }
   ],
   "source": [
    "filt = ultraPDFflanders['fileDate'] == '02_01_2021'\n",
    "\n",
    "ultraPDFflanders.VW \n",
    "\n",
    "Date        New   RE   Ranking of New   Ranking of RE\n",
    "13/3/2021   2     2       45,49\n",
    "6/3/2021    2     1       46,47            45\n",
    "3/3\n",
    "\n",
    "\n",
    "shazam.bel    ultratop\n",
    "\n",
    "\n",
    "\n",
    "\n",
    "200.             34        34.    13/2021\n",
    "\n",
    "200             41.        35     6/3/2021\n",
    "\n",
    "200                               27/2/2021\n",
    "\n",
    "300             50         50\n",
    "-top 50\n",
    "- not top 50\n"
   ]
  },
  {
   "cell_type": "code",
   "execution_count": null,
   "id": "western-chicken",
   "metadata": {},
   "outputs": [],
   "source": [
    " "
   ]
  },
  {
   "cell_type": "code",
   "execution_count": null,
   "id": "built-alarm",
   "metadata": {},
   "outputs": [],
   "source": [
    "result = prep[[\"winery\",\"country\"]].groupby(['country'])['winery'].nunique()\n",
    "result = result.rename_axis(['Country']).rename('totalNrWineries').sort_values(ascending=False).reset_index()\n",
    "result.head(10)"
   ]
  },
  {
   "cell_type": "code",
   "execution_count": null,
   "id": "fluid-picture",
   "metadata": {},
   "outputs": [],
   "source": []
  },
  {
   "cell_type": "code",
   "execution_count": null,
   "id": "intended-clark",
   "metadata": {},
   "outputs": [],
   "source": []
  },
  {
   "cell_type": "markdown",
   "id": "respective-dressing",
   "metadata": {},
   "source": [
    "### clean dataset"
   ]
  },
  {
   "cell_type": "code",
   "execution_count": 7,
   "id": "physical-member",
   "metadata": {},
   "outputs": [
    {
     "data": {
      "text/html": [
       "<div>\n",
       "<style scoped>\n",
       "    .dataframe tbody tr th:only-of-type {\n",
       "        vertical-align: middle;\n",
       "    }\n",
       "\n",
       "    .dataframe tbody tr th {\n",
       "        vertical-align: top;\n",
       "    }\n",
       "\n",
       "    .dataframe thead th {\n",
       "        text-align: right;\n",
       "    }\n",
       "</style>\n",
       "<table border=\"1\" class=\"dataframe\">\n",
       "  <thead>\n",
       "    <tr style=\"text-align: right;\">\n",
       "      <th>1</th>\n",
       "      <th>#</th>\n",
       "      <th>VW</th>\n",
       "      <th>W</th>\n",
       "      <th>Artiest</th>\n",
       "      <th>Titel</th>\n",
       "      <th>Label</th>\n",
       "      <th>Distributeur</th>\n",
       "      <th>HP</th>\n",
       "      <th>fileDate</th>\n",
       "    </tr>\n",
       "  </thead>\n",
       "  <tbody>\n",
       "    <tr>\n",
       "      <th>2</th>\n",
       "      <td>1</td>\n",
       "      <td>2</td>\n",
       "      <td>12</td>\n",
       "      <td>Jaap Reesema &amp; Pommelien Thijs</td>\n",
       "      <td>Nu wij niet meer\\rpraten</td>\n",
       "      <td>MOSTIKO</td>\n",
       "      <td>CNR</td>\n",
       "      <td>1</td>\n",
       "      <td>02_01_2021</td>\n",
       "    </tr>\n",
       "    <tr>\n",
       "      <th>3</th>\n",
       "      <td>2</td>\n",
       "      <td>1</td>\n",
       "      <td>9</td>\n",
       "      <td>Dua Lipa feat. Angèle</td>\n",
       "      <td>Fever</td>\n",
       "      <td>WARNER</td>\n",
       "      <td>WARNER</td>\n",
       "      <td>1</td>\n",
       "      <td>02_01_2021</td>\n",
       "    </tr>\n",
       "    <tr>\n",
       "      <th>4</th>\n",
       "      <td>3</td>\n",
       "      <td>3</td>\n",
       "      <td>21</td>\n",
       "      <td>Joel Corry feat. MNEK</td>\n",
       "      <td>Head &amp; Heart</td>\n",
       "      <td>ASYLUM</td>\n",
       "      <td>WARNER</td>\n",
       "      <td>1</td>\n",
       "      <td>02_01_2021</td>\n",
       "    </tr>\n",
       "    <tr>\n",
       "      <th>5</th>\n",
       "      <td>4</td>\n",
       "      <td>4</td>\n",
       "      <td>18</td>\n",
       "      <td>24kGoldn feat. Iann Dior</td>\n",
       "      <td>Mood</td>\n",
       "      <td>COLUMBIA</td>\n",
       "      <td>SONY</td>\n",
       "      <td>2</td>\n",
       "      <td>02_01_2021</td>\n",
       "    </tr>\n",
       "    <tr>\n",
       "      <th>6</th>\n",
       "      <td>5</td>\n",
       "      <td>7</td>\n",
       "      <td>19</td>\n",
       "      <td>BTS</td>\n",
       "      <td>Dynamite</td>\n",
       "      <td>BIGHIT</td>\n",
       "      <td>SONY</td>\n",
       "      <td>5</td>\n",
       "      <td>02_01_2021</td>\n",
       "    </tr>\n",
       "  </tbody>\n",
       "</table>\n",
       "</div>"
      ],
      "text/plain": [
       "1  # VW   W                         Artiest                     Titel  \\\n",
       "2  1  2  12  Jaap Reesema & Pommelien Thijs  Nu wij niet meer\\rpraten   \n",
       "3  2  1   9           Dua Lipa feat. Angèle                     Fever   \n",
       "4  3  3  21           Joel Corry feat. MNEK              Head & Heart   \n",
       "5  4  4  18        24kGoldn feat. Iann Dior                      Mood   \n",
       "6  5  7  19                             BTS                  Dynamite   \n",
       "\n",
       "1     Label Distributeur HP    fileDate  \n",
       "2   MOSTIKO          CNR  1  02_01_2021  \n",
       "3    WARNER       WARNER  1  02_01_2021  \n",
       "4    ASYLUM       WARNER  1  02_01_2021  \n",
       "5  COLUMBIA         SONY  2  02_01_2021  \n",
       "6    BIGHIT         SONY  5  02_01_2021  "
      ]
     },
     "execution_count": 7,
     "metadata": {},
     "output_type": "execute_result"
    }
   ],
   "source": [
    "ultraPDFflanders.head(5)"
   ]
  },
  {
   "cell_type": "code",
   "execution_count": null,
   "id": "fitted-chancellor",
   "metadata": {},
   "outputs": [],
   "source": [
    "# 5 columns : date, number of new song, number of reentry song, ranking of new songs , ranking of  reentry song\n",
    "# For both Flanders and Wallonia"
   ]
  },
  {
   "cell_type": "code",
   "execution_count": null,
   "id": "isolated-parts",
   "metadata": {},
   "outputs": [],
   "source": []
  },
  {
   "cell_type": "code",
   "execution_count": null,
   "id": "right-copying",
   "metadata": {},
   "outputs": [],
   "source": []
  },
  {
   "cell_type": "code",
   "execution_count": null,
   "id": "falling-burning",
   "metadata": {},
   "outputs": [],
   "source": []
  },
  {
   "cell_type": "code",
   "execution_count": null,
   "id": "massive-webster",
   "metadata": {},
   "outputs": [],
   "source": []
  },
  {
   "cell_type": "code",
   "execution_count": null,
   "id": "caring-olive",
   "metadata": {},
   "outputs": [],
   "source": []
  },
  {
   "cell_type": "code",
   "execution_count": null,
   "id": "wired-court",
   "metadata": {},
   "outputs": [],
   "source": []
  }
 ],
 "metadata": {
  "kernelspec": {
   "display_name": "py38_datareport",
   "language": "python",
   "name": "conda-env-py38_datareport-py"
  },
  "language_info": {
   "codemirror_mode": {
    "name": "ipython",
    "version": 3
   },
   "file_extension": ".py",
   "mimetype": "text/x-python",
   "name": "python",
   "nbconvert_exporter": "python",
   "pygments_lexer": "ipython3",
   "version": "3.8.8"
  }
 },
 "nbformat": 4,
 "nbformat_minor": 5
}
