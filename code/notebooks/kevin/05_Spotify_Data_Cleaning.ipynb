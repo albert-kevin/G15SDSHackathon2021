{
 "cells": [
  {
   "cell_type": "code",
   "execution_count": 4,
   "id": "smoking-inspector",
   "metadata": {},
   "outputs": [
    {
     "name": "stdout",
     "output_type": "stream",
     "text": [
      "Collecting spotipy\n",
      "  Using cached spotipy-2.17.1-py3-none-any.whl (26 kB)\n",
      "Requirement already satisfied: six>=1.15.0 in /anaconda/envs/py38_datareport/lib/python3.8/site-packages (from spotipy) (1.15.0)\n",
      "Requirement already satisfied: requests>=2.25.0 in /anaconda/envs/py38_datareport/lib/python3.8/site-packages (from spotipy) (2.25.1)\n",
      "Requirement already satisfied: urllib3>=1.26.0 in /anaconda/envs/py38_datareport/lib/python3.8/site-packages (from spotipy) (1.26.3)\n",
      "Requirement already satisfied: idna<3,>=2.5 in /anaconda/envs/py38_datareport/lib/python3.8/site-packages (from requests>=2.25.0->spotipy) (2.10)\n",
      "Requirement already satisfied: chardet<5,>=3.0.2 in /anaconda/envs/py38_datareport/lib/python3.8/site-packages (from requests>=2.25.0->spotipy) (4.0.0)\n",
      "Requirement already satisfied: certifi>=2017.4.17 in /anaconda/envs/py38_datareport/lib/python3.8/site-packages (from requests>=2.25.0->spotipy) (2020.12.5)\n",
      "Installing collected packages: spotipy\n",
      "Successfully installed spotipy-2.17.1\n"
     ]
    }
   ],
   "source": [
    "!pip install spotipy"
   ]
  },
  {
   "cell_type": "markdown",
   "id": "undefined-transition",
   "metadata": {},
   "source": [
    "## Enrich the ultratop XLS dataset with Spotify API"
   ]
  },
  {
   "cell_type": "code",
   "execution_count": 5,
   "id": "balanced-calibration",
   "metadata": {},
   "outputs": [],
   "source": [
    "import pandas as pd\n",
    "import spotipy\n",
    "from spotipy.oauth2 import SpotifyClientCredentials\n",
    "import keys"
   ]
  },
  {
   "cell_type": "code",
   "execution_count": 18,
   "id": "sunrise-working",
   "metadata": {},
   "outputs": [
    {
     "name": "stdout",
     "output_type": "stream",
     "text": [
      "/home/ubuntu/notebooks/G15SDSHackathon2021/code/notebooks/kevin\r\n"
     ]
    }
   ],
   "source": [
    "!pwd"
   ]
  },
  {
   "cell_type": "code",
   "execution_count": 58,
   "id": "british-celebration",
   "metadata": {},
   "outputs": [],
   "source": [
    "ultra = pd.read_csv(\"../../../data/silver/ultra.csv\")"
   ]
  },
  {
   "cell_type": "code",
   "execution_count": 59,
   "id": "legal-beijing",
   "metadata": {},
   "outputs": [],
   "source": [
    "ultra.reset_index(inplace=True, drop=True)"
   ]
  },
  {
   "cell_type": "code",
   "execution_count": 60,
   "id": "atomic-information",
   "metadata": {},
   "outputs": [],
   "source": [
    "sp = spotipy.Spotify(auth_manager=SpotifyClientCredentials(client_id=\"f93a1fbf63074ec3b110cc58b86957dc\",\n",
    "                                                           client_secret=\"bee7864fda474acdbfc4789c59d53ec1\"))"
   ]
  },
  {
   "cell_type": "code",
   "execution_count": 61,
   "id": "overall-empty",
   "metadata": {},
   "outputs": [
    {
     "data": {
      "text/html": [
       "<div>\n",
       "<style scoped>\n",
       "    .dataframe tbody tr th:only-of-type {\n",
       "        vertical-align: middle;\n",
       "    }\n",
       "\n",
       "    .dataframe tbody tr th {\n",
       "        vertical-align: top;\n",
       "    }\n",
       "\n",
       "    .dataframe thead th {\n",
       "        text-align: right;\n",
       "    }\n",
       "</style>\n",
       "<table border=\"1\" class=\"dataframe\">\n",
       "  <thead>\n",
       "    <tr style=\"text-align: right;\">\n",
       "      <th></th>\n",
       "      <th>#</th>\n",
       "      <th>Artiste</th>\n",
       "      <th>Titre</th>\n",
       "      <th>fileDate</th>\n",
       "      <th>freq</th>\n",
       "      <th>True_Target</th>\n",
       "    </tr>\n",
       "  </thead>\n",
       "  <tbody>\n",
       "    <tr>\n",
       "      <th>0</th>\n",
       "      <td>1</td>\n",
       "      <td>Dua Lipa feat. Angèle</td>\n",
       "      <td>Fever</td>\n",
       "      <td>20-11-14</td>\n",
       "      <td>17</td>\n",
       "      <td>True</td>\n",
       "    </tr>\n",
       "    <tr>\n",
       "      <th>1</th>\n",
       "      <td>2</td>\n",
       "      <td>24kGoldn feat. Iann Dior</td>\n",
       "      <td>Mood</td>\n",
       "      <td>20-11-14</td>\n",
       "      <td>17</td>\n",
       "      <td>True</td>\n",
       "    </tr>\n",
       "    <tr>\n",
       "      <th>2</th>\n",
       "      <td>3</td>\n",
       "      <td>Joel Corry feat. MNEK</td>\n",
       "      <td>Head &amp; Heart</td>\n",
       "      <td>20-11-14</td>\n",
       "      <td>14</td>\n",
       "      <td>True</td>\n",
       "    </tr>\n",
       "  </tbody>\n",
       "</table>\n",
       "</div>"
      ],
      "text/plain": [
       "   #                    Artiste         Titre  fileDate  freq  True_Target\n",
       "0  1     Dua Lipa feat. Angèle          Fever  20-11-14    17         True\n",
       "1  2  24kGoldn feat. Iann Dior           Mood  20-11-14    17         True\n",
       "2  3     Joel Corry feat. MNEK   Head & Heart  20-11-14    14         True"
      ]
     },
     "execution_count": 61,
     "metadata": {},
     "output_type": "execute_result"
    }
   ],
   "source": [
    "ultra.head(3)"
   ]
  },
  {
   "cell_type": "code",
   "execution_count": 62,
   "id": "aggressive-failing",
   "metadata": {},
   "outputs": [
    {
     "data": {
      "text/html": [
       "<div>\n",
       "<style scoped>\n",
       "    .dataframe tbody tr th:only-of-type {\n",
       "        vertical-align: middle;\n",
       "    }\n",
       "\n",
       "    .dataframe tbody tr th {\n",
       "        vertical-align: top;\n",
       "    }\n",
       "\n",
       "    .dataframe thead th {\n",
       "        text-align: right;\n",
       "    }\n",
       "</style>\n",
       "<table border=\"1\" class=\"dataframe\">\n",
       "  <thead>\n",
       "    <tr style=\"text-align: right;\">\n",
       "      <th></th>\n",
       "      <th>#</th>\n",
       "      <th>Artiste</th>\n",
       "      <th>Titre</th>\n",
       "      <th>fileDate</th>\n",
       "      <th>freq</th>\n",
       "      <th>True_Target</th>\n",
       "    </tr>\n",
       "  </thead>\n",
       "  <tbody>\n",
       "    <tr>\n",
       "      <th>0</th>\n",
       "      <td>1</td>\n",
       "      <td>Dua Lipa feat. Angèle</td>\n",
       "      <td>Fever</td>\n",
       "      <td>20-11-14</td>\n",
       "      <td>17</td>\n",
       "      <td>True</td>\n",
       "    </tr>\n",
       "    <tr>\n",
       "      <th>1</th>\n",
       "      <td>2</td>\n",
       "      <td>24kGoldn feat. Iann Dior</td>\n",
       "      <td>Mood</td>\n",
       "      <td>20-11-14</td>\n",
       "      <td>17</td>\n",
       "      <td>True</td>\n",
       "    </tr>\n",
       "  </tbody>\n",
       "</table>\n",
       "</div>"
      ],
      "text/plain": [
       "   #                    Artiste  Titre  fileDate  freq  True_Target\n",
       "0  1     Dua Lipa feat. Angèle   Fever  20-11-14    17         True\n",
       "1  2  24kGoldn feat. Iann Dior    Mood  20-11-14    17         True"
      ]
     },
     "execution_count": 62,
     "metadata": {},
     "output_type": "execute_result"
    }
   ],
   "source": [
    "ultra = ultra.head(2)\n",
    "ultra"
   ]
  },
  {
   "cell_type": "code",
   "execution_count": 63,
   "id": "bizarre-appliance",
   "metadata": {},
   "outputs": [
    {
     "data": {
      "text/plain": [
       "0      Dua Lipa feat. Angèle Fever\n",
       "1    24kGoldn feat. Iann Dior Mood\n",
       "dtype: object"
      ]
     },
     "execution_count": 63,
     "metadata": {},
     "output_type": "execute_result"
    }
   ],
   "source": [
    "ultra[['Artiste', 'Titre']].agg(''.join, axis=1)"
   ]
  },
  {
   "cell_type": "code",
   "execution_count": 69,
   "id": "isolated-emperor",
   "metadata": {},
   "outputs": [
    {
     "data": {
      "text/html": [
       "<div>\n",
       "<style scoped>\n",
       "    .dataframe tbody tr th:only-of-type {\n",
       "        vertical-align: middle;\n",
       "    }\n",
       "\n",
       "    .dataframe tbody tr th {\n",
       "        vertical-align: top;\n",
       "    }\n",
       "\n",
       "    .dataframe thead th {\n",
       "        text-align: right;\n",
       "    }\n",
       "</style>\n",
       "<table border=\"1\" class=\"dataframe\">\n",
       "  <thead>\n",
       "    <tr style=\"text-align: right;\">\n",
       "      <th></th>\n",
       "      <th>#</th>\n",
       "      <th>Artiste</th>\n",
       "      <th>Titre</th>\n",
       "      <th>fileDate</th>\n",
       "      <th>freq</th>\n",
       "      <th>True_Target</th>\n",
       "    </tr>\n",
       "  </thead>\n",
       "  <tbody>\n",
       "    <tr>\n",
       "      <th>0</th>\n",
       "      <td>1</td>\n",
       "      <td>Dua Lipa feat. Angèle</td>\n",
       "      <td>Fever</td>\n",
       "      <td>20-11-14</td>\n",
       "      <td>17</td>\n",
       "      <td>True</td>\n",
       "    </tr>\n",
       "    <tr>\n",
       "      <th>1</th>\n",
       "      <td>2</td>\n",
       "      <td>24kGoldn feat. Iann Dior</td>\n",
       "      <td>Mood</td>\n",
       "      <td>20-11-14</td>\n",
       "      <td>17</td>\n",
       "      <td>True</td>\n",
       "    </tr>\n",
       "  </tbody>\n",
       "</table>\n",
       "</div>"
      ],
      "text/plain": [
       "   #                    Artiste  Titre  fileDate  freq  True_Target\n",
       "0  1     Dua Lipa feat. Angèle   Fever  20-11-14    17         True\n",
       "1  2  24kGoldn feat. Iann Dior    Mood  20-11-14    17         True"
      ]
     },
     "execution_count": 69,
     "metadata": {},
     "output_type": "execute_result"
    }
   ],
   "source": [
    "data = ultra[[\"#\",\"Artiste\",\"Titre\",\"fileDate\",\"freq\",\"True_Target\"]]\n",
    "data"
   ]
  },
  {
   "cell_type": "code",
   "execution_count": 70,
   "id": "quiet-attraction",
   "metadata": {},
   "outputs": [
    {
     "data": {
      "text/plain": [
       "#                                   1\n",
       "Artiste        Dua Lipa feat. Angèle \n",
       "Titre                           Fever\n",
       "fileDate                     20-11-14\n",
       "freq                               17\n",
       "True_Target                      True\n",
       "Name: 0, dtype: object"
      ]
     },
     "execution_count": 70,
     "metadata": {},
     "output_type": "execute_result"
    }
   ],
   "source": [
    "ultra.iloc[0]"
   ]
  },
  {
   "cell_type": "code",
   "execution_count": 72,
   "id": "fatty-processor",
   "metadata": {},
   "outputs": [
    {
     "name": "stdout",
     "output_type": "stream",
     "text": [
      "Dua Lipa feat. Angèle Fever\n"
     ]
    },
    {
     "ename": "IndexError",
     "evalue": "list index out of range",
     "output_type": "error",
     "traceback": [
      "\u001b[0;31m---------------------------------------------------------------------------\u001b[0m",
      "\u001b[0;31mIndexError\u001b[0m                                Traceback (most recent call last)",
      "\u001b[0;32m<ipython-input-72-8e500d1aa570>\u001b[0m in \u001b[0;36m<module>\u001b[0;34m\u001b[0m\n\u001b[1;32m     15\u001b[0m         \u001b[0mresponse\u001b[0m \u001b[0;34m=\u001b[0m \u001b[0msp\u001b[0m\u001b[0;34m.\u001b[0m\u001b[0msearch\u001b[0m\u001b[0;34m(\u001b[0m\u001b[0mq\u001b[0m\u001b[0;34m=\u001b[0m\u001b[0martistTitre\u001b[0m\u001b[0;34m,\u001b[0m \u001b[0mlimit\u001b[0m\u001b[0;34m=\u001b[0m\u001b[0;36m1\u001b[0m\u001b[0;34m)\u001b[0m\u001b[0;34m\u001b[0m\u001b[0;34m\u001b[0m\u001b[0m\n\u001b[1;32m     16\u001b[0m \u001b[0;34m\u001b[0m\u001b[0m\n\u001b[0;32m---> 17\u001b[0;31m     \u001b[0mdata\u001b[0m\u001b[0;34m[\u001b[0m\u001b[0;34m\"CleanedTitle\"\u001b[0m\u001b[0;34m]\u001b[0m \u001b[0;34m=\u001b[0m \u001b[0;34m[\u001b[0m\u001b[0mtitle\u001b[0m\u001b[0;34m[\u001b[0m\u001b[0;34m'name'\u001b[0m\u001b[0;34m]\u001b[0m \u001b[0;32mfor\u001b[0m \u001b[0mtitle\u001b[0m \u001b[0;32min\u001b[0m \u001b[0mresponse\u001b[0m\u001b[0;34m[\u001b[0m\u001b[0;34m'tracks'\u001b[0m\u001b[0;34m]\u001b[0m\u001b[0;34m[\u001b[0m\u001b[0;34m'items'\u001b[0m\u001b[0;34m]\u001b[0m\u001b[0;34m]\u001b[0m\u001b[0;34m[\u001b[0m\u001b[0;36m0\u001b[0m\u001b[0;34m]\u001b[0m\u001b[0;34m\u001b[0m\u001b[0;34m\u001b[0m\u001b[0m\n\u001b[0m\u001b[1;32m     18\u001b[0m     \u001b[0mdata\u001b[0m\u001b[0;34m[\u001b[0m\u001b[0;34m\"id\"\u001b[0m\u001b[0;34m]\u001b[0m           \u001b[0;34m=\u001b[0m \u001b[0;34m[\u001b[0m\u001b[0mtitle\u001b[0m\u001b[0;34m[\u001b[0m\u001b[0;34m'id'\u001b[0m\u001b[0;34m]\u001b[0m \u001b[0;32mfor\u001b[0m \u001b[0mtitle\u001b[0m \u001b[0;32min\u001b[0m \u001b[0mresponse\u001b[0m\u001b[0;34m[\u001b[0m\u001b[0;34m'tracks'\u001b[0m\u001b[0;34m]\u001b[0m\u001b[0;34m[\u001b[0m\u001b[0;34m'items'\u001b[0m\u001b[0;34m]\u001b[0m\u001b[0;34m]\u001b[0m\u001b[0;34m[\u001b[0m\u001b[0;36m0\u001b[0m\u001b[0;34m]\u001b[0m\u001b[0;34m\u001b[0m\u001b[0;34m\u001b[0m\u001b[0m\n\u001b[1;32m     19\u001b[0m     \u001b[0mdata\u001b[0m\u001b[0;34m[\u001b[0m\u001b[0;34m\"popularity\"\u001b[0m\u001b[0;34m]\u001b[0m   \u001b[0;34m=\u001b[0m \u001b[0;34m[\u001b[0m\u001b[0mtitle\u001b[0m\u001b[0;34m[\u001b[0m\u001b[0;34m'popularity'\u001b[0m\u001b[0;34m]\u001b[0m \u001b[0;32mfor\u001b[0m \u001b[0mtitle\u001b[0m \u001b[0;32min\u001b[0m \u001b[0mresponse\u001b[0m\u001b[0;34m[\u001b[0m\u001b[0;34m'tracks'\u001b[0m\u001b[0;34m]\u001b[0m\u001b[0;34m[\u001b[0m\u001b[0;34m'items'\u001b[0m\u001b[0;34m]\u001b[0m\u001b[0;34m]\u001b[0m\u001b[0;34m[\u001b[0m\u001b[0;36m0\u001b[0m\u001b[0;34m]\u001b[0m\u001b[0;34m\u001b[0m\u001b[0;34m\u001b[0m\u001b[0m\n",
      "\u001b[0;31mIndexError\u001b[0m: list index out of range"
     ]
    }
   ],
   "source": [
    "data = pd.DataFrame()\n",
    "for i, artistTitre in enumerate(ultra[['Artiste', 'Titre']].agg(''.join, axis=1)):\n",
    "#     data[\"top50\"] = ultra[\"#\"][i]\n",
    "#     data[\"Artist\"] = ultra[\"Artiste\"].str.lower()\n",
    "#     data[\"Title\"] = ultra[\"Titre\"].str.lower()\n",
    "#     data[\"fileDate\"] = ultra[\"fileDate\"]\n",
    "#     data[\"freq\"] = ultra[\"freq\"]\n",
    "#     data[\"True_Target\"] = ultra[\"True_Target\"]\n",
    "    data = ultra.iloc[i]\n",
    "    \n",
    "    response = sp.search(q=artistTitre, limit=1)\n",
    "    print(artistTitre)\n",
    "    if response == []:\n",
    "        artistTitre.replace(r'feat. ', '')\n",
    "        response = sp.search(q=artistTitre, limit=1)\n",
    "\n",
    "    data[\"CleanedTitle\"] = [title['name'] for title in response['tracks']['items']][0]\n",
    "    data[\"id\"]           = [title['id'] for title in response['tracks']['items']][0]\n",
    "    data[\"popularity\"]   = [title['popularity'] for title in response['tracks']['items']][0]\n",
    "    \n",
    "    results = sp.audio_features(tracks=['6cx06DFPPHchuUAcTxznu9'])\n",
    "    data[\"danceability\"] = results[0]['danceability']\n",
    "    data[\"energy\"]       = results[0]['energy']\n",
    "    data[\"key\"]          = results[0]['key']\n",
    "    data[\"loudness\"]     = results[0]['loudness']\n",
    "    data[\"mode\"]         = results[0]['mode']\n",
    "    data[\"speechiness\"]  = results[0]['speechiness']\n",
    "    data[\"acousticness\"] = results[0]['acousticness']\n",
    "    data[\"instrumentalness\"] = results[0]['instrumentalness']\n",
    "    data[\"liveness\"]         = results[0]['liveness']\n",
    "    data[\"valence\"]          = results[0]['valence']\n",
    "    data[\"tempo\"]            = results[0]['tempo']\n",
    "    data[\"duration_ms\"]      = results[0]['duration_ms']\n",
    "    \n",
    "    data = data.append(data)"
   ]
  },
  {
   "cell_type": "code",
   "execution_count": 68,
   "id": "virtual-letter",
   "metadata": {},
   "outputs": [
    {
     "data": {
      "text/plain": [
       "#                                   1\n",
       "Artiste        Dua Lipa feat. Angèle \n",
       "Titre                           Fever\n",
       "fileDate                     20-11-14\n",
       "freq                               17\n",
       "True_Target                      True\n",
       "Name: 0, dtype: object"
      ]
     },
     "execution_count": 68,
     "metadata": {},
     "output_type": "execute_result"
    }
   ],
   "source": [
    "data"
   ]
  },
  {
   "cell_type": "code",
   "execution_count": null,
   "id": "welsh-programmer",
   "metadata": {},
   "outputs": [],
   "source": [
    "# response = sp.search(q=\"Joel Corry feat. MNEK Head & Heart\", limit=1)"
   ]
  },
  {
   "cell_type": "code",
   "execution_count": null,
   "id": "adolescent-damage",
   "metadata": {},
   "outputs": [],
   "source": []
  },
  {
   "cell_type": "markdown",
   "id": "fatty-cedar",
   "metadata": {},
   "source": [
    "## Enrich the ultratop PDF dataset with Spotify API"
   ]
  },
  {
   "cell_type": "code",
   "execution_count": null,
   "id": "mexican-message",
   "metadata": {},
   "outputs": [],
   "source": []
  },
  {
   "cell_type": "code",
   "execution_count": null,
   "id": "honest-assurance",
   "metadata": {},
   "outputs": [],
   "source": []
  },
  {
   "cell_type": "markdown",
   "id": "challenging-tumor",
   "metadata": {},
   "source": [
    "## Merge"
   ]
  },
  {
   "cell_type": "code",
   "execution_count": null,
   "id": "negative-boulder",
   "metadata": {},
   "outputs": [],
   "source": []
  }
 ],
 "metadata": {
  "kernelspec": {
   "display_name": "py38_datareport",
   "language": "python",
   "name": "conda-env-py38_datareport-py"
  },
  "language_info": {
   "codemirror_mode": {
    "name": "ipython",
    "version": 3
   },
   "file_extension": ".py",
   "mimetype": "text/x-python",
   "name": "python",
   "nbconvert_exporter": "python",
   "pygments_lexer": "ipython3",
   "version": "3.8.8"
  }
 },
 "nbformat": 4,
 "nbformat_minor": 5
}
