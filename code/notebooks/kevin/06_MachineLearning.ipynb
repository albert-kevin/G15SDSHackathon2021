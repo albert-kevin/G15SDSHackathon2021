{
 "cells": [
  {
   "cell_type": "markdown",
   "id": "understood-garage",
   "metadata": {},
   "source": [
    "Author: Kevin ALBERT  \n",
    "\n",
    "Created: March 2021"
   ]
  },
  {
   "cell_type": "markdown",
   "id": "geographic-potato",
   "metadata": {},
   "source": [
    "### Import open-source packages"
   ]
  },
  {
   "cell_type": "code",
   "execution_count": 1,
   "id": "adjusted-celebrity",
   "metadata": {},
   "outputs": [],
   "source": [
    "# environment packages\n",
    "import platform\n",
    "import psutil\n",
    "import os\n",
    "\n",
    "# other packages\n",
    "import pandas as pd\n",
    "import numpy as np\n",
    "import warnings\n",
    "warnings.filterwarnings(\"ignore\")\n",
    "pd.set_option('display.max_colwidth', 100) # default 50, the maximum width in characters of a column\n",
    "pd.set_option('display.max_columns', 40)   # default 20, the maximum amount of columns in view \n",
    "pd.set_option('display.max_rows', 60)      # default 60, the maximum amount of rows in view\n",
    "import logging\n",
    "import json\n",
    "import requests\n",
    "import joblib"
   ]
  },
  {
   "cell_type": "markdown",
   "id": "sudden-smile",
   "metadata": {},
   "source": [
    "### Import azure machine learning SDK packages"
   ]
  },
  {
   "cell_type": "code",
   "execution_count": 2,
   "id": "exact-ancient",
   "metadata": {},
   "outputs": [
    {
     "name": "stdout",
     "output_type": "stream",
     "text": [
      "azureml.core version: 1.24.0\n"
     ]
    }
   ],
   "source": [
    "from azureml.core import Workspace, Dataset, Datastore, Run\n",
    "from azureml.core.experiment import Experiment\n",
    "from azureml.data.datapath import DataPath\n",
    "from azureml.core.compute import ComputeTarget, AmlCompute, AksCompute\n",
    "from azureml.core.model import Model, InferenceConfig\n",
    "from azureml.train.automl import AutoMLConfig\n",
    "from azureml.train.automl.run import AutoMLRun\n",
    "from azureml.widgets import RunDetails\n",
    "from azureml.core.webservice import Webservice, AciWebservice, AksWebservice\n",
    "from azureml.exceptions import WebserviceException\n",
    "from azureml.core.environment import Environment\n",
    "from azureml.train.estimator import Estimator\n",
    "from azureml.core.conda_dependencies import CondaDependencies\n",
    "from azureml.train.hyperdrive.runconfig import HyperDriveConfig\n",
    "from azureml.train.hyperdrive.sampling import RandomParameterSampling, GridParameterSampling\n",
    "from azureml.train.hyperdrive.run import PrimaryMetricGoal\n",
    "from azureml.train.hyperdrive.parameter_expressions import choice\n",
    "from azureml.core.runconfig import RunConfiguration\n",
    "from azureml.pipeline.core import PipelineData, Pipeline\n",
    "from azureml.pipeline.steps import PythonScriptStep, EstimatorStep\n",
    "from azureml.pipeline.core.run import PipelineRun\n",
    "from azureml.core.authentication import InteractiveLoginAuthentication\n",
    "from azureml.interpret import ExplanationClient\n",
    "import azureml.core\n",
    "print(\"azureml.core version:\", azureml.core.__version__)"
   ]
  },
  {
   "cell_type": "markdown",
   "id": "expanded-initial",
   "metadata": {},
   "source": [
    "### Workspace"
   ]
  },
  {
   "cell_type": "code",
   "execution_count": 3,
   "id": "recreational-gregory",
   "metadata": {},
   "outputs": [],
   "source": [
    "# load the workspace\n",
    "ws = Workspace.from_config()"
   ]
  },
  {
   "cell_type": "markdown",
   "id": "alive-impossible",
   "metadata": {},
   "source": [
    "### Experiment"
   ]
  },
  {
   "cell_type": "code",
   "execution_count": 4,
   "id": "wired-spell",
   "metadata": {},
   "outputs": [],
   "source": [
    "# choose an experiment name\n",
    "experiment = Experiment(ws, 'automl-binary-classification-SDSHackathon')"
   ]
  },
  {
   "cell_type": "code",
   "execution_count": 5,
   "id": "olive-invitation",
   "metadata": {},
   "outputs": [],
   "source": [
    "dataset = pd.read_parquet(\"../../../data/platinum/dataset.parquet\")"
   ]
  },
  {
   "cell_type": "code",
   "execution_count": 6,
   "id": "great-liberal",
   "metadata": {},
   "outputs": [
    {
     "data": {
      "text/plain": [
       "Index(['#', 'Artiste_x', 'Titre', 'fileDate', 'freq', 'True_Target', 'album',\n",
       "       'Artiste_y', 'release_date', 'length', 'popularity', 'acousticness',\n",
       "       'danceability', 'energy', 'instrumentalness', 'liveness', 'loudness',\n",
       "       'speechiness', 'tempo', 'time_signature'],\n",
       "      dtype='object')"
      ]
     },
     "execution_count": 6,
     "metadata": {},
     "output_type": "execute_result"
    }
   ],
   "source": [
    "dataset.columns"
   ]
  },
  {
   "cell_type": "code",
   "execution_count": 22,
   "id": "endangered-printer",
   "metadata": {},
   "outputs": [
    {
     "data": {
      "text/html": [
       "<div>\n",
       "<style scoped>\n",
       "    .dataframe tbody tr th:only-of-type {\n",
       "        vertical-align: middle;\n",
       "    }\n",
       "\n",
       "    .dataframe tbody tr th {\n",
       "        vertical-align: top;\n",
       "    }\n",
       "\n",
       "    .dataframe thead th {\n",
       "        text-align: right;\n",
       "    }\n",
       "</style>\n",
       "<table border=\"1\" class=\"dataframe\">\n",
       "  <thead>\n",
       "    <tr style=\"text-align: right;\">\n",
       "      <th></th>\n",
       "      <th>True_Target</th>\n",
       "      <th>length</th>\n",
       "      <th>popularity</th>\n",
       "      <th>acousticness</th>\n",
       "      <th>danceability</th>\n",
       "      <th>energy</th>\n",
       "      <th>instrumentalness</th>\n",
       "      <th>liveness</th>\n",
       "      <th>loudness</th>\n",
       "      <th>speechiness</th>\n",
       "      <th>tempo</th>\n",
       "    </tr>\n",
       "  </thead>\n",
       "  <tbody>\n",
       "    <tr>\n",
       "      <th>50</th>\n",
       "      <td>True</td>\n",
       "      <td>228983</td>\n",
       "      <td>1</td>\n",
       "      <td>0.15</td>\n",
       "      <td>0.56</td>\n",
       "      <td>0.60</td>\n",
       "      <td>0.00</td>\n",
       "      <td>0.07</td>\n",
       "      <td>-6.16</td>\n",
       "      <td>0.06</td>\n",
       "      <td>104.76</td>\n",
       "    </tr>\n",
       "    <tr>\n",
       "      <th>41</th>\n",
       "      <td>True</td>\n",
       "      <td>278719</td>\n",
       "      <td>5</td>\n",
       "      <td>0.05</td>\n",
       "      <td>0.45</td>\n",
       "      <td>0.58</td>\n",
       "      <td>0.00</td>\n",
       "      <td>0.08</td>\n",
       "      <td>-6.76</td>\n",
       "      <td>0.03</td>\n",
       "      <td>139.63</td>\n",
       "    </tr>\n",
       "    <tr>\n",
       "      <th>13</th>\n",
       "      <td>True</td>\n",
       "      <td>219800</td>\n",
       "      <td>5</td>\n",
       "      <td>0.01</td>\n",
       "      <td>0.47</td>\n",
       "      <td>0.94</td>\n",
       "      <td>0.00</td>\n",
       "      <td>0.24</td>\n",
       "      <td>-3.68</td>\n",
       "      <td>0.05</td>\n",
       "      <td>75.05</td>\n",
       "    </tr>\n",
       "  </tbody>\n",
       "</table>\n",
       "</div>"
      ],
      "text/plain": [
       "    True_Target  length  popularity  acousticness  danceability  energy  \\\n",
       "50         True  228983           1          0.15          0.56    0.60   \n",
       "41         True  278719           5          0.05          0.45    0.58   \n",
       "13         True  219800           5          0.01          0.47    0.94   \n",
       "\n",
       "    instrumentalness  liveness  loudness  speechiness  tempo  \n",
       "50              0.00      0.07     -6.16         0.06 104.76  \n",
       "41              0.00      0.08     -6.76         0.03 139.63  \n",
       "13              0.00      0.24     -3.68         0.05  75.05  "
      ]
     },
     "execution_count": 22,
     "metadata": {},
     "output_type": "execute_result"
    }
   ],
   "source": [
    "dataset.sample(3)"
   ]
  },
  {
   "cell_type": "code",
   "execution_count": 14,
   "id": "temporal-corruption",
   "metadata": {},
   "outputs": [],
   "source": [
    "dataset.drop([\"#\",\"Artiste_x\",\"Titre\",\"fileDate\",\"freq\",\"album\",\"Artiste_y\",\"release_date\",\"time_signature\"], axis=1, inplace=True)"
   ]
  },
  {
   "cell_type": "code",
   "execution_count": 25,
   "id": "lightweight-alliance",
   "metadata": {},
   "outputs": [
    {
     "data": {
      "text/plain": [
       "43"
      ]
     },
     "execution_count": 25,
     "metadata": {},
     "output_type": "execute_result"
    }
   ],
   "source": [
    "dataset[\"True_Target\"].sum()"
   ]
  },
  {
   "cell_type": "code",
   "execution_count": 23,
   "id": "scenic-sauce",
   "metadata": {},
   "outputs": [
    {
     "data": {
      "text/plain": [
       "(58, 11)"
      ]
     },
     "execution_count": 23,
     "metadata": {},
     "output_type": "execute_result"
    }
   ],
   "source": [
    "dataset.shape"
   ]
  },
  {
   "cell_type": "code",
   "execution_count": 7,
   "id": "substantial-material",
   "metadata": {},
   "outputs": [],
   "source": [
    "# we are not going to split for now... use the whole dataset"
   ]
  },
  {
   "cell_type": "markdown",
   "id": "substantial-pillow",
   "metadata": {},
   "source": [
    "## Train"
   ]
  },
  {
   "cell_type": "code",
   "execution_count": 20,
   "id": "eligible-court",
   "metadata": {},
   "outputs": [],
   "source": [
    "automl_settings = {\n",
    "    \"enable_early_stopping\":True,\n",
    "    \"experiment_timeout_hours\":0.25,\n",
    "    \"iterations\":10, # number of runs\n",
    "    \"iteration_timeout_minutes\":5,\n",
    "    \"max_concurrent_iterations\":1,\n",
    "    \"max_cores_per_iteration\":-1,\n",
    "    #\"experiment_exit_score\":0.9920,\n",
    "    \"model_explainability\":True,\n",
    "    \"n_cross_validations\":5,\n",
    "    \"primary_metric\":'AUC_weighted', # we could use AUC_micro\n",
    "    \"featurization\":'auto',\n",
    "    \"verbosity\":logging.INFO, # {INFO, DEBUG, CRITICAL, ERROR, WARNING} -- debug_log=<*.log>\n",
    "}\n",
    "\n",
    "automl_config = AutoMLConfig(task='classification',\n",
    "                             debug_log='automl_errors.log',\n",
    "                             compute_target='local', # {training_cluster or 'local'}\n",
    "                             #blacklist_models=['KNN','LinearSVM'],\n",
    "                             enable_onnx_compatible_models=False,\n",
    "                             training_data=dataset,\n",
    "                             label_column_name=\"True_Target\", # the name of the target variable\n",
    "                             **automl_settings\n",
    "                            )\n",
    "# ouputs \"model.pkl\" and \"automl_errors.log\""
   ]
  },
  {
   "cell_type": "code",
   "execution_count": 21,
   "id": "coastal-destruction",
   "metadata": {},
   "outputs": [
    {
     "name": "stdout",
     "output_type": "stream",
     "text": [
      "Running on local machine\n",
      "Parent Run ID: AutoML_c72950d2-d712-4d0d-8938-aeb4cece943e\n",
      "\n",
      "Current status: DatasetEvaluation. Gathering dataset statistics.\n",
      "Current status: FeaturesGeneration. Generating features for the dataset.\n",
      "Current status: DatasetFeaturization. Beginning to fit featurizers and featurize the dataset.\n",
      "Current status: DatasetFeaturizationCompleted. Completed fit featurizers and featurizing the dataset.\n",
      "Current status: DatasetCrossValidationSplit. Generating individually featurized CV splits.\n",
      "\n",
      "****************************************************************************************************\n",
      "DATA GUARDRAILS: \n",
      "\n",
      "TYPE:         Class balancing detection\n",
      "STATUS:       PASSED\n",
      "DESCRIPTION:  Your inputs were analyzed, and all classes are balanced in your training data.\n",
      "              Learn more about imbalanced data: https://aka.ms/AutomatedMLImbalancedData\n",
      "\n",
      "****************************************************************************************************\n",
      "\n",
      "TYPE:         Missing feature values imputation\n",
      "STATUS:       PASSED\n",
      "DESCRIPTION:  No feature missing values were detected in the training data.\n",
      "              Learn more about missing value imputation: https://aka.ms/AutomatedMLFeaturization\n",
      "\n",
      "****************************************************************************************************\n",
      "\n",
      "TYPE:         High cardinality feature detection\n",
      "STATUS:       PASSED\n",
      "DESCRIPTION:  Your inputs were analyzed, and no high cardinality features were detected.\n",
      "              Learn more about high cardinality feature handling: https://aka.ms/AutomatedMLFeaturization\n",
      "\n",
      "****************************************************************************************************\n",
      "Current status: ModelSelection. Beginning model selection.\n",
      "\n",
      "****************************************************************************************************\n",
      "ITERATION: The iteration being evaluated.\n",
      "PIPELINE: A summary description of the pipeline being evaluated.\n",
      "DURATION: Time taken for the current iteration.\n",
      "METRIC: The result of computing score on the fitted pipeline.\n",
      "BEST: The best observed score thus far.\n",
      "****************************************************************************************************\n",
      "\n",
      " ITERATION   PIPELINE                                       DURATION      METRIC      BEST\n",
      "         0   MaxAbsScaler LightGBM                          0:00:36       0.4853    0.4853\n",
      "         1   MaxAbsScaler XGBoostClassifier                 0:00:41       0.5075    0.5075\n",
      "         2   MinMaxScaler RandomForest                      0:00:33       0.5117    0.5117\n",
      "         3   RobustScaler ExtremeRandomTrees                0:00:34       0.4064    0.5117\n",
      "         4   MinMaxScaler RandomForest                      0:00:34       0.4956    0.5117\n",
      "         5   MinMaxScaler RandomForest                      0:00:32       0.6204    0.6204\n",
      "         6   StandardScalerWrapper RandomForest             0:00:33       0.4240    0.6204\n",
      "         7   MinMaxScaler ExtremeRandomTrees                0:00:33       0.4575    0.6204\n",
      "         8   VotingEnsemble                                 0:00:36       0.6396    0.6396\n",
      "         9   StackEnsemble                                  0:00:39       0.5012    0.6396\n",
      "****************************************************************************************************\n",
      "Current status: BestRunExplainModel. Best run model explanations started\n",
      "Current status: ModelExplanationDataSetSetup. Model explanations data setup completed\n",
      "Current status: PickSurrogateModel. Choosing LightGBM as the surrogate model for explanations\n",
      "Current status: EngineeredFeatureExplanations. Computation of engineered features started\n",
      "Current status: EngineeredFeatureExplanations. Computation of engineered features completed\n",
      "Current status: RawFeaturesExplanations. Computation of raw features started\n",
      "Current status: RawFeaturesExplanations. Computation of raw features completed\n",
      "Current status: BestRunExplainModel. Best run model explanations completed\n",
      "****************************************************************************************************\n"
     ]
    }
   ],
   "source": [
    "automl_run = experiment.submit(automl_config, show_output=True)"
   ]
  },
  {
   "cell_type": "markdown",
   "id": "patent-insert",
   "metadata": {},
   "source": [
    "### explore the best pipeline"
   ]
  },
  {
   "cell_type": "code",
   "execution_count": 11,
   "id": "reverse-research",
   "metadata": {},
   "outputs": [
    {
     "data": {
      "application/vnd.jupyter.widget-view+json": {
       "model_id": "53423ddea08e4a2883481d961d82fdc4",
       "version_major": 2,
       "version_minor": 0
      },
      "text/plain": [
       "_AutoMLWidget(widget_settings={'childWidgetDisplay': 'popup', 'send_telemetry': False, 'log_level': 'INFO', 's…"
      ]
     },
     "metadata": {},
     "output_type": "display_data"
    },
    {
     "data": {
      "application/aml.mini.widget.v1": "{\"status\": \"Completed\", \"workbench_run_details_uri\": \"https://ml.azure.com/experiments/automl-binary-classification-SDSHackathon/runs/AutoML_78355921-ea00-42c0-9af3-6de918bebb7a?wsid=/subscriptions/43c1f93a-903d-4b23-a4bf-92bd7a150627/resourcegroups/myResourceGroup11/workspaces/machine_learning_workspace11\", \"run_id\": \"AutoML_78355921-ea00-42c0-9af3-6de918bebb7a\", \"run_properties\": {\"run_id\": \"AutoML_78355921-ea00-42c0-9af3-6de918bebb7a\", \"created_utc\": \"2021-03-12T23:58:51.702592Z\", \"properties\": {\"num_iterations\": \"10\", \"training_type\": \"TrainFull\", \"acquisition_function\": \"EI\", \"primary_metric\": \"AUC_weighted\", \"train_split\": \"0\", \"acquisition_parameter\": \"0\", \"num_cross_validation\": \"5\", \"target\": \"local\", \"AMLSettingsJsonString\": \"{\\\"path\\\":null,\\\"name\\\":\\\"automl-binary-classification-SDSHackathon\\\",\\\"subscription_id\\\":\\\"43c1f93a-903d-4b23-a4bf-92bd7a150627\\\",\\\"resource_group\\\":\\\"myResourceGroup11\\\",\\\"workspace_name\\\":\\\"machine_learning_workspace11\\\",\\\"region\\\":\\\"northeurope\\\",\\\"compute_target\\\":\\\"local\\\",\\\"spark_service\\\":null,\\\"azure_service\\\":\\\"remote\\\",\\\"many_models\\\":false,\\\"pipeline_fetch_max_batch_size\\\":1,\\\"enable_batch_run\\\":false,\\\"iterations\\\":10,\\\"primary_metric\\\":\\\"AUC_weighted\\\",\\\"task_type\\\":\\\"classification\\\",\\\"data_script\\\":null,\\\"validation_size\\\":0.0,\\\"n_cross_validations\\\":5,\\\"y_min\\\":null,\\\"y_max\\\":null,\\\"num_classes\\\":null,\\\"featurization\\\":\\\"auto\\\",\\\"_ignore_package_version_incompatibilities\\\":false,\\\"is_timeseries\\\":false,\\\"max_cores_per_iteration\\\":-1,\\\"max_concurrent_iterations\\\":1,\\\"iteration_timeout_minutes\\\":5,\\\"mem_in_mb\\\":null,\\\"enforce_time_on_windows\\\":false,\\\"experiment_timeout_minutes\\\":15,\\\"experiment_exit_score\\\":null,\\\"whitelist_models\\\":null,\\\"blacklist_algos\\\":[\\\"TensorFlowLinearClassifier\\\",\\\"TensorFlowDNN\\\"],\\\"supported_models\\\":[\\\"SVM\\\",\\\"GradientBoosting\\\",\\\"KNN\\\",\\\"SGD\\\",\\\"XGBoostClassifier\\\",\\\"AveragedPerceptronClassifier\\\",\\\"MultinomialNaiveBayes\\\",\\\"BernoulliNaiveBayes\\\",\\\"TensorFlowDNN\\\",\\\"DecisionTree\\\",\\\"ExtremeRandomTrees\\\",\\\"LightGBM\\\",\\\"LogisticRegression\\\",\\\"TensorFlowLinearClassifier\\\",\\\"LinearSVM\\\",\\\"RandomForest\\\"],\\\"private_models\\\":[],\\\"auto_blacklist\\\":true,\\\"blacklist_samples_reached\\\":false,\\\"exclude_nan_labels\\\":true,\\\"verbosity\\\":20,\\\"_debug_log\\\":\\\"automl_errors.log\\\",\\\"show_warnings\\\":false,\\\"model_explainability\\\":true,\\\"service_url\\\":null,\\\"sdk_url\\\":null,\\\"sdk_packages\\\":null,\\\"enable_onnx_compatible_models\\\":false,\\\"enable_split_onnx_featurizer_estimator_models\\\":false,\\\"vm_type\\\":null,\\\"telemetry_verbosity\\\":20,\\\"send_telemetry\\\":true,\\\"enable_dnn\\\":false,\\\"scenario\\\":\\\"SDK-1.13.0\\\",\\\"environment_label\\\":null,\\\"save_mlflow\\\":false,\\\"force_text_dnn\\\":false,\\\"enable_feature_sweeping\\\":true,\\\"enable_early_stopping\\\":true,\\\"early_stopping_n_iters\\\":10,\\\"metrics\\\":null,\\\"enable_metric_confidence\\\":false,\\\"enable_ensembling\\\":true,\\\"enable_stack_ensembling\\\":true,\\\"ensemble_iterations\\\":10,\\\"enable_tf\\\":false,\\\"enable_subsampling\\\":false,\\\"subsample_seed\\\":null,\\\"enable_nimbusml\\\":false,\\\"enable_streaming\\\":false,\\\"force_streaming\\\":false,\\\"track_child_runs\\\":true,\\\"allowed_private_models\\\":[],\\\"label_column_name\\\":\\\"isInTop50\\\",\\\"weight_column_name\\\":null,\\\"cv_split_column_names\\\":null,\\\"enable_local_managed\\\":false,\\\"_local_managed_run_id\\\":null,\\\"cost_mode\\\":1,\\\"lag_length\\\":0,\\\"metric_operation\\\":\\\"maximize\\\",\\\"preprocess\\\":true}\", \"DataPrepJsonString\": null, \"EnableSubsampling\": \"False\", \"runTemplate\": \"AutoML\", \"azureml.runsource\": \"automl\", \"display_task_type\": \"classification\", \"dependencies_versions\": \"{\\\"azureml-widgets\\\": \\\"1.24.0\\\", \\\"azureml-train-restclients-hyperdrive\\\": \\\"1.24.0\\\", \\\"azureml-train-core\\\": \\\"1.24.0\\\", \\\"azureml-train-automl\\\": \\\"1.24.0\\\", \\\"azureml-train-automl-runtime\\\": \\\"1.24.0\\\", \\\"azureml-train-automl-client\\\": \\\"1.24.0\\\", \\\"azureml-telemetry\\\": \\\"1.24.0\\\", \\\"azureml-pipeline-steps\\\": \\\"1.24.0\\\", \\\"azureml-pipeline-core\\\": \\\"1.24.0\\\", \\\"azureml-model-management-sdk\\\": \\\"1.0.1b6.post1\\\", \\\"azureml-interpret\\\": \\\"1.24.0\\\", \\\"azureml-defaults\\\": \\\"1.24.0\\\", \\\"azureml-dataset-runtime\\\": \\\"1.24.0\\\", \\\"azureml-dataprep\\\": \\\"2.11.1\\\", \\\"azureml-dataprep-rslex\\\": \\\"1.9.0\\\", \\\"azureml-dataprep-native\\\": \\\"30.0.0\\\", \\\"azureml-core\\\": \\\"1.24.0.post1\\\", \\\"azureml-automl-runtime\\\": \\\"1.24.0\\\", \\\"azureml-automl-core\\\": \\\"1.24.0\\\"}\", \"_aml_system_scenario_identification\": \"Local.Parent\", \"ClientSdkVersion\": \"1.24.0\", \"ClientType\": \"SDK\", \"environment_cpu_name\": \"AzureML-AutoML\", \"environment_cpu_label\": \"prod\", \"environment_gpu_name\": \"AzureML-AutoML-GPU\", \"environment_gpu_label\": \"prod\", \"root_attribution\": \"automl\", \"attribution\": \"AutoML\", \"Orchestrator\": \"AutoML\", \"_azureml.ComputeTargetType\": \"local\", \"ProblemInfoJsonString\": \"{\\\"dataset_num_categorical\\\": 0, \\\"is_sparse\\\": true, \\\"subsampling\\\": false, \\\"dataset_classes\\\": 2, \\\"dataset_features\\\": 7183, \\\"dataset_samples\\\": 6217, \\\"single_frequency_class_detected\\\": false}\", \"feature_skus\": \"automatedml_sdk_guardrails\", \"azureml.git.repository_uri\": \"https://github.com/albert-kevin/G15SDSHackathon2021.git\", \"mlflow.source.git.repoURL\": \"https://github.com/albert-kevin/G15SDSHackathon2021.git\", \"azureml.git.branch\": \"main\", \"mlflow.source.git.branch\": \"main\", \"azureml.git.commit\": \"9d6ffd36404d17b9b372a06c1a9bc44917de9852\", \"mlflow.source.git.commit\": \"9d6ffd36404d17b9b372a06c1a9bc44917de9852\", \"azureml.git.dirty\": \"True\"}, \"tags\": {\"model_explain_run\": \"best_run\", \"best_score\": \"0.5486733991895087\", \"best_pipeline\": \"VotingEnsemble\", \"automl_best_child_run_id\": \"AutoML_78355921-ea00-42c0-9af3-6de918bebb7a_8\", \"model_explain_best_run_child_id\": \"AutoML_78355921-ea00-42c0-9af3-6de918bebb7a_8\"}, \"end_time_utc\": \"2021-03-13T00:13:34.977479Z\", \"status\": \"Completed\", \"log_files\": {}, \"log_groups\": [], \"run_duration\": \"0:14:43\", \"run_number\": \"1\", \"run_queued_details\": {\"status\": \"Completed\", \"details\": null}}, \"child_runs\": [{\"run_id\": \"AutoML_78355921-ea00-42c0-9af3-6de918bebb7a_0\", \"run_number\": 2, \"metric\": null, \"status\": \"Failed\", \"run_type\": null, \"training_percent\": \"100\", \"start_time\": \"2021-03-12T23:59:29.463671Z\", \"end_time\": \"2021-03-13T00:04:34.178701Z\", \"created_time\": \"2021-03-12T23:59:29.329344Z\", \"created_time_dt\": \"2021-03-12T23:59:29.329344Z\", \"duration\": \"0:05:04\", \"iteration\": \"0\", \"goal\": \"AUC_weighted_max\", \"run_name\": \"MaxAbsScaler, LightGBM\", \"run_properties\": \"\"}, {\"run_id\": \"AutoML_78355921-ea00-42c0-9af3-6de918bebb7a_1\", \"run_number\": 3, \"metric\": null, \"status\": \"Completed\", \"run_type\": null, \"training_percent\": \"100\", \"start_time\": \"2021-03-13T00:04:34.607269Z\", \"end_time\": \"2021-03-13T00:06:45.976631Z\", \"created_time\": \"2021-03-13T00:04:34.465348Z\", \"created_time_dt\": \"2021-03-13T00:04:34.465348Z\", \"duration\": \"0:02:11\", \"iteration\": \"1\", \"goal\": \"AUC_weighted_max\", \"run_name\": \"MaxAbsScaler, XGBoostClassifier\", \"run_properties\": \"copy=True\", \"primary_metric\": 0.49879064, \"best_metric\": 0.49879064}, {\"run_id\": \"AutoML_78355921-ea00-42c0-9af3-6de918bebb7a_2\", \"run_number\": 4, \"metric\": null, \"status\": \"Completed\", \"run_type\": null, \"training_percent\": \"100\", \"start_time\": \"2021-03-13T00:06:46.809511Z\", \"end_time\": \"2021-03-13T00:07:23.809016Z\", \"created_time\": \"2021-03-13T00:06:46.652907Z\", \"created_time_dt\": \"2021-03-13T00:06:46.652907Z\", \"duration\": \"0:00:37\", \"iteration\": \"2\", \"goal\": \"AUC_weighted_max\", \"run_name\": \"MaxAbsScaler, RandomForest\", \"run_properties\": \"copy=True\", \"primary_metric\": 0.53108728, \"best_metric\": 0.53108728}, {\"run_id\": \"AutoML_78355921-ea00-42c0-9af3-6de918bebb7a_3\", \"run_number\": 5, \"metric\": null, \"status\": \"Completed\", \"run_type\": null, \"training_percent\": \"100\", \"start_time\": \"2021-03-13T00:07:25.38149Z\", \"end_time\": \"2021-03-13T00:08:01.866019Z\", \"created_time\": \"2021-03-13T00:07:25.239872Z\", \"created_time_dt\": \"2021-03-13T00:07:25.239872Z\", \"duration\": \"0:00:36\", \"iteration\": \"3\", \"goal\": \"AUC_weighted_max\", \"run_name\": \"MaxAbsScaler, RandomForest\", \"run_properties\": \"copy=True\", \"primary_metric\": 0.44885969, \"best_metric\": 0.53108728}, {\"run_id\": \"AutoML_78355921-ea00-42c0-9af3-6de918bebb7a_4\", \"run_number\": 6, \"metric\": null, \"status\": \"Completed\", \"run_type\": null, \"training_percent\": \"100\", \"start_time\": \"2021-03-13T00:08:03.311017Z\", \"end_time\": \"2021-03-13T00:08:39.185564Z\", \"created_time\": \"2021-03-13T00:08:03.167812Z\", \"created_time_dt\": \"2021-03-13T00:08:03.167812Z\", \"duration\": \"0:00:36\", \"iteration\": \"4\", \"goal\": \"AUC_weighted_max\", \"run_name\": \"MaxAbsScaler, RandomForest\", \"run_properties\": \"copy=True\", \"primary_metric\": 0.47014023, \"best_metric\": 0.53108728}, {\"run_id\": \"AutoML_78355921-ea00-42c0-9af3-6de918bebb7a_5\", \"run_number\": 7, \"metric\": null, \"status\": \"Completed\", \"run_type\": null, \"training_percent\": \"100\", \"start_time\": \"2021-03-13T00:08:40.493879Z\", \"end_time\": \"2021-03-13T00:09:16.638136Z\", \"created_time\": \"2021-03-13T00:08:40.33278Z\", \"created_time_dt\": \"2021-03-13T00:08:40.33278Z\", \"duration\": \"0:00:36\", \"iteration\": \"5\", \"goal\": \"AUC_weighted_max\", \"run_name\": \"MaxAbsScaler, ExtremeRandomTrees\", \"run_properties\": \"copy=True\", \"primary_metric\": 0.44528274, \"best_metric\": 0.53108728}, {\"run_id\": \"AutoML_78355921-ea00-42c0-9af3-6de918bebb7a_6\", \"run_number\": 8, \"metric\": null, \"status\": \"Completed\", \"run_type\": null, \"training_percent\": \"100\", \"start_time\": \"2021-03-13T00:09:19.281692Z\", \"end_time\": \"2021-03-13T00:09:58.884173Z\", \"created_time\": \"2021-03-13T00:09:18.884648Z\", \"created_time_dt\": \"2021-03-13T00:09:18.884648Z\", \"duration\": \"0:00:39\", \"iteration\": \"6\", \"goal\": \"AUC_weighted_max\", \"run_name\": \"MaxAbsScaler, ExtremeRandomTrees\", \"run_properties\": \"copy=True\", \"primary_metric\": 0.52812073, \"best_metric\": 0.53108728}, {\"run_id\": \"AutoML_78355921-ea00-42c0-9af3-6de918bebb7a_7\", \"run_number\": 9, \"metric\": null, \"status\": \"Completed\", \"run_type\": null, \"training_percent\": \"100\", \"start_time\": \"2021-03-13T00:10:00.480193Z\", \"end_time\": \"2021-03-13T00:10:41.1544Z\", \"created_time\": \"2021-03-13T00:10:00.3477Z\", \"created_time_dt\": \"2021-03-13T00:10:00.3477Z\", \"duration\": \"0:00:40\", \"iteration\": \"7\", \"goal\": \"AUC_weighted_max\", \"run_name\": \"MaxAbsScaler, ExtremeRandomTrees\", \"run_properties\": \"copy=True\", \"primary_metric\": 0.54124497, \"best_metric\": 0.54124497}, {\"run_id\": \"AutoML_78355921-ea00-42c0-9af3-6de918bebb7a_8\", \"run_number\": 10, \"metric\": null, \"status\": \"Completed\", \"run_type\": null, \"training_percent\": \"100\", \"start_time\": \"2021-03-13T00:10:42.299564Z\", \"end_time\": \"2021-03-13T00:11:20.356095Z\", \"created_time\": \"2021-03-13T00:10:41.951002Z\", \"created_time_dt\": \"2021-03-13T00:10:41.951002Z\", \"duration\": \"0:00:38\", \"iteration\": \"8\", \"goal\": \"AUC_weighted_max\", \"run_name\": \"VotingEnsemble\", \"run_properties\": \"classification_labels=None,\\n                              estimators=[('7',\\n                                           Pipeline(memory=None,\\n                                                    steps=[('maxabsscaler',\\n                                                            MaxAbsScaler(copy=True\", \"primary_metric\": 0.5486734, \"best_metric\": 0.5486734}, {\"run_id\": \"AutoML_78355921-ea00-42c0-9af3-6de918bebb7a_9\", \"run_number\": 11, \"metric\": null, \"status\": \"Completed\", \"run_type\": null, \"training_percent\": \"100\", \"start_time\": \"2021-03-13T00:11:20.822996Z\", \"end_time\": \"2021-03-13T00:13:33.012801Z\", \"created_time\": \"2021-03-13T00:11:20.680861Z\", \"created_time_dt\": \"2021-03-13T00:11:20.680861Z\", \"duration\": \"0:02:12\", \"iteration\": \"9\", \"goal\": \"AUC_weighted_max\", \"run_name\": \"StackEnsemble\", \"run_properties\": \"base_learners=[('7',\\n                                        Pipeline(memory=None,\\n                                                 steps=[('maxabsscaler',\\n                                                         MaxAbsScaler(copy=True\", \"primary_metric\": 0.40677832, \"best_metric\": 0.5486734}], \"children_metrics\": {\"categories\": [0], \"series\": {\"recall_score_macro\": [{\"categories\": [\"1\", \"2\", \"3\", \"4\", \"5\", \"6\", \"7\", \"8\", \"9\"], \"mode\": \"markers\", \"name\": \"recall_score_macro\", \"stepped\": false, \"type\": \"scatter\", \"data\": [0.5, 0.5, 0.44885968714291347, 0.5, 0.5, 0.5, 0.5, 0.5, 0.5]}, {\"categories\": [\"1\", \"2\", \"3\", \"4\", \"5\", \"6\", \"7\", \"8\", \"9\"], \"mode\": \"lines\", \"name\": \"recall_score_macro_max\", \"stepped\": true, \"type\": \"scatter\", \"data\": [0.5, 0.5, 0.5, 0.5, 0.5, 0.5, 0.5, 0.5, 0.5]}], \"precision_score_micro\": [{\"categories\": [\"1\", \"2\", \"3\", \"4\", \"5\", \"6\", \"7\", \"8\", \"9\"], \"mode\": \"markers\", \"name\": \"precision_score_micro\", \"stepped\": false, \"type\": \"scatter\", \"data\": [0.9919577932240482, 0.9919577932240482, 0.1629454203992519, 0.9919577932240482, 0.9919577932240482, 0.9919577932240482, 0.9919577932240482, 0.9919577932240482, 0.9919577932240482]}, {\"categories\": [\"1\", \"2\", \"3\", \"4\", \"5\", \"6\", \"7\", \"8\", \"9\"], \"mode\": \"lines\", \"name\": \"precision_score_micro_max\", \"stepped\": true, \"type\": \"scatter\", \"data\": [0.9919577932240482, 0.9919577932240482, 0.9919577932240482, 0.9919577932240482, 0.9919577932240482, 0.9919577932240482, 0.9919577932240482, 0.9919577932240482, 0.9919577932240482]}], \"matthews_correlation\": [{\"categories\": [\"1\", \"2\", \"3\", \"4\", \"5\", \"6\", \"7\", \"8\", \"9\"], \"mode\": \"markers\", \"name\": \"matthews_correlation\", \"stepped\": false, \"type\": \"scatter\", \"data\": [0.0, 0.0, -0.017515977913615983, 0.0, 0.0, 0.0, 0.0, 0.0, 0.0]}, {\"categories\": [\"1\", \"2\", \"3\", \"4\", \"5\", \"6\", \"7\", \"8\", \"9\"], \"mode\": \"lines\", \"name\": \"matthews_correlation_max\", \"stepped\": true, \"type\": \"scatter\", \"data\": [0.0, 0.0, 0.0, 0.0, 0.0, 0.0, 0.0, 0.0, 0.0]}], \"recall_score_micro\": [{\"categories\": [\"1\", \"2\", \"3\", \"4\", \"5\", \"6\", \"7\", \"8\", \"9\"], \"mode\": \"markers\", \"name\": \"recall_score_micro\", \"stepped\": false, \"type\": \"scatter\", \"data\": [0.9919577932240482, 0.9919577932240482, 0.1629454203992519, 0.9919577932240482, 0.9919577932240482, 0.9919577932240482, 0.9919577932240482, 0.9919577932240482, 0.9919577932240482]}, {\"categories\": [\"1\", \"2\", \"3\", \"4\", \"5\", \"6\", \"7\", \"8\", \"9\"], \"mode\": \"lines\", \"name\": \"recall_score_micro_max\", \"stepped\": true, \"type\": \"scatter\", \"data\": [0.9919577932240482, 0.9919577932240482, 0.9919577932240482, 0.9919577932240482, 0.9919577932240482, 0.9919577932240482, 0.9919577932240482, 0.9919577932240482, 0.9919577932240482]}], \"AUC_macro\": [{\"categories\": [\"1\", \"2\", \"3\", \"4\", \"5\", \"6\", \"7\", \"8\", \"9\"], \"mode\": \"markers\", \"name\": \"AUC_macro\", \"stepped\": false, \"type\": \"scatter\", \"data\": [0.4987906391501973, 0.5310872761049117, 0.44885968714291347, 0.47014023120798987, 0.44528274135803764, 0.5281207292775816, 0.541244965294819, 0.5486733991895087, 0.40677831867263353]}, {\"categories\": [\"1\", \"2\", \"3\", \"4\", \"5\", \"6\", \"7\", \"8\", \"9\"], \"mode\": \"lines\", \"name\": \"AUC_macro_max\", \"stepped\": true, \"type\": \"scatter\", \"data\": [0.4987906391501973, 0.5310872761049117, 0.5310872761049117, 0.5310872761049117, 0.5310872761049117, 0.5310872761049117, 0.541244965294819, 0.5486733991895087, 0.5486733991895087]}], \"precision_score_macro\": [{\"categories\": [\"1\", \"2\", \"3\", \"4\", \"5\", \"6\", \"7\", \"8\", \"9\"], \"mode\": \"markers\", \"name\": \"precision_score_macro\", \"stepped\": false, \"type\": \"scatter\", \"data\": [0.4959788966120241, 0.4959788966120241, 0.20085258843123616, 0.4959788966120241, 0.4959788966120241, 0.4959788966120241, 0.4959788966120241, 0.4959788966120241, 0.4959788966120241]}, {\"categories\": [\"1\", \"2\", \"3\", \"4\", \"5\", \"6\", \"7\", \"8\", \"9\"], \"mode\": \"lines\", \"name\": \"precision_score_macro_max\", \"stepped\": true, \"type\": \"scatter\", \"data\": [0.4959788966120241, 0.4959788966120241, 0.4959788966120241, 0.4959788966120241, 0.4959788966120241, 0.4959788966120241, 0.4959788966120241, 0.4959788966120241, 0.4959788966120241]}], \"f1_score_micro\": [{\"categories\": [\"1\", \"2\", \"3\", \"4\", \"5\", \"6\", \"7\", \"8\", \"9\"], \"mode\": \"markers\", \"name\": \"f1_score_micro\", \"stepped\": false, \"type\": \"scatter\", \"data\": [0.9919577932240482, 0.9919577932240482, 0.1629454203992519, 0.9919577932240482, 0.9919577932240482, 0.9919577932240482, 0.9919577932240482, 0.9919577932240482, 0.9919577932240482]}, {\"categories\": [\"1\", \"2\", \"3\", \"4\", \"5\", \"6\", \"7\", \"8\", \"9\"], \"mode\": \"lines\", \"name\": \"f1_score_micro_max\", \"stepped\": true, \"type\": \"scatter\", \"data\": [0.9919577932240482, 0.9919577932240482, 0.9919577932240482, 0.9919577932240482, 0.9919577932240482, 0.9919577932240482, 0.9919577932240482, 0.9919577932240482, 0.9919577932240482]}], \"precision_score_weighted\": [{\"categories\": [\"1\", \"2\", \"3\", \"4\", \"5\", \"6\", \"7\", \"8\", \"9\"], \"mode\": \"markers\", \"name\": \"precision_score_weighted\", \"stepped\": false, \"type\": \"scatter\", \"data\": [0.9839867275137297, 0.9839867275137297, 0.39186896508471, 0.9839867275137297, 0.9839867275137297, 0.9839867275137297, 0.9839867275137297, 0.9839867275137297, 0.9839867275137297]}, {\"categories\": [\"1\", \"2\", \"3\", \"4\", \"5\", \"6\", \"7\", \"8\", \"9\"], \"mode\": \"lines\", \"name\": \"precision_score_weighted_max\", \"stepped\": true, \"type\": \"scatter\", \"data\": [0.9839867275137297, 0.9839867275137297, 0.9839867275137297, 0.9839867275137297, 0.9839867275137297, 0.9839867275137297, 0.9839867275137297, 0.9839867275137297, 0.9839867275137297]}], \"average_precision_score_macro\": [{\"categories\": [\"1\", \"2\", \"3\", \"4\", \"5\", \"6\", \"7\", \"8\", \"9\"], \"mode\": \"markers\", \"name\": \"average_precision_score_macro\", \"stepped\": false, \"type\": \"scatter\", \"data\": [0.5008115329483318, 0.5050343994260997, 0.4994289087320219, 0.4996802841306109, 0.5076569491434177, 0.5026966498519669, 0.5008484916829018, 0.5036493574127856, 0.4994807316849997]}, {\"categories\": [\"1\", \"2\", \"3\", \"4\", \"5\", \"6\", \"7\", \"8\", \"9\"], \"mode\": \"lines\", \"name\": \"average_precision_score_macro_max\", \"stepped\": true, \"type\": \"scatter\", \"data\": [0.5008115329483318, 0.5050343994260997, 0.5050343994260997, 0.5050343994260997, 0.5076569491434177, 0.5076569491434177, 0.5076569491434177, 0.5076569491434177, 0.5076569491434177]}], \"f1_score_macro\": [{\"categories\": [\"1\", \"2\", \"3\", \"4\", \"5\", \"6\", \"7\", \"8\", \"9\"], \"mode\": \"markers\", \"name\": \"f1_score_macro\", \"stepped\": false, \"type\": \"scatter\", \"data\": [0.4979805136013737, 0.4979805136013737, 0.11783850917418806, 0.4979805136013737, 0.4979805136013737, 0.4979805136013737, 0.4979805136013737, 0.4979805136013737, 0.4979805136013737]}, {\"categories\": [\"1\", \"2\", \"3\", \"4\", \"5\", \"6\", \"7\", \"8\", \"9\"], \"mode\": \"lines\", \"name\": \"f1_score_macro_max\", \"stepped\": true, \"type\": \"scatter\", \"data\": [0.4979805136013737, 0.4979805136013737, 0.4979805136013737, 0.4979805136013737, 0.4979805136013737, 0.4979805136013737, 0.4979805136013737, 0.4979805136013737, 0.4979805136013737]}], \"recall_score_weighted\": [{\"categories\": [\"1\", \"2\", \"3\", \"4\", \"5\", \"6\", \"7\", \"8\", \"9\"], \"mode\": \"markers\", \"name\": \"recall_score_weighted\", \"stepped\": false, \"type\": \"scatter\", \"data\": [0.9919577932240482, 0.9919577932240482, 0.1629454203992519, 0.9919577932240482, 0.9919577932240482, 0.9919577932240482, 0.9919577932240482, 0.9919577932240482, 0.9919577932240482]}, {\"categories\": [\"1\", \"2\", \"3\", \"4\", \"5\", \"6\", \"7\", \"8\", \"9\"], \"mode\": \"lines\", \"name\": \"recall_score_weighted_max\", \"stepped\": true, \"type\": \"scatter\", \"data\": [0.9919577932240482, 0.9919577932240482, 0.9919577932240482, 0.9919577932240482, 0.9919577932240482, 0.9919577932240482, 0.9919577932240482, 0.9919577932240482, 0.9919577932240482]}], \"average_precision_score_micro\": [{\"categories\": [\"1\", \"2\", \"3\", \"4\", \"5\", \"6\", \"7\", \"8\", \"9\"], \"mode\": \"markers\", \"name\": \"average_precision_score_micro\", \"stepped\": false, \"type\": \"scatter\", \"data\": [0.989252591210151, 0.989187282722247, 0.484729105350434, 0.9876920893206252, 0.9876496117967234, 0.9894100363789804, 0.989305465623052, 0.9902775270767575, 0.9865837252572691]}, {\"categories\": [\"1\", \"2\", \"3\", \"4\", \"5\", \"6\", \"7\", \"8\", \"9\"], \"mode\": \"lines\", \"name\": \"average_precision_score_micro_max\", \"stepped\": true, \"type\": \"scatter\", \"data\": [0.989252591210151, 0.989252591210151, 0.989252591210151, 0.989252591210151, 0.989252591210151, 0.9894100363789804, 0.9894100363789804, 0.9902775270767575, 0.9902775270767575]}], \"weighted_accuracy\": [{\"categories\": [\"1\", \"2\", \"3\", \"4\", \"5\", \"6\", \"7\", \"8\", \"9\"], \"mode\": \"markers\", \"name\": \"weighted_accuracy\", \"stepped\": false, \"type\": \"scatter\", \"data\": [0.9999275061179487, 0.9999275061179487, 0.1577672700711421, 0.9999275061179487, 0.9999275061179487, 0.9999275061179487, 0.9999275061179487, 0.9999275061179487, 0.9999275061179487]}, {\"categories\": [\"1\", \"2\", \"3\", \"4\", \"5\", \"6\", \"7\", \"8\", \"9\"], \"mode\": \"lines\", \"name\": \"weighted_accuracy_max\", \"stepped\": true, \"type\": \"scatter\", \"data\": [0.9999275061179487, 0.9999275061179487, 0.9999275061179487, 0.9999275061179487, 0.9999275061179487, 0.9999275061179487, 0.9999275061179487, 0.9999275061179487, 0.9999275061179487]}], \"norm_macro_recall\": [{\"categories\": [\"1\", \"2\", \"3\", \"4\", \"5\", \"6\", \"7\", \"8\", \"9\"], \"mode\": \"markers\", \"name\": \"norm_macro_recall\", \"stepped\": false, \"type\": \"scatter\", \"data\": [0.0, 0.0, 0.0, 0.0, 0.0, 0.0, 0.0, 0.0, 0.0]}, {\"categories\": [\"1\", \"2\", \"3\", \"4\", \"5\", \"6\", \"7\", \"8\", \"9\"], \"mode\": \"lines\", \"name\": \"norm_macro_recall_max\", \"stepped\": true, \"type\": \"scatter\", \"data\": [0.0, 0.0, 0.0, 0.0, 0.0, 0.0, 0.0, 0.0, 0.0]}], \"balanced_accuracy\": [{\"categories\": [\"1\", \"2\", \"3\", \"4\", \"5\", \"6\", \"7\", \"8\", \"9\"], \"mode\": \"markers\", \"name\": \"balanced_accuracy\", \"stepped\": false, \"type\": \"scatter\", \"data\": [0.5, 0.5, 0.44885968714291347, 0.5, 0.5, 0.5, 0.5, 0.5, 0.5]}, {\"categories\": [\"1\", \"2\", \"3\", \"4\", \"5\", \"6\", \"7\", \"8\", \"9\"], \"mode\": \"lines\", \"name\": \"balanced_accuracy_max\", \"stepped\": true, \"type\": \"scatter\", \"data\": [0.5, 0.5, 0.5, 0.5, 0.5, 0.5, 0.5, 0.5, 0.5]}], \"f1_score_weighted\": [{\"categories\": [\"1\", \"2\", \"3\", \"4\", \"5\", \"6\", \"7\", \"8\", \"9\"], \"mode\": \"markers\", \"name\": \"f1_score_weighted\", \"stepped\": false, \"type\": \"scatter\", \"data\": [0.9879545592453489, 0.9879545592453489, 0.22062192654449592, 0.9879545592453489, 0.9879545592453489, 0.9879545592453489, 0.9879545592453489, 0.9879545592453489, 0.9879545592453489]}, {\"categories\": [\"1\", \"2\", \"3\", \"4\", \"5\", \"6\", \"7\", \"8\", \"9\"], \"mode\": \"lines\", \"name\": \"f1_score_weighted_max\", \"stepped\": true, \"type\": \"scatter\", \"data\": [0.9879545592453489, 0.9879545592453489, 0.9879545592453489, 0.9879545592453489, 0.9879545592453489, 0.9879545592453489, 0.9879545592453489, 0.9879545592453489, 0.9879545592453489]}], \"average_precision_score_weighted\": [{\"categories\": [\"1\", \"2\", \"3\", \"4\", \"5\", \"6\", \"7\", \"8\", \"9\"], \"mode\": \"markers\", \"name\": \"average_precision_score_weighted\", \"stepped\": false, \"type\": \"scatter\", \"data\": [0.9838025365044676, 0.984613534926963, 0.9833491111134995, 0.9835781793995461, 0.9825763873864082, 0.9839470997543446, 0.9847253341087588, 0.9847285438633229, 0.9814878401093754]}, {\"categories\": [\"1\", \"2\", \"3\", \"4\", \"5\", \"6\", \"7\", \"8\", \"9\"], \"mode\": \"lines\", \"name\": \"average_precision_score_weighted_max\", \"stepped\": true, \"type\": \"scatter\", \"data\": [0.9838025365044676, 0.984613534926963, 0.984613534926963, 0.984613534926963, 0.984613534926963, 0.984613534926963, 0.9847253341087588, 0.9847285438633229, 0.9847285438633229]}], \"accuracy\": [{\"categories\": [\"1\", \"2\", \"3\", \"4\", \"5\", \"6\", \"7\", \"8\", \"9\"], \"mode\": \"markers\", \"name\": \"accuracy\", \"stepped\": false, \"type\": \"scatter\", \"data\": [0.9919577932240482, 0.9919577932240482, 0.1629454203992519, 0.9919577932240482, 0.9919577932240482, 0.9919577932240482, 0.9919577932240482, 0.9919577932240482, 0.9919577932240482]}, {\"categories\": [\"1\", \"2\", \"3\", \"4\", \"5\", \"6\", \"7\", \"8\", \"9\"], \"mode\": \"lines\", \"name\": \"accuracy_max\", \"stepped\": true, \"type\": \"scatter\", \"data\": [0.9919577932240482, 0.9919577932240482, 0.9919577932240482, 0.9919577932240482, 0.9919577932240482, 0.9919577932240482, 0.9919577932240482, 0.9919577932240482, 0.9919577932240482]}], \"log_loss\": [{\"categories\": [\"1\", \"2\", \"3\", \"4\", \"5\", \"6\", \"7\", \"8\", \"9\"], \"mode\": \"markers\", \"name\": \"log_loss\", \"stepped\": false, \"type\": \"scatter\", \"data\": [0.050696729522226446, 0.046913049990772206, 0.7053101575443136, 0.04713297172471294, 0.04864339726751952, 0.047570633594516895, 0.047005509683626004, 0.047003632540522006, 0.04725651563101506]}, {\"categories\": [\"1\", \"2\", \"3\", \"4\", \"5\", \"6\", \"7\", \"8\", \"9\"], \"mode\": \"lines\", \"name\": \"log_loss_min\", \"stepped\": true, \"type\": \"scatter\", \"data\": [0.050696729522226446, 0.046913049990772206, 0.046913049990772206, 0.046913049990772206, 0.046913049990772206, 0.046913049990772206, 0.046913049990772206, 0.046913049990772206, 0.046913049990772206]}], \"AUC_micro\": [{\"categories\": [\"1\", \"2\", \"3\", \"4\", \"5\", \"6\", \"7\", \"8\", \"9\"], \"mode\": \"markers\", \"name\": \"AUC_micro\", \"stepped\": false, \"type\": \"scatter\", \"data\": [0.9919698272045437, 0.9924038979600764, 0.0734822058626022, 0.991459780385059, 0.9909082302681492, 0.9920922486470382, 0.9926017247924174, 0.9924864814771418, 0.9904342077435896]}, {\"categories\": [\"1\", \"2\", \"3\", \"4\", \"5\", \"6\", \"7\", \"8\", \"9\"], \"mode\": \"lines\", \"name\": \"AUC_micro_max\", \"stepped\": true, \"type\": \"scatter\", \"data\": [0.9919698272045437, 0.9924038979600764, 0.9924038979600764, 0.9924038979600764, 0.9924038979600764, 0.9924038979600764, 0.9926017247924174, 0.9926017247924174, 0.9926017247924174]}], \"AUC_weighted\": [{\"categories\": [\"1\", \"2\", \"3\", \"4\", \"5\", \"6\", \"7\", \"8\", \"9\"], \"mode\": \"markers\", \"name\": \"AUC_weighted\", \"stepped\": false, \"type\": \"scatter\", \"data\": [0.4987906391501973, 0.5310872761049116, 0.44885968714291347, 0.47014023120798987, 0.44528274135803764, 0.5281207292775816, 0.541244965294819, 0.5486733991895087, 0.40677831867263353]}, {\"categories\": [\"1\", \"2\", \"3\", \"4\", \"5\", \"6\", \"7\", \"8\", \"9\"], \"mode\": \"lines\", \"name\": \"AUC_weighted_max\", \"stepped\": true, \"type\": \"scatter\", \"data\": [0.4987906391501973, 0.5310872761049116, 0.5310872761049116, 0.5310872761049116, 0.5310872761049116, 0.5310872761049116, 0.541244965294819, 0.5486733991895087, 0.5486733991895087]}]}, \"metricName\": null, \"primaryMetricName\": \"AUC_weighted\", \"showLegend\": false}, \"run_metrics\": [{\"name\": \"AUC_micro\", \"run_id\": \"AutoML_78355921-ea00-42c0-9af3-6de918bebb7a\", \"categories\": [0], \"series\": [{\"data\": [0.9924864814771418]}]}, {\"name\": \"f1_score_micro\", \"run_id\": \"AutoML_78355921-ea00-42c0-9af3-6de918bebb7a\", \"categories\": [0], \"series\": [{\"data\": [0.9919577932240482]}]}, {\"name\": \"matthews_correlation\", \"run_id\": \"AutoML_78355921-ea00-42c0-9af3-6de918bebb7a\", \"categories\": [0], \"series\": [{\"data\": [0.0]}]}, {\"name\": \"norm_macro_recall\", \"run_id\": \"AutoML_78355921-ea00-42c0-9af3-6de918bebb7a\", \"categories\": [0], \"series\": [{\"data\": [0.0]}]}, {\"name\": \"accuracy\", \"run_id\": \"AutoML_78355921-ea00-42c0-9af3-6de918bebb7a\", \"categories\": [0], \"series\": [{\"data\": [0.9919577932240482]}]}, {\"name\": \"precision_score_macro\", \"run_id\": \"AutoML_78355921-ea00-42c0-9af3-6de918bebb7a\", \"categories\": [0], \"series\": [{\"data\": [0.4959788966120241]}]}, {\"name\": \"AUC_macro\", \"run_id\": \"AutoML_78355921-ea00-42c0-9af3-6de918bebb7a\", \"categories\": [0], \"series\": [{\"data\": [0.5486733991895087]}]}, {\"name\": \"f1_score_weighted\", \"run_id\": \"AutoML_78355921-ea00-42c0-9af3-6de918bebb7a\", \"categories\": [0], \"series\": [{\"data\": [0.9879545592453489]}]}, {\"name\": \"log_loss\", \"run_id\": \"AutoML_78355921-ea00-42c0-9af3-6de918bebb7a\", \"categories\": [0], \"series\": [{\"data\": [0.047003632540522006]}]}, {\"name\": \"average_precision_score_macro\", \"run_id\": \"AutoML_78355921-ea00-42c0-9af3-6de918bebb7a\", \"categories\": [0], \"series\": [{\"data\": [0.5036493574127856]}]}, {\"name\": \"precision_score_micro\", \"run_id\": \"AutoML_78355921-ea00-42c0-9af3-6de918bebb7a\", \"categories\": [0], \"series\": [{\"data\": [0.9919577932240482]}]}, {\"name\": \"precision_score_weighted\", \"run_id\": \"AutoML_78355921-ea00-42c0-9af3-6de918bebb7a\", \"categories\": [0], \"series\": [{\"data\": [0.9839867275137297]}]}, {\"name\": \"average_precision_score_micro\", \"run_id\": \"AutoML_78355921-ea00-42c0-9af3-6de918bebb7a\", \"categories\": [0], \"series\": [{\"data\": [0.9902775270767575]}]}, {\"name\": \"AUC_weighted\", \"run_id\": \"AutoML_78355921-ea00-42c0-9af3-6de918bebb7a\", \"categories\": [0], \"series\": [{\"data\": [0.5486733991895087]}]}, {\"name\": \"balanced_accuracy\", \"run_id\": \"AutoML_78355921-ea00-42c0-9af3-6de918bebb7a\", \"categories\": [0], \"series\": [{\"data\": [0.5]}]}, {\"name\": \"f1_score_macro\", \"run_id\": \"AutoML_78355921-ea00-42c0-9af3-6de918bebb7a\", \"categories\": [0], \"series\": [{\"data\": [0.4979805136013737]}]}, {\"name\": \"average_precision_score_weighted\", \"run_id\": \"AutoML_78355921-ea00-42c0-9af3-6de918bebb7a\", \"categories\": [0], \"series\": [{\"data\": [0.9847285438633229]}]}, {\"name\": \"weighted_accuracy\", \"run_id\": \"AutoML_78355921-ea00-42c0-9af3-6de918bebb7a\", \"categories\": [0], \"series\": [{\"data\": [0.9999275061179487]}]}, {\"name\": \"recall_score_macro\", \"run_id\": \"AutoML_78355921-ea00-42c0-9af3-6de918bebb7a\", \"categories\": [0], \"series\": [{\"data\": [0.5]}]}, {\"name\": \"recall_score_micro\", \"run_id\": \"AutoML_78355921-ea00-42c0-9af3-6de918bebb7a\", \"categories\": [0], \"series\": [{\"data\": [0.9919577932240482]}]}, {\"name\": \"recall_score_weighted\", \"run_id\": \"AutoML_78355921-ea00-42c0-9af3-6de918bebb7a\", \"categories\": [0], \"series\": [{\"data\": [0.9919577932240482]}]}], \"run_logs\": \"\\nRun is completed.\", \"graph\": {}, \"widget_settings\": {\"childWidgetDisplay\": \"popup\", \"send_telemetry\": false, \"log_level\": \"INFO\", \"sdk_version\": \"1.24.0\"}, \"loading\": false}"
     },
     "metadata": {},
     "output_type": "display_data"
    },
    {
     "data": {
      "text/plain": [
       "{'runId': 'AutoML_78355921-ea00-42c0-9af3-6de918bebb7a',\n",
       " 'target': 'local',\n",
       " 'status': 'Completed',\n",
       " 'startTimeUtc': '2021-03-12T23:58:52.397691Z',\n",
       " 'endTimeUtc': '2021-03-13T00:13:34.977479Z',\n",
       " 'properties': {'num_iterations': '10',\n",
       "  'training_type': 'TrainFull',\n",
       "  'acquisition_function': 'EI',\n",
       "  'primary_metric': 'AUC_weighted',\n",
       "  'train_split': '0',\n",
       "  'acquisition_parameter': '0',\n",
       "  'num_cross_validation': '5',\n",
       "  'target': 'local',\n",
       "  'AMLSettingsJsonString': '{\"path\":null,\"name\":\"automl-binary-classification-SDSHackathon\",\"subscription_id\":\"43c1f93a-903d-4b23-a4bf-92bd7a150627\",\"resource_group\":\"myResourceGroup11\",\"workspace_name\":\"machine_learning_workspace11\",\"region\":\"northeurope\",\"compute_target\":\"local\",\"spark_service\":null,\"azure_service\":\"remote\",\"many_models\":false,\"pipeline_fetch_max_batch_size\":1,\"enable_batch_run\":false,\"iterations\":10,\"primary_metric\":\"AUC_weighted\",\"task_type\":\"classification\",\"data_script\":null,\"validation_size\":0.0,\"n_cross_validations\":5,\"y_min\":null,\"y_max\":null,\"num_classes\":null,\"featurization\":\"auto\",\"_ignore_package_version_incompatibilities\":false,\"is_timeseries\":false,\"max_cores_per_iteration\":-1,\"max_concurrent_iterations\":1,\"iteration_timeout_minutes\":5,\"mem_in_mb\":null,\"enforce_time_on_windows\":false,\"experiment_timeout_minutes\":15,\"experiment_exit_score\":null,\"whitelist_models\":null,\"blacklist_algos\":[\"TensorFlowLinearClassifier\",\"TensorFlowDNN\"],\"supported_models\":[\"SVM\",\"GradientBoosting\",\"KNN\",\"SGD\",\"XGBoostClassifier\",\"AveragedPerceptronClassifier\",\"MultinomialNaiveBayes\",\"BernoulliNaiveBayes\",\"TensorFlowDNN\",\"DecisionTree\",\"ExtremeRandomTrees\",\"LightGBM\",\"LogisticRegression\",\"TensorFlowLinearClassifier\",\"LinearSVM\",\"RandomForest\"],\"private_models\":[],\"auto_blacklist\":true,\"blacklist_samples_reached\":false,\"exclude_nan_labels\":true,\"verbosity\":20,\"_debug_log\":\"automl_errors.log\",\"show_warnings\":false,\"model_explainability\":true,\"service_url\":null,\"sdk_url\":null,\"sdk_packages\":null,\"enable_onnx_compatible_models\":false,\"enable_split_onnx_featurizer_estimator_models\":false,\"vm_type\":null,\"telemetry_verbosity\":20,\"send_telemetry\":true,\"enable_dnn\":false,\"scenario\":\"SDK-1.13.0\",\"environment_label\":null,\"save_mlflow\":false,\"force_text_dnn\":false,\"enable_feature_sweeping\":true,\"enable_early_stopping\":true,\"early_stopping_n_iters\":10,\"metrics\":null,\"enable_metric_confidence\":false,\"enable_ensembling\":true,\"enable_stack_ensembling\":true,\"ensemble_iterations\":10,\"enable_tf\":false,\"enable_subsampling\":false,\"subsample_seed\":null,\"enable_nimbusml\":false,\"enable_streaming\":false,\"force_streaming\":false,\"track_child_runs\":true,\"allowed_private_models\":[],\"label_column_name\":\"isInTop50\",\"weight_column_name\":null,\"cv_split_column_names\":null,\"enable_local_managed\":false,\"_local_managed_run_id\":null,\"cost_mode\":1,\"lag_length\":0,\"metric_operation\":\"maximize\",\"preprocess\":true}',\n",
       "  'DataPrepJsonString': None,\n",
       "  'EnableSubsampling': 'False',\n",
       "  'runTemplate': 'AutoML',\n",
       "  'azureml.runsource': 'automl',\n",
       "  'display_task_type': 'classification',\n",
       "  'dependencies_versions': '{\"azureml-widgets\": \"1.24.0\", \"azureml-train-restclients-hyperdrive\": \"1.24.0\", \"azureml-train-core\": \"1.24.0\", \"azureml-train-automl\": \"1.24.0\", \"azureml-train-automl-runtime\": \"1.24.0\", \"azureml-train-automl-client\": \"1.24.0\", \"azureml-telemetry\": \"1.24.0\", \"azureml-pipeline-steps\": \"1.24.0\", \"azureml-pipeline-core\": \"1.24.0\", \"azureml-model-management-sdk\": \"1.0.1b6.post1\", \"azureml-interpret\": \"1.24.0\", \"azureml-defaults\": \"1.24.0\", \"azureml-dataset-runtime\": \"1.24.0\", \"azureml-dataprep\": \"2.11.1\", \"azureml-dataprep-rslex\": \"1.9.0\", \"azureml-dataprep-native\": \"30.0.0\", \"azureml-core\": \"1.24.0.post1\", \"azureml-automl-runtime\": \"1.24.0\", \"azureml-automl-core\": \"1.24.0\"}',\n",
       "  '_aml_system_scenario_identification': 'Local.Parent',\n",
       "  'ClientSdkVersion': '1.24.0',\n",
       "  'ClientType': 'SDK',\n",
       "  'environment_cpu_name': 'AzureML-AutoML',\n",
       "  'environment_cpu_label': 'prod',\n",
       "  'environment_gpu_name': 'AzureML-AutoML-GPU',\n",
       "  'environment_gpu_label': 'prod',\n",
       "  'root_attribution': 'automl',\n",
       "  'attribution': 'AutoML',\n",
       "  'Orchestrator': 'AutoML',\n",
       "  '_azureml.ComputeTargetType': 'local',\n",
       "  'ProblemInfoJsonString': '{\"dataset_num_categorical\": 0, \"is_sparse\": true, \"subsampling\": false, \"dataset_classes\": 2, \"dataset_features\": 7183, \"dataset_samples\": 6217, \"single_frequency_class_detected\": false}',\n",
       "  'feature_skus': 'automatedml_sdk_guardrails',\n",
       "  'azureml.git.repository_uri': 'https://github.com/albert-kevin/G15SDSHackathon2021.git',\n",
       "  'mlflow.source.git.repoURL': 'https://github.com/albert-kevin/G15SDSHackathon2021.git',\n",
       "  'azureml.git.branch': 'main',\n",
       "  'mlflow.source.git.branch': 'main',\n",
       "  'azureml.git.commit': '9d6ffd36404d17b9b372a06c1a9bc44917de9852',\n",
       "  'mlflow.source.git.commit': '9d6ffd36404d17b9b372a06c1a9bc44917de9852',\n",
       "  'azureml.git.dirty': 'True'},\n",
       " 'inputDatasets': [],\n",
       " 'outputDatasets': [],\n",
       " 'logFiles': {},\n",
       " 'submittedBy': 'Kevin albert'}"
      ]
     },
     "execution_count": 11,
     "metadata": {},
     "output_type": "execute_result"
    }
   ],
   "source": [
    "RunDetails(automl_run).show()\n",
    "automl_run.wait_for_completion() # get more parameter info"
   ]
  },
  {
   "cell_type": "code",
   "execution_count": null,
   "id": "brazilian-yield",
   "metadata": {},
   "outputs": [],
   "source": []
  },
  {
   "cell_type": "code",
   "execution_count": null,
   "id": "stylish-breach",
   "metadata": {},
   "outputs": [],
   "source": []
  },
  {
   "cell_type": "code",
   "execution_count": null,
   "id": "aquatic-mayor",
   "metadata": {},
   "outputs": [],
   "source": []
  },
  {
   "cell_type": "code",
   "execution_count": null,
   "id": "basic-safety",
   "metadata": {},
   "outputs": [],
   "source": []
  }
 ],
 "metadata": {
  "kernelspec": {
   "display_name": "py36_automl",
   "language": "python",
   "name": "conda-env-py36_automl-py"
  },
  "language_info": {
   "codemirror_mode": {
    "name": "ipython",
    "version": 3
   },
   "file_extension": ".py",
   "mimetype": "text/x-python",
   "name": "python",
   "nbconvert_exporter": "python",
   "pygments_lexer": "ipython3",
   "version": "3.6.6"
  }
 },
 "nbformat": 4,
 "nbformat_minor": 5
}
