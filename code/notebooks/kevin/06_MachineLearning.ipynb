{
 "cells": [
  {
   "cell_type": "markdown",
   "id": "celtic-glass",
   "metadata": {},
   "source": [
    "Author: Kevin ALBERT  \n",
    "\n",
    "Created: March 2021"
   ]
  },
  {
   "cell_type": "markdown",
   "id": "local-reality",
   "metadata": {},
   "source": [
    "### Import open-source packages"
   ]
  },
  {
   "cell_type": "code",
   "execution_count": 1,
   "id": "threatened-asian",
   "metadata": {},
   "outputs": [],
   "source": [
    "# environment packages\n",
    "import platform\n",
    "import psutil\n",
    "import os\n",
    "\n",
    "# other packages\n",
    "import pandas as pd\n",
    "import numpy as np\n",
    "import warnings\n",
    "warnings.filterwarnings(\"ignore\")\n",
    "pd.set_option('display.max_colwidth', 100) # default 50, the maximum width in characters of a column\n",
    "pd.set_option('display.max_columns', 40)   # default 20, the maximum amount of columns in view \n",
    "pd.set_option('display.max_rows', 60)      # default 60, the maximum amount of rows in view\n",
    "import logging\n",
    "import json\n",
    "import requests\n",
    "import joblib"
   ]
  },
  {
   "cell_type": "markdown",
   "id": "involved-kelly",
   "metadata": {},
   "source": [
    "### Import azure machine learning SDK packages"
   ]
  },
  {
   "cell_type": "code",
   "execution_count": 2,
   "id": "ancient-provider",
   "metadata": {},
   "outputs": [
    {
     "name": "stdout",
     "output_type": "stream",
     "text": [
      "azureml.core version: 1.24.0\n"
     ]
    }
   ],
   "source": [
    "from azureml.core import Workspace, Dataset, Datastore, Run\n",
    "from azureml.core.experiment import Experiment\n",
    "from azureml.data.datapath import DataPath\n",
    "from azureml.core.compute import ComputeTarget, AmlCompute, AksCompute\n",
    "from azureml.core.model import Model, InferenceConfig\n",
    "from azureml.train.automl import AutoMLConfig\n",
    "from azureml.train.automl.run import AutoMLRun\n",
    "from azureml.widgets import RunDetails\n",
    "from azureml.core.webservice import Webservice, AciWebservice, AksWebservice\n",
    "from azureml.exceptions import WebserviceException\n",
    "from azureml.core.environment import Environment\n",
    "from azureml.train.estimator import Estimator\n",
    "from azureml.core.conda_dependencies import CondaDependencies\n",
    "from azureml.train.hyperdrive.runconfig import HyperDriveConfig\n",
    "from azureml.train.hyperdrive.sampling import RandomParameterSampling, GridParameterSampling\n",
    "from azureml.train.hyperdrive.run import PrimaryMetricGoal\n",
    "from azureml.train.hyperdrive.parameter_expressions import choice\n",
    "from azureml.core.runconfig import RunConfiguration\n",
    "from azureml.pipeline.core import PipelineData, Pipeline\n",
    "from azureml.pipeline.steps import PythonScriptStep, EstimatorStep\n",
    "from azureml.pipeline.core.run import PipelineRun\n",
    "from azureml.core.authentication import InteractiveLoginAuthentication\n",
    "from azureml.interpret import ExplanationClient\n",
    "import azureml.core\n",
    "print(\"azureml.core version:\", azureml.core.__version__)"
   ]
  },
  {
   "cell_type": "markdown",
   "id": "dynamic-guitar",
   "metadata": {},
   "source": [
    "### Workspace"
   ]
  },
  {
   "cell_type": "code",
   "execution_count": 3,
   "id": "aggregate-heather",
   "metadata": {},
   "outputs": [],
   "source": [
    "# load the workspace\n",
    "ws = Workspace.from_config()"
   ]
  },
  {
   "cell_type": "markdown",
   "id": "micro-football",
   "metadata": {},
   "source": [
    "### Experiment"
   ]
  },
  {
   "cell_type": "code",
   "execution_count": 60,
   "id": "guilty-banks",
   "metadata": {},
   "outputs": [],
   "source": [
    "# choose an experiment name\n",
    "experiment = Experiment(ws, 'automl-binary-classification-SDSHackathon')"
   ]
  },
  {
   "cell_type": "code",
   "execution_count": 103,
   "id": "valued-class",
   "metadata": {},
   "outputs": [],
   "source": [
    "# dataset = pd.read_parquet(\"../../../data/platinum/dataset.parquet\")\n",
    "# dataset = pd.read_parquet(\"../../../data/silver/ultraPlusSpotify.parquet\")\n",
    "dataset = pd.read_parquet(\"../../../data/silver/ultraPlusSpotifyplusPDF.parquet\")"
   ]
  },
  {
   "cell_type": "code",
   "execution_count": 62,
   "id": "driven-robertson",
   "metadata": {},
   "outputs": [],
   "source": [
    "# dataset.columns"
   ]
  },
  {
   "cell_type": "code",
   "execution_count": 45,
   "id": "planned-reason",
   "metadata": {},
   "outputs": [
    {
     "data": {
      "text/plain": [
       "Index(['#', 'Artiste', 'Titre', 'fileDate', 'freq', 'True_Target',\n",
       "       'CleanedTitle', 'id', 'popularity', 'danceability', 'energy', 'key',\n",
       "       'loudness', 'mode', 'speechiness', 'acousticness', 'instrumentalness',\n",
       "       'liveness', 'valence', 'tempo', 'duration_ms'],\n",
       "      dtype='object')"
      ]
     },
     "execution_count": 45,
     "metadata": {},
     "output_type": "execute_result"
    }
   ],
   "source": [
    "# dataset.columns"
   ]
  },
  {
   "cell_type": "code",
   "execution_count": 104,
   "id": "engaged-gravity",
   "metadata": {},
   "outputs": [
    {
     "data": {
      "text/plain": [
       "Index(['index', '#_x', 'Artiste', 'Titre', 'fileDate_x', 'freq', 'True_Target',\n",
       "       'CleanedTitle', 'id', 'popularity', 'danceability', 'energy', 'key',\n",
       "       'loudness', 'mode', 'speechiness', 'acousticness', 'instrumentalness',\n",
       "       'liveness', 'valence', 'tempo', 'duration_ms', '#_y', 'VW', 'W',\n",
       "       'Artiest', 'Titel', 'Label', 'Distributeur', 'HP', 'fileDate_y'],\n",
       "      dtype='object')"
      ]
     },
     "execution_count": 104,
     "metadata": {},
     "output_type": "execute_result"
    }
   ],
   "source": [
    "dataset.columns"
   ]
  },
  {
   "cell_type": "code",
   "execution_count": 22,
   "id": "constant-walker",
   "metadata": {},
   "outputs": [
    {
     "data": {
      "text/html": [
       "<div>\n",
       "<style scoped>\n",
       "    .dataframe tbody tr th:only-of-type {\n",
       "        vertical-align: middle;\n",
       "    }\n",
       "\n",
       "    .dataframe tbody tr th {\n",
       "        vertical-align: top;\n",
       "    }\n",
       "\n",
       "    .dataframe thead th {\n",
       "        text-align: right;\n",
       "    }\n",
       "</style>\n",
       "<table border=\"1\" class=\"dataframe\">\n",
       "  <thead>\n",
       "    <tr style=\"text-align: right;\">\n",
       "      <th></th>\n",
       "      <th>True_Target</th>\n",
       "      <th>length</th>\n",
       "      <th>popularity</th>\n",
       "      <th>acousticness</th>\n",
       "      <th>danceability</th>\n",
       "      <th>energy</th>\n",
       "      <th>instrumentalness</th>\n",
       "      <th>liveness</th>\n",
       "      <th>loudness</th>\n",
       "      <th>speechiness</th>\n",
       "      <th>tempo</th>\n",
       "    </tr>\n",
       "  </thead>\n",
       "  <tbody>\n",
       "    <tr>\n",
       "      <th>50</th>\n",
       "      <td>True</td>\n",
       "      <td>228983</td>\n",
       "      <td>1</td>\n",
       "      <td>0.15</td>\n",
       "      <td>0.56</td>\n",
       "      <td>0.60</td>\n",
       "      <td>0.00</td>\n",
       "      <td>0.07</td>\n",
       "      <td>-6.16</td>\n",
       "      <td>0.06</td>\n",
       "      <td>104.76</td>\n",
       "    </tr>\n",
       "    <tr>\n",
       "      <th>41</th>\n",
       "      <td>True</td>\n",
       "      <td>278719</td>\n",
       "      <td>5</td>\n",
       "      <td>0.05</td>\n",
       "      <td>0.45</td>\n",
       "      <td>0.58</td>\n",
       "      <td>0.00</td>\n",
       "      <td>0.08</td>\n",
       "      <td>-6.76</td>\n",
       "      <td>0.03</td>\n",
       "      <td>139.63</td>\n",
       "    </tr>\n",
       "    <tr>\n",
       "      <th>13</th>\n",
       "      <td>True</td>\n",
       "      <td>219800</td>\n",
       "      <td>5</td>\n",
       "      <td>0.01</td>\n",
       "      <td>0.47</td>\n",
       "      <td>0.94</td>\n",
       "      <td>0.00</td>\n",
       "      <td>0.24</td>\n",
       "      <td>-3.68</td>\n",
       "      <td>0.05</td>\n",
       "      <td>75.05</td>\n",
       "    </tr>\n",
       "  </tbody>\n",
       "</table>\n",
       "</div>"
      ],
      "text/plain": [
       "    True_Target  length  popularity  acousticness  danceability  energy  \\\n",
       "50         True  228983           1          0.15          0.56    0.60   \n",
       "41         True  278719           5          0.05          0.45    0.58   \n",
       "13         True  219800           5          0.01          0.47    0.94   \n",
       "\n",
       "    instrumentalness  liveness  loudness  speechiness  tempo  \n",
       "50              0.00      0.07     -6.16         0.06 104.76  \n",
       "41              0.00      0.08     -6.76         0.03 139.63  \n",
       "13              0.00      0.24     -3.68         0.05  75.05  "
      ]
     },
     "execution_count": 22,
     "metadata": {},
     "output_type": "execute_result"
    }
   ],
   "source": [
    "# dataset.sample(3)"
   ]
  },
  {
   "cell_type": "code",
   "execution_count": 46,
   "id": "noted-plymouth",
   "metadata": {},
   "outputs": [
    {
     "data": {
      "text/html": [
       "<div>\n",
       "<style scoped>\n",
       "    .dataframe tbody tr th:only-of-type {\n",
       "        vertical-align: middle;\n",
       "    }\n",
       "\n",
       "    .dataframe tbody tr th {\n",
       "        vertical-align: top;\n",
       "    }\n",
       "\n",
       "    .dataframe thead th {\n",
       "        text-align: right;\n",
       "    }\n",
       "</style>\n",
       "<table border=\"1\" class=\"dataframe\">\n",
       "  <thead>\n",
       "    <tr style=\"text-align: right;\">\n",
       "      <th></th>\n",
       "      <th>#</th>\n",
       "      <th>Artiste</th>\n",
       "      <th>Titre</th>\n",
       "      <th>fileDate</th>\n",
       "      <th>freq</th>\n",
       "      <th>True_Target</th>\n",
       "      <th>CleanedTitle</th>\n",
       "      <th>id</th>\n",
       "      <th>popularity</th>\n",
       "      <th>danceability</th>\n",
       "      <th>energy</th>\n",
       "      <th>key</th>\n",
       "      <th>loudness</th>\n",
       "      <th>mode</th>\n",
       "      <th>speechiness</th>\n",
       "      <th>acousticness</th>\n",
       "      <th>instrumentalness</th>\n",
       "      <th>liveness</th>\n",
       "      <th>valence</th>\n",
       "      <th>tempo</th>\n",
       "      <th>duration_ms</th>\n",
       "    </tr>\n",
       "  </thead>\n",
       "  <tbody>\n",
       "    <tr>\n",
       "      <th>50</th>\n",
       "      <td>36</td>\n",
       "      <td>Aya Nakamura</td>\n",
       "      <td>Jolie nana</td>\n",
       "      <td>20-11-21</td>\n",
       "      <td>2</td>\n",
       "      <td>False</td>\n",
       "      <td>Jolie nana</td>\n",
       "      <td>65RWVU6N81CeH65nu52K1U</td>\n",
       "      <td>72</td>\n",
       "      <td>0.81</td>\n",
       "      <td>0.64</td>\n",
       "      <td>2</td>\n",
       "      <td>-5.91</td>\n",
       "      <td>1</td>\n",
       "      <td>0.27</td>\n",
       "      <td>0.27</td>\n",
       "      <td>0.00</td>\n",
       "      <td>0.13</td>\n",
       "      <td>0.49</td>\n",
       "      <td>92.99</td>\n",
       "      <td>147076</td>\n",
       "    </tr>\n",
       "    <tr>\n",
       "      <th>41</th>\n",
       "      <td>42</td>\n",
       "      <td>Julien Doré</td>\n",
       "      <td>La fièvre</td>\n",
       "      <td>20-11-14</td>\n",
       "      <td>1</td>\n",
       "      <td>False</td>\n",
       "      <td>La fièvre</td>\n",
       "      <td>79jeTvkW3gvUdldDkQpYOf</td>\n",
       "      <td>62</td>\n",
       "      <td>0.80</td>\n",
       "      <td>0.65</td>\n",
       "      <td>2</td>\n",
       "      <td>-7.93</td>\n",
       "      <td>0</td>\n",
       "      <td>0.07</td>\n",
       "      <td>0.60</td>\n",
       "      <td>0.01</td>\n",
       "      <td>0.10</td>\n",
       "      <td>0.41</td>\n",
       "      <td>89.98</td>\n",
       "      <td>241547</td>\n",
       "    </tr>\n",
       "    <tr>\n",
       "      <th>13</th>\n",
       "      <td>14</td>\n",
       "      <td>Ariana Grande</td>\n",
       "      <td>Positions</td>\n",
       "      <td>20-11-14</td>\n",
       "      <td>17</td>\n",
       "      <td>True</td>\n",
       "      <td>positions</td>\n",
       "      <td>35mvY5S1H3J2QZyna3TFe0</td>\n",
       "      <td>93</td>\n",
       "      <td>0.74</td>\n",
       "      <td>0.80</td>\n",
       "      <td>0</td>\n",
       "      <td>-4.77</td>\n",
       "      <td>1</td>\n",
       "      <td>0.09</td>\n",
       "      <td>0.47</td>\n",
       "      <td>0.00</td>\n",
       "      <td>0.09</td>\n",
       "      <td>0.68</td>\n",
       "      <td>144.01</td>\n",
       "      <td>172325</td>\n",
       "    </tr>\n",
       "  </tbody>\n",
       "</table>\n",
       "</div>"
      ],
      "text/plain": [
       "     #         Artiste       Titre  fileDate  freq  True_Target CleanedTitle  \\\n",
       "50  36   Aya Nakamura   Jolie nana  20-11-21     2        False   Jolie nana   \n",
       "41  42    Julien Doré    La fièvre  20-11-14     1        False    La fièvre   \n",
       "13  14  Ariana Grande    Positions  20-11-14    17         True    positions   \n",
       "\n",
       "                        id  popularity  danceability  energy  key  loudness  \\\n",
       "50  65RWVU6N81CeH65nu52K1U          72          0.81    0.64    2     -5.91   \n",
       "41  79jeTvkW3gvUdldDkQpYOf          62          0.80    0.65    2     -7.93   \n",
       "13  35mvY5S1H3J2QZyna3TFe0          93          0.74    0.80    0     -4.77   \n",
       "\n",
       "    mode  speechiness  acousticness  instrumentalness  liveness  valence  \\\n",
       "50     1         0.27          0.27              0.00      0.13     0.49   \n",
       "41     0         0.07          0.60              0.01      0.10     0.41   \n",
       "13     1         0.09          0.47              0.00      0.09     0.68   \n",
       "\n",
       "    tempo  duration_ms  \n",
       "50  92.99       147076  \n",
       "41  89.98       241547  \n",
       "13 144.01       172325  "
      ]
     },
     "execution_count": 46,
     "metadata": {},
     "output_type": "execute_result"
    }
   ],
   "source": [
    "# dataset.iloc[[50,41,13]]"
   ]
  },
  {
   "cell_type": "code",
   "execution_count": 105,
   "id": "orange-formula",
   "metadata": {},
   "outputs": [
    {
     "data": {
      "text/html": [
       "<div>\n",
       "<style scoped>\n",
       "    .dataframe tbody tr th:only-of-type {\n",
       "        vertical-align: middle;\n",
       "    }\n",
       "\n",
       "    .dataframe tbody tr th {\n",
       "        vertical-align: top;\n",
       "    }\n",
       "\n",
       "    .dataframe thead th {\n",
       "        text-align: right;\n",
       "    }\n",
       "</style>\n",
       "<table border=\"1\" class=\"dataframe\">\n",
       "  <thead>\n",
       "    <tr style=\"text-align: right;\">\n",
       "      <th></th>\n",
       "      <th>index</th>\n",
       "      <th>#_x</th>\n",
       "      <th>Artiste</th>\n",
       "      <th>Titre</th>\n",
       "      <th>fileDate_x</th>\n",
       "      <th>freq</th>\n",
       "      <th>True_Target</th>\n",
       "      <th>CleanedTitle</th>\n",
       "      <th>id</th>\n",
       "      <th>popularity</th>\n",
       "      <th>danceability</th>\n",
       "      <th>energy</th>\n",
       "      <th>key</th>\n",
       "      <th>loudness</th>\n",
       "      <th>mode</th>\n",
       "      <th>speechiness</th>\n",
       "      <th>acousticness</th>\n",
       "      <th>instrumentalness</th>\n",
       "      <th>liveness</th>\n",
       "      <th>valence</th>\n",
       "      <th>tempo</th>\n",
       "      <th>duration_ms</th>\n",
       "      <th>#_y</th>\n",
       "      <th>VW</th>\n",
       "      <th>W</th>\n",
       "      <th>Artiest</th>\n",
       "      <th>Titel</th>\n",
       "      <th>Label</th>\n",
       "      <th>Distributeur</th>\n",
       "      <th>HP</th>\n",
       "      <th>fileDate_y</th>\n",
       "    </tr>\n",
       "  </thead>\n",
       "  <tbody>\n",
       "    <tr>\n",
       "      <th>50</th>\n",
       "      <td>50</td>\n",
       "      <td>36</td>\n",
       "      <td>Aya Nakamura</td>\n",
       "      <td>Jolie nana</td>\n",
       "      <td>20-11-21</td>\n",
       "      <td>2</td>\n",
       "      <td>False</td>\n",
       "      <td>Jolie nana</td>\n",
       "      <td>65RWVU6N81CeH65nu52K1U</td>\n",
       "      <td>72</td>\n",
       "      <td>0.81</td>\n",
       "      <td>0.64</td>\n",
       "      <td>2</td>\n",
       "      <td>-5.91</td>\n",
       "      <td>1</td>\n",
       "      <td>0.27</td>\n",
       "      <td>0.27</td>\n",
       "      <td>0.00</td>\n",
       "      <td>0.13</td>\n",
       "      <td>0.49</td>\n",
       "      <td>92.99</td>\n",
       "      <td>147076</td>\n",
       "      <td>49</td>\n",
       "      <td>37</td>\n",
       "      <td>18</td>\n",
       "      <td>Aya Nakamura</td>\n",
       "      <td>Jolie nana</td>\n",
       "      <td>REC. 118</td>\n",
       "      <td>WARNER</td>\n",
       "      <td>8</td>\n",
       "      <td>28_11_2020</td>\n",
       "    </tr>\n",
       "    <tr>\n",
       "      <th>41</th>\n",
       "      <td>41</td>\n",
       "      <td>42</td>\n",
       "      <td>Julien Doré</td>\n",
       "      <td>La fièvre</td>\n",
       "      <td>20-11-14</td>\n",
       "      <td>1</td>\n",
       "      <td>False</td>\n",
       "      <td>La fièvre</td>\n",
       "      <td>79jeTvkW3gvUdldDkQpYOf</td>\n",
       "      <td>62</td>\n",
       "      <td>0.80</td>\n",
       "      <td>0.65</td>\n",
       "      <td>2</td>\n",
       "      <td>-7.93</td>\n",
       "      <td>0</td>\n",
       "      <td>0.07</td>\n",
       "      <td>0.60</td>\n",
       "      <td>0.01</td>\n",
       "      <td>0.10</td>\n",
       "      <td>0.41</td>\n",
       "      <td>89.98</td>\n",
       "      <td>241547</td>\n",
       "      <td>None</td>\n",
       "      <td>None</td>\n",
       "      <td>None</td>\n",
       "      <td>None</td>\n",
       "      <td>None</td>\n",
       "      <td>None</td>\n",
       "      <td>None</td>\n",
       "      <td>None</td>\n",
       "      <td>None</td>\n",
       "    </tr>\n",
       "    <tr>\n",
       "      <th>13</th>\n",
       "      <td>13</td>\n",
       "      <td>14</td>\n",
       "      <td>Ariana Grande</td>\n",
       "      <td>Positions</td>\n",
       "      <td>20-11-14</td>\n",
       "      <td>17</td>\n",
       "      <td>True</td>\n",
       "      <td>positions</td>\n",
       "      <td>35mvY5S1H3J2QZyna3TFe0</td>\n",
       "      <td>93</td>\n",
       "      <td>0.74</td>\n",
       "      <td>0.80</td>\n",
       "      <td>0</td>\n",
       "      <td>-4.77</td>\n",
       "      <td>1</td>\n",
       "      <td>0.09</td>\n",
       "      <td>0.47</td>\n",
       "      <td>0.00</td>\n",
       "      <td>0.09</td>\n",
       "      <td>0.68</td>\n",
       "      <td>144.01</td>\n",
       "      <td>172325</td>\n",
       "      <td>42</td>\n",
       "      <td>36</td>\n",
       "      <td>14</td>\n",
       "      <td>Ariana Grande</td>\n",
       "      <td>Positions</td>\n",
       "      <td>REPUBLIC</td>\n",
       "      <td>UNIVERSAL</td>\n",
       "      <td>14</td>\n",
       "      <td>30_01_2021</td>\n",
       "    </tr>\n",
       "  </tbody>\n",
       "</table>\n",
       "</div>"
      ],
      "text/plain": [
       "    index  #_x         Artiste       Titre fileDate_x  freq  True_Target  \\\n",
       "50     50   36   Aya Nakamura   Jolie nana   20-11-21     2        False   \n",
       "41     41   42    Julien Doré    La fièvre   20-11-14     1        False   \n",
       "13     13   14  Ariana Grande    Positions   20-11-14    17         True   \n",
       "\n",
       "   CleanedTitle                      id  popularity  danceability  energy  \\\n",
       "50   Jolie nana  65RWVU6N81CeH65nu52K1U          72          0.81    0.64   \n",
       "41    La fièvre  79jeTvkW3gvUdldDkQpYOf          62          0.80    0.65   \n",
       "13    positions  35mvY5S1H3J2QZyna3TFe0          93          0.74    0.80   \n",
       "\n",
       "    key  loudness  mode  speechiness  acousticness  instrumentalness  \\\n",
       "50    2     -5.91     1         0.27          0.27              0.00   \n",
       "41    2     -7.93     0         0.07          0.60              0.01   \n",
       "13    0     -4.77     1         0.09          0.47              0.00   \n",
       "\n",
       "    liveness  valence  tempo  duration_ms   #_y    VW     W        Artiest  \\\n",
       "50      0.13     0.49  92.99       147076    49    37    18   Aya Nakamura   \n",
       "41      0.10     0.41  89.98       241547  None  None  None           None   \n",
       "13      0.09     0.68 144.01       172325    42    36    14  Ariana Grande   \n",
       "\n",
       "         Titel     Label Distributeur    HP  fileDate_y  \n",
       "50  Jolie nana  REC. 118       WARNER     8  28_11_2020  \n",
       "41        None      None         None  None        None  \n",
       "13   Positions  REPUBLIC    UNIVERSAL    14  30_01_2021  "
      ]
     },
     "execution_count": 105,
     "metadata": {},
     "output_type": "execute_result"
    }
   ],
   "source": [
    "dataset.iloc[[50,41,13]]"
   ]
  },
  {
   "cell_type": "code",
   "execution_count": 106,
   "id": "confirmed-linux",
   "metadata": {},
   "outputs": [],
   "source": [
    "# dataset.drop([\"#\",\"Artiste_x\",\"Titre\",\"fileDate\",\"freq\",\"album\",\"Artiste_y\",\"release_date\",\"time_signature\"], axis=1, inplace=True)\n",
    "# dataset.drop([\"#\",\"fileDate\",\"Artiste\",\"Titre\",\"freq\",\"CleanedTitle\",\"id\"], axis=1, inplace=True)\n",
    "dataset.drop([\"index\",\"#_x\",\"#_y\",\"fileDate_x\",\"fileDate_y\",\"Artiste\",\"Titre\",\"freq\",\"CleanedTitle\",\"id\",\"Artiest\",\"Titel\",\"Label\",\"Distributeur\",\"HP\",\"W\"], axis=1, inplace=True)"
   ]
  },
  {
   "cell_type": "code",
   "execution_count": 130,
   "id": "liked-pillow",
   "metadata": {},
   "outputs": [
    {
     "data": {
      "text/html": [
       "<div>\n",
       "<style scoped>\n",
       "    .dataframe tbody tr th:only-of-type {\n",
       "        vertical-align: middle;\n",
       "    }\n",
       "\n",
       "    .dataframe tbody tr th {\n",
       "        vertical-align: top;\n",
       "    }\n",
       "\n",
       "    .dataframe thead th {\n",
       "        text-align: right;\n",
       "    }\n",
       "</style>\n",
       "<table border=\"1\" class=\"dataframe\">\n",
       "  <thead>\n",
       "    <tr style=\"text-align: right;\">\n",
       "      <th></th>\n",
       "      <th>True_Target</th>\n",
       "      <th>popularity</th>\n",
       "      <th>danceability</th>\n",
       "      <th>energy</th>\n",
       "      <th>key</th>\n",
       "      <th>loudness</th>\n",
       "      <th>mode</th>\n",
       "      <th>speechiness</th>\n",
       "      <th>acousticness</th>\n",
       "      <th>instrumentalness</th>\n",
       "      <th>liveness</th>\n",
       "      <th>valence</th>\n",
       "      <th>tempo</th>\n",
       "      <th>duration_ms</th>\n",
       "      <th>VW</th>\n",
       "    </tr>\n",
       "  </thead>\n",
       "  <tbody>\n",
       "    <tr>\n",
       "      <th>50</th>\n",
       "      <td>False</td>\n",
       "      <td>72</td>\n",
       "      <td>0.81</td>\n",
       "      <td>0.64</td>\n",
       "      <td>2</td>\n",
       "      <td>-5.91</td>\n",
       "      <td>1</td>\n",
       "      <td>0.27</td>\n",
       "      <td>0.27</td>\n",
       "      <td>0.00</td>\n",
       "      <td>0.13</td>\n",
       "      <td>0.49</td>\n",
       "      <td>92.99</td>\n",
       "      <td>147076</td>\n",
       "      <td>37</td>\n",
       "    </tr>\n",
       "    <tr>\n",
       "      <th>41</th>\n",
       "      <td>False</td>\n",
       "      <td>62</td>\n",
       "      <td>0.80</td>\n",
       "      <td>0.65</td>\n",
       "      <td>2</td>\n",
       "      <td>-7.93</td>\n",
       "      <td>0</td>\n",
       "      <td>0.07</td>\n",
       "      <td>0.60</td>\n",
       "      <td>0.01</td>\n",
       "      <td>0.10</td>\n",
       "      <td>0.41</td>\n",
       "      <td>89.98</td>\n",
       "      <td>241547</td>\n",
       "      <td>50</td>\n",
       "    </tr>\n",
       "    <tr>\n",
       "      <th>13</th>\n",
       "      <td>True</td>\n",
       "      <td>93</td>\n",
       "      <td>0.74</td>\n",
       "      <td>0.80</td>\n",
       "      <td>0</td>\n",
       "      <td>-4.77</td>\n",
       "      <td>1</td>\n",
       "      <td>0.09</td>\n",
       "      <td>0.47</td>\n",
       "      <td>0.00</td>\n",
       "      <td>0.09</td>\n",
       "      <td>0.68</td>\n",
       "      <td>144.01</td>\n",
       "      <td>172325</td>\n",
       "      <td>36</td>\n",
       "    </tr>\n",
       "  </tbody>\n",
       "</table>\n",
       "</div>"
      ],
      "text/plain": [
       "    True_Target  popularity  danceability  energy  key  loudness  mode  \\\n",
       "50        False          72          0.81    0.64    2     -5.91     1   \n",
       "41        False          62          0.80    0.65    2     -7.93     0   \n",
       "13         True          93          0.74    0.80    0     -4.77     1   \n",
       "\n",
       "    speechiness  acousticness  instrumentalness  liveness  valence  tempo  \\\n",
       "50         0.27          0.27              0.00      0.13     0.49  92.99   \n",
       "41         0.07          0.60              0.01      0.10     0.41  89.98   \n",
       "13         0.09          0.47              0.00      0.09     0.68 144.01   \n",
       "\n",
       "    duration_ms  VW  \n",
       "50       147076  37  \n",
       "41       241547  50  \n",
       "13       172325  36  "
      ]
     },
     "execution_count": 130,
     "metadata": {},
     "output_type": "execute_result"
    }
   ],
   "source": [
    "# we propose to use these features:\n",
    "dataset.iloc[[50,41,13]]"
   ]
  },
  {
   "cell_type": "code",
   "execution_count": 126,
   "id": "interim-traveler",
   "metadata": {},
   "outputs": [
    {
     "data": {
      "text/plain": [
       "array([ 2,  7,  6, 37, 28, 50, 45, 10, 17, 16, 36, 23, 20, 30, 25, 11, 24,\n",
       "       34, 43, 44, 38, 27, 33, 35, 47,  4, 29, 40,  9, 12, 21,  8, 26,  1,\n",
       "        5, 19, 22, 46])"
      ]
     },
     "execution_count": 126,
     "metadata": {},
     "output_type": "execute_result"
    }
   ],
   "source": [
    "dataset[\"VW\"].unique()"
   ]
  },
  {
   "cell_type": "code",
   "execution_count": 111,
   "id": "public-concord",
   "metadata": {},
   "outputs": [],
   "source": [
    "dataset['VW'] = dataset['VW'].replace(np.nan, '50')"
   ]
  },
  {
   "cell_type": "code",
   "execution_count": 114,
   "id": "bright-relative",
   "metadata": {},
   "outputs": [],
   "source": [
    "dataset['VW'] = dataset['VW'].replace('NEW', '50')"
   ]
  },
  {
   "cell_type": "code",
   "execution_count": 123,
   "id": "invisible-moore",
   "metadata": {},
   "outputs": [],
   "source": [
    "dataset = dataset.astype({'VW':'int'})"
   ]
  },
  {
   "cell_type": "code",
   "execution_count": null,
   "id": "designed-decrease",
   "metadata": {},
   "outputs": [],
   "source": []
  },
  {
   "cell_type": "code",
   "execution_count": 25,
   "id": "thermal-latter",
   "metadata": {},
   "outputs": [
    {
     "data": {
      "text/plain": [
       "43"
      ]
     },
     "execution_count": 25,
     "metadata": {},
     "output_type": "execute_result"
    }
   ],
   "source": [
    "# dataset[\"True_Target\"].sum()"
   ]
  },
  {
   "cell_type": "code",
   "execution_count": 67,
   "id": "answering-celtic",
   "metadata": {},
   "outputs": [
    {
     "data": {
      "text/plain": [
       "89"
      ]
     },
     "execution_count": 67,
     "metadata": {},
     "output_type": "execute_result"
    }
   ],
   "source": [
    "dataset[\"True_Target\"].sum()"
   ]
  },
  {
   "cell_type": "code",
   "execution_count": 68,
   "id": "touched-sustainability",
   "metadata": {},
   "outputs": [
    {
     "data": {
      "text/plain": [
       "(118, 15)"
      ]
     },
     "execution_count": 68,
     "metadata": {},
     "output_type": "execute_result"
    }
   ],
   "source": [
    "dataset.shape"
   ]
  },
  {
   "cell_type": "code",
   "execution_count": 7,
   "id": "choice-princeton",
   "metadata": {},
   "outputs": [],
   "source": [
    "# we are not going to split for now... use the whole dataset"
   ]
  },
  {
   "cell_type": "markdown",
   "id": "bridal-driving",
   "metadata": {},
   "source": [
    "## Train"
   ]
  },
  {
   "cell_type": "code",
   "execution_count": 127,
   "id": "upset-gossip",
   "metadata": {},
   "outputs": [],
   "source": [
    "automl_settings = {\n",
    "    \"enable_early_stopping\":True,\n",
    "    \"experiment_timeout_hours\":0.25,\n",
    "    \"iterations\":25, # number of runs\n",
    "    \"iteration_timeout_minutes\":5,\n",
    "    \"max_concurrent_iterations\":1,\n",
    "    \"max_cores_per_iteration\":-1,\n",
    "    #\"experiment_exit_score\":0.9920,\n",
    "    \"model_explainability\":True,\n",
    "    \"n_cross_validations\":5,\n",
    "    \"primary_metric\":'precision_score_weighted', # we could use recall_score_weighted, AUC_weighted\n",
    "    \"featurization\":'auto',\n",
    "    \"verbosity\":logging.INFO, # {INFO, DEBUG, CRITICAL, ERROR, WARNING} -- debug_log=<*.log>\n",
    "}\n",
    "\n",
    "automl_config = AutoMLConfig(task='classification',\n",
    "                             debug_log='automl_errors.log',\n",
    "                             compute_target='local', # {training_cluster or 'local'}\n",
    "                             #blacklist_models=['KNN','LinearSVM'],\n",
    "                             enable_onnx_compatible_models=False,\n",
    "                             training_data=dataset,\n",
    "                             label_column_name=\"True_Target\", # the name of the target variable\n",
    "                             **automl_settings\n",
    "                            )\n",
    "# ouputs \"model.pkl\" and \"automl_errors.log\""
   ]
  },
  {
   "cell_type": "code",
   "execution_count": 128,
   "id": "combined-first",
   "metadata": {},
   "outputs": [
    {
     "name": "stdout",
     "output_type": "stream",
     "text": [
      "Running on local machine\n",
      "Parent Run ID: AutoML_073d7624-35cd-471a-8b3f-6b19ee9f129a\n",
      "\n",
      "Current status: DatasetEvaluation. Gathering dataset statistics.\n",
      "Current status: FeaturesGeneration. Generating features for the dataset.\n",
      "Current status: DatasetFeaturization. Beginning to fit featurizers and featurize the dataset.\n",
      "Current status: DatasetFeaturizationCompleted. Completed fit featurizers and featurizing the dataset.\n",
      "Current status: DatasetCrossValidationSplit. Generating individually featurized CV splits.\n",
      "\n",
      "****************************************************************************************************\n",
      "DATA GUARDRAILS: \n",
      "\n",
      "TYPE:         Class balancing detection\n",
      "STATUS:       PASSED\n",
      "DESCRIPTION:  Your inputs were analyzed, and all classes are balanced in your training data.\n",
      "              Learn more about imbalanced data: https://aka.ms/AutomatedMLImbalancedData\n",
      "\n",
      "****************************************************************************************************\n",
      "\n",
      "TYPE:         Missing feature values imputation\n",
      "STATUS:       PASSED\n",
      "DESCRIPTION:  No feature missing values were detected in the training data.\n",
      "              Learn more about missing value imputation: https://aka.ms/AutomatedMLFeaturization\n",
      "\n",
      "****************************************************************************************************\n",
      "\n",
      "TYPE:         High cardinality feature detection\n",
      "STATUS:       PASSED\n",
      "DESCRIPTION:  Your inputs were analyzed, and no high cardinality features were detected.\n",
      "              Learn more about high cardinality feature handling: https://aka.ms/AutomatedMLFeaturization\n",
      "\n",
      "****************************************************************************************************\n",
      "Current status: ModelSelection. Beginning model selection.\n",
      "\n",
      "****************************************************************************************************\n",
      "ITERATION: The iteration being evaluated.\n",
      "PIPELINE: A summary description of the pipeline being evaluated.\n",
      "DURATION: Time taken for the current iteration.\n",
      "METRIC: The result of computing score on the fitted pipeline.\n",
      "BEST: The best observed score thus far.\n",
      "****************************************************************************************************\n",
      "\n",
      " ITERATION   PIPELINE                                       DURATION      METRIC      BEST\n",
      "         0   MaxAbsScaler LightGBM                          0:00:53       0.7715    0.7715\n",
      "         1   MaxAbsScaler XGBoostClassifier                 0:01:00       0.7204    0.7715\n",
      "         2   MinMaxScaler RandomForest                      0:00:36       0.8116    0.8116\n",
      "         3   MinMaxScaler RandomForest                      0:00:40       0.6379    0.8116\n",
      "         4   MinMaxScaler RandomForest                      0:00:35       0.7006    0.8116\n",
      "         5   RobustScaler ExtremeRandomTrees                0:00:36       0.6929    0.8116\n",
      "         6   StandardScalerWrapper ExtremeRandomTrees       0:00:37       0.7424    0.8116\n",
      "         7   MaxAbsScaler KNN                               0:00:34       0.6849    0.8116\n",
      "         8   MaxAbsScaler RandomForest                      0:00:37       0.6987    0.8116\n",
      "         9   SparseNormalizer XGBoostClassifier             0:00:59       0.7924    0.8116\n",
      "        10   StandardScalerWrapper LightGBM                 0:00:42       0.6724    0.8116\n",
      "        11   MaxAbsScaler LightGBM                          0:00:42       0.6113    0.8116\n",
      "        12   StandardScalerWrapper LightGBM                 0:00:39       0.6128    0.8116\n",
      "        13   MaxAbsScaler ExtremeRandomTrees                0:00:36       0.7160    0.8116\n",
      "        14   RobustScaler KNN                               0:00:34       0.7084    0.8116\n",
      "        15   RobustScaler RandomForest                      0:00:41       0.6697    0.8116\n",
      "        16   StandardScalerWrapper ExtremeRandomTrees       0:00:42       0.6986    0.8116\n",
      "        17   StandardScalerWrapper XGBoostClassifier        0:00:47       0.6768    0.8116\n",
      "        18   StandardScalerWrapper LogisticRegression       0:00:44       0.7561    0.8116\n",
      "        19   RobustScaler LightGBM                          0:01:25       0.6685    0.8116\n",
      "        20   VotingEnsemble                                 0:00:55       0.8484    0.8484\n",
      "        21   StackEnsemble                                  0:00:54       0.6733    0.8484\n",
      "Stopping criteria reached at iteration 22. Ending experiment.\n",
      "****************************************************************************************************\n",
      "Current status: BestRunExplainModel. Best run model explanations started\n",
      "Current status: ModelExplanationDataSetSetup. Model explanations data setup completed\n",
      "Current status: PickSurrogateModel. Choosing LightGBM as the surrogate model for explanations\n",
      "Current status: EngineeredFeatureExplanations. Computation of engineered features started\n",
      "Current status: EngineeredFeatureExplanations. Computation of engineered features completed\n",
      "Current status: RawFeaturesExplanations. Computation of raw features started\n",
      "Current status: RawFeaturesExplanations. Computation of raw features completed\n",
      "Current status: BestRunExplainModel. Best run model explanations completed\n",
      "****************************************************************************************************\n"
     ]
    }
   ],
   "source": [
    "automl_run = experiment.submit(automl_config, show_output=True)"
   ]
  },
  {
   "cell_type": "markdown",
   "id": "crazy-permission",
   "metadata": {},
   "source": [
    "### explore the best pipeline"
   ]
  },
  {
   "cell_type": "code",
   "execution_count": 131,
   "id": "welcome-people",
   "metadata": {},
   "outputs": [
    {
     "data": {
      "application/vnd.jupyter.widget-view+json": {
       "model_id": "c3e2978066b143ff9b5cc14bb71fa3c0",
       "version_major": 2,
       "version_minor": 0
      },
      "text/plain": [
       "_AutoMLWidget(widget_settings={'childWidgetDisplay': 'popup', 'send_telemetry': False, 'log_level': 'INFO', 's…"
      ]
     },
     "metadata": {},
     "output_type": "display_data"
    },
    {
     "data": {
      "application/aml.mini.widget.v1": "{\"status\": \"Completed\", \"workbench_run_details_uri\": \"https://ml.azure.com/experiments/automl-binary-classification-SDSHackathon/runs/AutoML_073d7624-35cd-471a-8b3f-6b19ee9f129a?wsid=/subscriptions/43c1f93a-903d-4b23-a4bf-92bd7a150627/resourcegroups/myResourceGroup11/workspaces/machine_learning_workspace11\", \"run_id\": \"AutoML_073d7624-35cd-471a-8b3f-6b19ee9f129a\", \"run_properties\": {\"run_id\": \"AutoML_073d7624-35cd-471a-8b3f-6b19ee9f129a\", \"created_utc\": \"2021-03-14T09:12:37.918661Z\", \"properties\": {\"num_iterations\": \"25\", \"training_type\": \"TrainFull\", \"acquisition_function\": \"EI\", \"primary_metric\": \"precision_score_weighted\", \"train_split\": \"0\", \"acquisition_parameter\": \"0\", \"num_cross_validation\": \"5\", \"target\": \"local\", \"AMLSettingsJsonString\": \"{\\\"path\\\":null,\\\"name\\\":\\\"automl-binary-classification-SDSHackathon\\\",\\\"subscription_id\\\":\\\"43c1f93a-903d-4b23-a4bf-92bd7a150627\\\",\\\"resource_group\\\":\\\"myResourceGroup11\\\",\\\"workspace_name\\\":\\\"machine_learning_workspace11\\\",\\\"region\\\":\\\"northeurope\\\",\\\"compute_target\\\":\\\"local\\\",\\\"spark_service\\\":null,\\\"azure_service\\\":\\\"remote\\\",\\\"many_models\\\":false,\\\"pipeline_fetch_max_batch_size\\\":1,\\\"enable_batch_run\\\":false,\\\"iterations\\\":25,\\\"primary_metric\\\":\\\"precision_score_weighted\\\",\\\"task_type\\\":\\\"classification\\\",\\\"data_script\\\":null,\\\"validation_size\\\":0.0,\\\"n_cross_validations\\\":5,\\\"y_min\\\":null,\\\"y_max\\\":null,\\\"num_classes\\\":null,\\\"featurization\\\":\\\"auto\\\",\\\"_ignore_package_version_incompatibilities\\\":false,\\\"is_timeseries\\\":false,\\\"max_cores_per_iteration\\\":-1,\\\"max_concurrent_iterations\\\":1,\\\"iteration_timeout_minutes\\\":5,\\\"mem_in_mb\\\":null,\\\"enforce_time_on_windows\\\":false,\\\"experiment_timeout_minutes\\\":15,\\\"experiment_exit_score\\\":null,\\\"whitelist_models\\\":null,\\\"blacklist_algos\\\":[\\\"TensorFlowLinearClassifier\\\",\\\"TensorFlowDNN\\\"],\\\"supported_models\\\":[\\\"MultinomialNaiveBayes\\\",\\\"XGBoostClassifier\\\",\\\"LinearSVM\\\",\\\"RandomForest\\\",\\\"BernoulliNaiveBayes\\\",\\\"SGD\\\",\\\"AveragedPerceptronClassifier\\\",\\\"KNN\\\",\\\"SVM\\\",\\\"TensorFlowDNN\\\",\\\"DecisionTree\\\",\\\"ExtremeRandomTrees\\\",\\\"LightGBM\\\",\\\"TensorFlowLinearClassifier\\\",\\\"LogisticRegression\\\",\\\"GradientBoosting\\\"],\\\"private_models\\\":[],\\\"auto_blacklist\\\":true,\\\"blacklist_samples_reached\\\":false,\\\"exclude_nan_labels\\\":true,\\\"verbosity\\\":20,\\\"_debug_log\\\":\\\"automl_errors.log\\\",\\\"show_warnings\\\":false,\\\"model_explainability\\\":true,\\\"service_url\\\":null,\\\"sdk_url\\\":null,\\\"sdk_packages\\\":null,\\\"enable_onnx_compatible_models\\\":false,\\\"enable_split_onnx_featurizer_estimator_models\\\":false,\\\"vm_type\\\":null,\\\"telemetry_verbosity\\\":20,\\\"send_telemetry\\\":true,\\\"enable_dnn\\\":false,\\\"scenario\\\":\\\"SDK-1.13.0\\\",\\\"environment_label\\\":null,\\\"save_mlflow\\\":false,\\\"force_text_dnn\\\":false,\\\"enable_feature_sweeping\\\":true,\\\"enable_early_stopping\\\":true,\\\"early_stopping_n_iters\\\":10,\\\"metrics\\\":null,\\\"enable_metric_confidence\\\":false,\\\"enable_ensembling\\\":true,\\\"enable_stack_ensembling\\\":true,\\\"ensemble_iterations\\\":15,\\\"enable_tf\\\":false,\\\"enable_subsampling\\\":false,\\\"subsample_seed\\\":null,\\\"enable_nimbusml\\\":false,\\\"enable_streaming\\\":false,\\\"force_streaming\\\":false,\\\"track_child_runs\\\":true,\\\"allowed_private_models\\\":[],\\\"label_column_name\\\":\\\"True_Target\\\",\\\"weight_column_name\\\":null,\\\"cv_split_column_names\\\":null,\\\"enable_local_managed\\\":false,\\\"_local_managed_run_id\\\":null,\\\"cost_mode\\\":1,\\\"lag_length\\\":0,\\\"metric_operation\\\":\\\"maximize\\\",\\\"preprocess\\\":true}\", \"DataPrepJsonString\": null, \"EnableSubsampling\": \"False\", \"runTemplate\": \"AutoML\", \"azureml.runsource\": \"automl\", \"display_task_type\": \"classification\", \"dependencies_versions\": \"{\\\"azureml-widgets\\\": \\\"1.24.0\\\", \\\"azureml-train-restclients-hyperdrive\\\": \\\"1.24.0\\\", \\\"azureml-train-core\\\": \\\"1.24.0\\\", \\\"azureml-train-automl\\\": \\\"1.24.0\\\", \\\"azureml-train-automl-runtime\\\": \\\"1.24.0\\\", \\\"azureml-train-automl-client\\\": \\\"1.24.0\\\", \\\"azureml-telemetry\\\": \\\"1.24.0\\\", \\\"azureml-pipeline-steps\\\": \\\"1.24.0\\\", \\\"azureml-pipeline-core\\\": \\\"1.24.0\\\", \\\"azureml-model-management-sdk\\\": \\\"1.0.1b6.post1\\\", \\\"azureml-interpret\\\": \\\"1.24.0\\\", \\\"azureml-defaults\\\": \\\"1.24.0\\\", \\\"azureml-dataset-runtime\\\": \\\"1.24.0\\\", \\\"azureml-dataprep\\\": \\\"2.11.1\\\", \\\"azureml-dataprep-rslex\\\": \\\"1.9.0\\\", \\\"azureml-dataprep-native\\\": \\\"30.0.0\\\", \\\"azureml-core\\\": \\\"1.24.0.post1\\\", \\\"azureml-automl-runtime\\\": \\\"1.24.0\\\", \\\"azureml-automl-core\\\": \\\"1.24.0\\\"}\", \"_aml_system_scenario_identification\": \"Local.Parent\", \"ClientSdkVersion\": \"1.24.0\", \"ClientType\": \"SDK\", \"environment_cpu_name\": \"AzureML-AutoML\", \"environment_cpu_label\": \"prod\", \"environment_gpu_name\": \"AzureML-AutoML-GPU\", \"environment_gpu_label\": \"prod\", \"root_attribution\": \"automl\", \"attribution\": \"AutoML\", \"Orchestrator\": \"AutoML\", \"_azureml.ComputeTargetType\": \"local\", \"ProblemInfoJsonString\": \"{\\\"dataset_num_categorical\\\": 0, \\\"is_sparse\\\": false, \\\"subsampling\\\": false, \\\"dataset_classes\\\": 2, \\\"dataset_features\\\": 14, \\\"dataset_samples\\\": 118, \\\"single_frequency_class_detected\\\": false}\", \"feature_skus\": \"automatedml_sdk_guardrails\", \"azureml.git.repository_uri\": \"https://github.com/albert-kevin/G15SDSHackathon2021.git\", \"mlflow.source.git.repoURL\": \"https://github.com/albert-kevin/G15SDSHackathon2021.git\", \"azureml.git.branch\": \"main\", \"mlflow.source.git.branch\": \"main\", \"azureml.git.commit\": \"dc8d706fb0df8472c26bb7f32215cf10af6a4c24\", \"mlflow.source.git.commit\": \"dc8d706fb0df8472c26bb7f32215cf10af6a4c24\", \"azureml.git.dirty\": \"True\"}, \"tags\": {\"model_explain_run\": \"best_run\", \"best_score\": \"0.8483695652173913\", \"best_pipeline\": \"VotingEnsemble\", \"automl_best_child_run_id\": \"AutoML_073d7624-35cd-471a-8b3f-6b19ee9f129a_20\", \"model_explain_best_run_child_id\": \"AutoML_073d7624-35cd-471a-8b3f-6b19ee9f129a_20\"}, \"end_time_utc\": \"2021-03-14T09:30:04.77002Z\", \"status\": \"Completed\", \"log_files\": {}, \"log_groups\": [], \"run_duration\": \"0:17:26\", \"run_number\": \"312\", \"run_queued_details\": {\"status\": \"Completed\", \"details\": null}}, \"child_runs\": [{\"run_id\": \"AutoML_073d7624-35cd-471a-8b3f-6b19ee9f129a_0\", \"run_number\": 313, \"metric\": null, \"status\": \"Completed\", \"run_type\": null, \"training_percent\": \"100\", \"start_time\": \"2021-03-14T09:12:58.075598Z\", \"end_time\": \"2021-03-14T09:13:51.048617Z\", \"created_time\": \"2021-03-14T09:12:57.820132Z\", \"created_time_dt\": \"2021-03-14T09:12:57.820132Z\", \"duration\": \"0:00:53\", \"iteration\": \"0\", \"goal\": \"precision_score_weighted_max\", \"run_name\": \"MaxAbsScaler, LightGBM\", \"run_properties\": \"copy=True\", \"primary_metric\": 0.77150856, \"best_metric\": 0.77150856}, {\"run_id\": \"AutoML_073d7624-35cd-471a-8b3f-6b19ee9f129a_1\", \"run_number\": 314, \"metric\": null, \"status\": \"Completed\", \"run_type\": null, \"training_percent\": \"100\", \"start_time\": \"2021-03-14T09:13:51.831325Z\", \"end_time\": \"2021-03-14T09:14:52.230897Z\", \"created_time\": \"2021-03-14T09:13:51.439233Z\", \"created_time_dt\": \"2021-03-14T09:13:51.439233Z\", \"duration\": \"0:01:00\", \"iteration\": \"1\", \"goal\": \"precision_score_weighted_max\", \"run_name\": \"MaxAbsScaler, XGBoostClassifier\", \"run_properties\": \"copy=True\", \"primary_metric\": 0.72039855, \"best_metric\": 0.77150856}, {\"run_id\": \"AutoML_073d7624-35cd-471a-8b3f-6b19ee9f129a_2\", \"run_number\": 315, \"metric\": null, \"status\": \"Completed\", \"run_type\": null, \"training_percent\": \"100\", \"start_time\": \"2021-03-14T09:14:53.859768Z\", \"end_time\": \"2021-03-14T09:15:30.318339Z\", \"created_time\": \"2021-03-14T09:14:53.497327Z\", \"created_time_dt\": \"2021-03-14T09:14:53.497327Z\", \"duration\": \"0:00:36\", \"iteration\": \"2\", \"goal\": \"precision_score_weighted_max\", \"run_name\": \"MinMaxScaler, RandomForest\", \"run_properties\": \"copy=True, feature_range=(0, 1\", \"primary_metric\": 0.81157773, \"best_metric\": 0.81157773}, {\"run_id\": \"AutoML_073d7624-35cd-471a-8b3f-6b19ee9f129a_3\", \"run_number\": 316, \"metric\": null, \"status\": \"Completed\", \"run_type\": null, \"training_percent\": \"100\", \"start_time\": \"2021-03-14T09:15:31.740904Z\", \"end_time\": \"2021-03-14T09:16:12.599781Z\", \"created_time\": \"2021-03-14T09:15:31.595111Z\", \"created_time_dt\": \"2021-03-14T09:15:31.595111Z\", \"duration\": \"0:00:41\", \"iteration\": \"3\", \"goal\": \"precision_score_weighted_max\", \"run_name\": \"MinMaxScaler, RandomForest\", \"run_properties\": \"copy=True, feature_range=(0, 1\", \"primary_metric\": 0.63787781, \"best_metric\": 0.81157773}, {\"run_id\": \"AutoML_073d7624-35cd-471a-8b3f-6b19ee9f129a_4\", \"run_number\": 317, \"metric\": null, \"status\": \"Completed\", \"run_type\": null, \"training_percent\": \"100\", \"start_time\": \"2021-03-14T09:16:14.117905Z\", \"end_time\": \"2021-03-14T09:16:49.975516Z\", \"created_time\": \"2021-03-14T09:16:13.983746Z\", \"created_time_dt\": \"2021-03-14T09:16:13.983746Z\", \"duration\": \"0:00:35\", \"iteration\": \"4\", \"goal\": \"precision_score_weighted_max\", \"run_name\": \"MinMaxScaler, RandomForest\", \"run_properties\": \"copy=True, feature_range=(0, 1\", \"primary_metric\": 0.70059488, \"best_metric\": 0.81157773}, {\"run_id\": \"AutoML_073d7624-35cd-471a-8b3f-6b19ee9f129a_5\", \"run_number\": 318, \"metric\": null, \"status\": \"Completed\", \"run_type\": null, \"training_percent\": \"100\", \"start_time\": \"2021-03-14T09:16:51.413304Z\", \"end_time\": \"2021-03-14T09:17:28.02148Z\", \"created_time\": \"2021-03-14T09:16:51.248639Z\", \"created_time_dt\": \"2021-03-14T09:16:51.248639Z\", \"duration\": \"0:00:36\", \"iteration\": \"5\", \"goal\": \"precision_score_weighted_max\", \"run_name\": \"RobustScaler, ExtremeRandomTrees\", \"run_properties\": \"copy=True, quantile_range=[10, 90], with_centering=False,\\n             with_scaling=False\", \"primary_metric\": 0.69294332, \"best_metric\": 0.81157773}, {\"run_id\": \"AutoML_073d7624-35cd-471a-8b3f-6b19ee9f129a_6\", \"run_number\": 319, \"metric\": null, \"status\": \"Completed\", \"run_type\": null, \"training_percent\": \"100\", \"start_time\": \"2021-03-14T09:17:29.657005Z\", \"end_time\": \"2021-03-14T09:18:06.706929Z\", \"created_time\": \"2021-03-14T09:17:29.423657Z\", \"created_time_dt\": \"2021-03-14T09:17:29.423657Z\", \"duration\": \"0:00:37\", \"iteration\": \"6\", \"goal\": \"precision_score_weighted_max\", \"run_name\": \"StandardScalerWrapper, ExtremeRandomTrees\", \"run_properties\": \"<azureml.automl.runtime.shared.model_wrappers.StandardScalerWrapper object at 0x7efbde3daf98\", \"primary_metric\": 0.74237682, \"best_metric\": 0.81157773}, {\"run_id\": \"AutoML_073d7624-35cd-471a-8b3f-6b19ee9f129a_7\", \"run_number\": 320, \"metric\": null, \"status\": \"Completed\", \"run_type\": null, \"training_percent\": \"100\", \"start_time\": \"2021-03-14T09:18:08.569573Z\", \"end_time\": \"2021-03-14T09:18:42.543834Z\", \"created_time\": \"2021-03-14T09:18:08.436247Z\", \"created_time_dt\": \"2021-03-14T09:18:08.436247Z\", \"duration\": \"0:00:34\", \"iteration\": \"7\", \"goal\": \"precision_score_weighted_max\", \"run_name\": \"MaxAbsScaler, KNN\", \"run_properties\": \"copy=True\", \"primary_metric\": 0.68491977, \"best_metric\": 0.81157773}, {\"run_id\": \"AutoML_073d7624-35cd-471a-8b3f-6b19ee9f129a_8\", \"run_number\": 321, \"metric\": null, \"status\": \"Completed\", \"run_type\": null, \"training_percent\": \"100\", \"start_time\": \"2021-03-14T09:18:44.50476Z\", \"end_time\": \"2021-03-14T09:19:21.665945Z\", \"created_time\": \"2021-03-14T09:18:44.274027Z\", \"created_time_dt\": \"2021-03-14T09:18:44.274027Z\", \"duration\": \"0:00:37\", \"iteration\": \"8\", \"goal\": \"precision_score_weighted_max\", \"run_name\": \"MaxAbsScaler, RandomForest\", \"run_properties\": \"copy=True\", \"primary_metric\": 0.69870059, \"best_metric\": 0.81157773}, {\"run_id\": \"AutoML_073d7624-35cd-471a-8b3f-6b19ee9f129a_9\", \"run_number\": 322, \"metric\": null, \"status\": \"Completed\", \"run_type\": null, \"training_percent\": \"100\", \"start_time\": \"2021-03-14T09:19:23.235808Z\", \"end_time\": \"2021-03-14T09:20:22.352279Z\", \"created_time\": \"2021-03-14T09:19:22.993012Z\", \"created_time_dt\": \"2021-03-14T09:19:22.993012Z\", \"duration\": \"0:00:59\", \"iteration\": \"9\", \"goal\": \"precision_score_weighted_max\", \"run_name\": \"SparseNormalizer, XGBoostClassifier\", \"run_properties\": \"<azureml.automl.runtime.shared.model_wrappers.SparseNormalizer object at 0x7efbe2445748\", \"primary_metric\": 0.79241225, \"best_metric\": 0.81157773}, {\"run_id\": \"AutoML_073d7624-35cd-471a-8b3f-6b19ee9f129a_10\", \"run_number\": 323, \"metric\": null, \"status\": \"Completed\", \"run_type\": null, \"training_percent\": \"100\", \"start_time\": \"2021-03-14T09:20:23.899826Z\", \"end_time\": \"2021-03-14T09:21:06.090659Z\", \"created_time\": \"2021-03-14T09:20:23.736305Z\", \"created_time_dt\": \"2021-03-14T09:20:23.736305Z\", \"duration\": \"0:00:42\", \"iteration\": \"10\", \"goal\": \"precision_score_weighted_max\", \"run_name\": \"StandardScalerWrapper, LightGBM\", \"run_properties\": \"<azureml.automl.runtime.shared.model_wrappers.StandardScalerWrapper object at 0x7efbe24c5898\", \"primary_metric\": 0.67235594, \"best_metric\": 0.81157773}, {\"run_id\": \"AutoML_073d7624-35cd-471a-8b3f-6b19ee9f129a_11\", \"run_number\": 324, \"metric\": null, \"status\": \"Completed\", \"run_type\": null, \"training_percent\": \"100\", \"start_time\": \"2021-03-14T09:21:07.507992Z\", \"end_time\": \"2021-03-14T09:21:50.00119Z\", \"created_time\": \"2021-03-14T09:21:07.341496Z\", \"created_time_dt\": \"2021-03-14T09:21:07.341496Z\", \"duration\": \"0:00:42\", \"iteration\": \"11\", \"goal\": \"precision_score_weighted_max\", \"run_name\": \"MaxAbsScaler, LightGBM\", \"run_properties\": \"copy=True\", \"primary_metric\": 0.6113406, \"best_metric\": 0.81157773}, {\"run_id\": \"AutoML_073d7624-35cd-471a-8b3f-6b19ee9f129a_12\", \"run_number\": 325, \"metric\": null, \"status\": \"Completed\", \"run_type\": null, \"training_percent\": \"100\", \"start_time\": \"2021-03-14T09:21:51.277277Z\", \"end_time\": \"2021-03-14T09:22:30.402253Z\", \"created_time\": \"2021-03-14T09:21:51.137723Z\", \"created_time_dt\": \"2021-03-14T09:21:51.137723Z\", \"duration\": \"0:00:39\", \"iteration\": \"12\", \"goal\": \"precision_score_weighted_max\", \"run_name\": \"StandardScalerWrapper, LightGBM\", \"run_properties\": \"<azureml.automl.runtime.shared.model_wrappers.StandardScalerWrapper object at 0x7efbde11eeb8\", \"primary_metric\": 0.61277478, \"best_metric\": 0.81157773}, {\"run_id\": \"AutoML_073d7624-35cd-471a-8b3f-6b19ee9f129a_13\", \"run_number\": 326, \"metric\": null, \"status\": \"Completed\", \"run_type\": null, \"training_percent\": \"100\", \"start_time\": \"2021-03-14T09:22:31.849825Z\", \"end_time\": \"2021-03-14T09:23:07.976245Z\", \"created_time\": \"2021-03-14T09:22:31.6942Z\", \"created_time_dt\": \"2021-03-14T09:22:31.6942Z\", \"duration\": \"0:00:36\", \"iteration\": \"13\", \"goal\": \"precision_score_weighted_max\", \"run_name\": \"MaxAbsScaler, ExtremeRandomTrees\", \"run_properties\": \"copy=True\", \"primary_metric\": 0.71595283, \"best_metric\": 0.81157773}, {\"run_id\": \"AutoML_073d7624-35cd-471a-8b3f-6b19ee9f129a_14\", \"run_number\": 327, \"metric\": null, \"status\": \"Completed\", \"run_type\": null, \"training_percent\": \"100\", \"start_time\": \"2021-03-14T09:23:09.363587Z\", \"end_time\": \"2021-03-14T09:23:43.37349Z\", \"created_time\": \"2021-03-14T09:23:09.185428Z\", \"created_time_dt\": \"2021-03-14T09:23:09.185428Z\", \"duration\": \"0:00:34\", \"iteration\": \"14\", \"goal\": \"precision_score_weighted_max\", \"run_name\": \"RobustScaler, KNN\", \"run_properties\": \"copy=True, quantile_range=[10, 90], with_centering=False,\\n             with_scaling=False\", \"primary_metric\": 0.70837072, \"best_metric\": 0.81157773}, {\"run_id\": \"AutoML_073d7624-35cd-471a-8b3f-6b19ee9f129a_15\", \"run_number\": 328, \"metric\": null, \"status\": \"Completed\", \"run_type\": null, \"training_percent\": \"100\", \"start_time\": \"2021-03-14T09:23:44.732367Z\", \"end_time\": \"2021-03-14T09:24:26.270555Z\", \"created_time\": \"2021-03-14T09:23:44.564748Z\", \"created_time_dt\": \"2021-03-14T09:23:44.564748Z\", \"duration\": \"0:00:41\", \"iteration\": \"15\", \"goal\": \"precision_score_weighted_max\", \"run_name\": \"RobustScaler, RandomForest\", \"run_properties\": \"copy=True, quantile_range=[25, 75], with_centering=False,\\n             with_scaling=True\", \"primary_metric\": 0.6696561, \"best_metric\": 0.81157773}, {\"run_id\": \"AutoML_073d7624-35cd-471a-8b3f-6b19ee9f129a_16\", \"run_number\": 329, \"metric\": null, \"status\": \"Completed\", \"run_type\": null, \"training_percent\": \"100\", \"start_time\": \"2021-03-14T09:24:27.754086Z\", \"end_time\": \"2021-03-14T09:25:10.557946Z\", \"created_time\": \"2021-03-14T09:24:27.523812Z\", \"created_time_dt\": \"2021-03-14T09:24:27.523812Z\", \"duration\": \"0:00:43\", \"iteration\": \"16\", \"goal\": \"precision_score_weighted_max\", \"run_name\": \"StandardScalerWrapper, ExtremeRandomTrees\", \"run_properties\": \"<azureml.automl.runtime.shared.model_wrappers.StandardScalerWrapper object at 0x7efbe267a400\", \"primary_metric\": 0.69856759, \"best_metric\": 0.81157773}, {\"run_id\": \"AutoML_073d7624-35cd-471a-8b3f-6b19ee9f129a_17\", \"run_number\": 330, \"metric\": null, \"status\": \"Completed\", \"run_type\": null, \"training_percent\": \"100\", \"start_time\": \"2021-03-14T09:25:11.860283Z\", \"end_time\": \"2021-03-14T09:25:58.900386Z\", \"created_time\": \"2021-03-14T09:25:11.708484Z\", \"created_time_dt\": \"2021-03-14T09:25:11.708484Z\", \"duration\": \"0:00:47\", \"iteration\": \"17\", \"goal\": \"precision_score_weighted_max\", \"run_name\": \"StandardScalerWrapper, XGBoostClassifier\", \"run_properties\": \"<azureml.automl.runtime.shared.model_wrappers.StandardScalerWrapper object at 0x7efbe32d59e8\", \"primary_metric\": 0.67679199, \"best_metric\": 0.81157773}, {\"run_id\": \"AutoML_073d7624-35cd-471a-8b3f-6b19ee9f129a_18\", \"run_number\": 331, \"metric\": null, \"status\": \"Completed\", \"run_type\": null, \"training_percent\": \"100\", \"start_time\": \"2021-03-14T09:26:00.248309Z\", \"end_time\": \"2021-03-14T09:26:44.182783Z\", \"created_time\": \"2021-03-14T09:26:00.114558Z\", \"created_time_dt\": \"2021-03-14T09:26:00.114558Z\", \"duration\": \"0:00:44\", \"iteration\": \"18\", \"goal\": \"precision_score_weighted_max\", \"run_name\": \"StandardScalerWrapper, LogisticRegression\", \"run_properties\": \"<azureml.automl.runtime.shared.model_wrappers.StandardScalerWrapper object at 0x7efbe33af080\", \"primary_metric\": 0.75614518, \"best_metric\": 0.81157773}, {\"run_id\": \"AutoML_073d7624-35cd-471a-8b3f-6b19ee9f129a_19\", \"run_number\": 332, \"metric\": null, \"status\": \"Completed\", \"run_type\": null, \"training_percent\": \"100\", \"start_time\": \"2021-03-14T09:26:46.845696Z\", \"end_time\": \"2021-03-14T09:28:11.756981Z\", \"created_time\": \"2021-03-14T09:26:46.409043Z\", \"created_time_dt\": \"2021-03-14T09:26:46.409043Z\", \"duration\": \"0:01:25\", \"iteration\": \"19\", \"goal\": \"precision_score_weighted_max\", \"run_name\": \"RobustScaler, LightGBM\", \"run_properties\": \"copy=True, quantile_range=[10, 90], with_centering=True,\\n             with_scaling=False\", \"primary_metric\": 0.66848101, \"best_metric\": 0.81157773}, {\"run_id\": \"AutoML_073d7624-35cd-471a-8b3f-6b19ee9f129a_20\", \"run_number\": 333, \"metric\": null, \"status\": \"Completed\", \"run_type\": null, \"training_percent\": \"100\", \"start_time\": \"2021-03-14T09:28:12.25514Z\", \"end_time\": \"2021-03-14T09:29:07.573261Z\", \"created_time\": \"2021-03-14T09:28:12.089574Z\", \"created_time_dt\": \"2021-03-14T09:28:12.089574Z\", \"duration\": \"0:00:55\", \"iteration\": \"20\", \"goal\": \"precision_score_weighted_max\", \"run_name\": \"VotingEnsemble\", \"run_properties\": \"classification_labels=None,\\n                              estimators=[('2',\\n                                           Pipeline(memory=None,\\n                                                    steps=[('minmaxscaler',\\n                                                            MinMaxScaler(copy=True,\\n                                                                         feature_range=(0,\\n                                                                                        1\", \"primary_metric\": 0.84836957, \"best_metric\": 0.84836957}, {\"run_id\": \"AutoML_073d7624-35cd-471a-8b3f-6b19ee9f129a_21\", \"run_number\": 334, \"metric\": null, \"status\": \"Completed\", \"run_type\": null, \"training_percent\": \"100\", \"start_time\": \"2021-03-14T09:29:08.076828Z\", \"end_time\": \"2021-03-14T09:30:02.301689Z\", \"created_time\": \"2021-03-14T09:29:07.923407Z\", \"created_time_dt\": \"2021-03-14T09:29:07.923407Z\", \"duration\": \"0:00:54\", \"iteration\": \"21\", \"goal\": \"precision_score_weighted_max\", \"run_name\": \"StackEnsemble\", \"run_properties\": \"base_learners=[('2',\\n                                        Pipeline(memory=None,\\n                                                 steps=[('minmaxscaler',\\n                                                         MinMaxScaler(copy=True,\\n                                                                      feature_range=(0,\\n                                                                                     1\", \"primary_metric\": 0.67327693, \"best_metric\": 0.84836957}], \"children_metrics\": {\"categories\": [0], \"series\": {\"recall_score_weighted\": [{\"categories\": [\"0\", \"1\", \"2\", \"3\", \"4\", \"5\", \"6\", \"7\", \"8\", \"9\", \"10\", \"11\", \"12\", \"13\", \"14\", \"15\", \"16\", \"17\", \"18\", \"19\", \"20\", \"21\"], \"mode\": \"markers\", \"name\": \"recall_score_weighted\", \"stepped\": false, \"type\": \"scatter\", \"data\": [0.7637681159420291, 0.7297101449275363, 0.788768115942029, 0.7460144927536232, 0.721376811594203, 0.7539855072463768, 0.7126811594202899, 0.7452898550724637, 0.7130434782608696, 0.7887681159420289, 0.7641304347826087, 0.7550724637681159, 0.7634057971014493, 0.7387681159420291, 0.7380434782608696, 0.7634057971014493, 0.7717391304347826, 0.730072463768116, 0.686231884057971, 0.763768115942029, 0.8054347826086957, 0.7630434782608695]}, {\"categories\": [\"0\", \"1\", \"2\", \"3\", \"4\", \"5\", \"6\", \"7\", \"8\", \"9\", \"10\", \"11\", \"12\", \"13\", \"14\", \"15\", \"16\", \"17\", \"18\", \"19\", \"20\", \"21\"], \"mode\": \"lines\", \"name\": \"recall_score_weighted_max\", \"stepped\": true, \"type\": \"scatter\", \"data\": [0.7637681159420291, 0.7637681159420291, 0.788768115942029, 0.788768115942029, 0.788768115942029, 0.788768115942029, 0.788768115942029, 0.788768115942029, 0.788768115942029, 0.788768115942029, 0.788768115942029, 0.788768115942029, 0.788768115942029, 0.788768115942029, 0.788768115942029, 0.788768115942029, 0.788768115942029, 0.788768115942029, 0.788768115942029, 0.788768115942029, 0.8054347826086957, 0.8054347826086957]}], \"matthews_correlation\": [{\"categories\": [\"0\", \"1\", \"2\", \"3\", \"4\", \"5\", \"6\", \"7\", \"8\", \"9\", \"10\", \"11\", \"12\", \"13\", \"14\", \"15\", \"16\", \"17\", \"18\", \"19\", \"20\", \"21\"], \"mode\": \"markers\", \"name\": \"matthews_correlation\", \"stepped\": false, \"type\": \"scatter\", \"data\": [0.3169209712878098, 0.17995502384717924, 0.3386287270872761, 0.08230101002334286, 0.16533213874042885, 0.1647041860927301, 0.28964661061717506, 0.1569584325181571, 0.17582357215422972, 0.39370081229923126, 0.16589012281383514, 0.07153891023643061, 0.09293203772845851, 0.23779906561194455, 0.18293013072088196, 0.16387971311187982, 0.20616736513159256, 0.08697436459007414, 0.3168991407191933, 0.14331296649295794, 0.41223535469692785, 0.1620328085162043]}, {\"categories\": [\"0\", \"1\", \"2\", \"3\", \"4\", \"5\", \"6\", \"7\", \"8\", \"9\", \"10\", \"11\", \"12\", \"13\", \"14\", \"15\", \"16\", \"17\", \"18\", \"19\", \"20\", \"21\"], \"mode\": \"lines\", \"name\": \"matthews_correlation_max\", \"stepped\": true, \"type\": \"scatter\", \"data\": [0.3169209712878098, 0.3169209712878098, 0.3386287270872761, 0.3386287270872761, 0.3386287270872761, 0.3386287270872761, 0.3386287270872761, 0.3386287270872761, 0.3386287270872761, 0.39370081229923126, 0.39370081229923126, 0.39370081229923126, 0.39370081229923126, 0.39370081229923126, 0.39370081229923126, 0.39370081229923126, 0.39370081229923126, 0.39370081229923126, 0.39370081229923126, 0.39370081229923126, 0.41223535469692785, 0.41223535469692785]}], \"f1_score_weighted\": [{\"categories\": [\"0\", \"1\", \"2\", \"3\", \"4\", \"5\", \"6\", \"7\", \"8\", \"9\", \"10\", \"11\", \"12\", \"13\", \"14\", \"15\", \"16\", \"17\", \"18\", \"19\", \"20\", \"21\"], \"mode\": \"markers\", \"name\": \"f1_score_weighted\", \"stepped\": false, \"type\": \"scatter\", \"data\": [0.7381669553408684, 0.7011271922141487, 0.7321673505395668, 0.6695389198994712, 0.6953003429891302, 0.6831007928091702, 0.7126045634741287, 0.7066161240989616, 0.6954886319016754, 0.769787800222583, 0.6916539227177169, 0.6633671665909204, 0.6675753614967899, 0.7230607859784061, 0.7086368513256385, 0.6903046374308304, 0.6961729186331519, 0.673272991099078, 0.7010694832763968, 0.6814958495022121, 0.7513797054836291, 0.6897668401273915]}, {\"categories\": [\"0\", \"1\", \"2\", \"3\", \"4\", \"5\", \"6\", \"7\", \"8\", \"9\", \"10\", \"11\", \"12\", \"13\", \"14\", \"15\", \"16\", \"17\", \"18\", \"19\", \"20\", \"21\"], \"mode\": \"lines\", \"name\": \"f1_score_weighted_max\", \"stepped\": true, \"type\": \"scatter\", \"data\": [0.7381669553408684, 0.7381669553408684, 0.7381669553408684, 0.7381669553408684, 0.7381669553408684, 0.7381669553408684, 0.7381669553408684, 0.7381669553408684, 0.7381669553408684, 0.769787800222583, 0.769787800222583, 0.769787800222583, 0.769787800222583, 0.769787800222583, 0.769787800222583, 0.769787800222583, 0.769787800222583, 0.769787800222583, 0.769787800222583, 0.769787800222583, 0.769787800222583, 0.769787800222583]}], \"AUC_weighted\": [{\"categories\": [\"0\", \"1\", \"2\", \"3\", \"4\", \"5\", \"6\", \"7\", \"8\", \"9\", \"10\", \"11\", \"12\", \"13\", \"14\", \"15\", \"16\", \"17\", \"18\", \"19\", \"20\", \"21\"], \"mode\": \"markers\", \"name\": \"AUC_weighted\", \"stepped\": false, \"type\": \"scatter\", \"data\": [0.6973182957393484, 0.657405277900634, 0.6474959457467196, 0.5277207725195341, 0.6092761315052336, 0.6898746867167919, 0.6872843874391863, 0.5478667256376235, 0.6166696152145068, 0.7384357953707799, 0.6732006486805248, 0.6781505233672417, 0.6167020492407489, 0.6473101872327878, 0.5356354120595606, 0.6851452159811293, 0.6911632021229545, 0.6576588530148901, 0.7359162612413386, 0.6084674922600619, 0.706155093616394, 0.7602093468966535]}, {\"categories\": [\"0\", \"1\", \"2\", \"3\", \"4\", \"5\", \"6\", \"7\", \"8\", \"9\", \"10\", \"11\", \"12\", \"13\", \"14\", \"15\", \"16\", \"17\", \"18\", \"19\", \"20\", \"21\"], \"mode\": \"lines\", \"name\": \"AUC_weighted_max\", \"stepped\": true, \"type\": \"scatter\", \"data\": [0.6973182957393484, 0.6973182957393484, 0.6973182957393484, 0.6973182957393484, 0.6973182957393484, 0.6973182957393484, 0.6973182957393484, 0.6973182957393484, 0.6973182957393484, 0.7384357953707799, 0.7384357953707799, 0.7384357953707799, 0.7384357953707799, 0.7384357953707799, 0.7384357953707799, 0.7384357953707799, 0.7384357953707799, 0.7384357953707799, 0.7384357953707799, 0.7384357953707799, 0.7384357953707799, 0.7602093468966535]}], \"AUC_macro\": [{\"categories\": [\"0\", \"1\", \"2\", \"3\", \"4\", \"5\", \"6\", \"7\", \"8\", \"9\", \"10\", \"11\", \"12\", \"13\", \"14\", \"15\", \"16\", \"17\", \"18\", \"19\", \"20\", \"21\"], \"mode\": \"markers\", \"name\": \"AUC_macro\", \"stepped\": false, \"type\": \"scatter\", \"data\": [0.6973182957393484, 0.657405277900634, 0.6474959457467196, 0.5277207725195342, 0.6092761315052337, 0.6898746867167919, 0.6872843874391862, 0.5478667256376234, 0.6166696152145068, 0.7384357953707799, 0.6732006486805249, 0.6781505233672417, 0.6167020492407489, 0.6473101872327878, 0.5356354120595606, 0.6851452159811293, 0.6911632021229546, 0.6576588530148901, 0.7359162612413386, 0.6084674922600619, 0.706155093616394, 0.7602093468966535]}, {\"categories\": [\"0\", \"1\", \"2\", \"3\", \"4\", \"5\", \"6\", \"7\", \"8\", \"9\", \"10\", \"11\", \"12\", \"13\", \"14\", \"15\", \"16\", \"17\", \"18\", \"19\", \"20\", \"21\"], \"mode\": \"lines\", \"name\": \"AUC_macro_max\", \"stepped\": true, \"type\": \"scatter\", \"data\": [0.6973182957393484, 0.6973182957393484, 0.6973182957393484, 0.6973182957393484, 0.6973182957393484, 0.6973182957393484, 0.6973182957393484, 0.6973182957393484, 0.6973182957393484, 0.7384357953707799, 0.7384357953707799, 0.7384357953707799, 0.7384357953707799, 0.7384357953707799, 0.7384357953707799, 0.7384357953707799, 0.7384357953707799, 0.7384357953707799, 0.7384357953707799, 0.7384357953707799, 0.7384357953707799, 0.7602093468966535]}], \"f1_score_macro\": [{\"categories\": [\"0\", \"1\", \"2\", \"3\", \"4\", \"5\", \"6\", \"7\", \"8\", \"9\", \"10\", \"11\", \"12\", \"13\", \"14\", \"15\", \"16\", \"17\", \"18\", \"19\", \"20\", \"21\"], \"mode\": \"markers\", \"name\": \"f1_score_macro\", \"stepped\": false, \"type\": \"scatter\", \"data\": [0.6260938667130619, 0.5641416541416542, 0.586516870663212, 0.4921209684624318, 0.5617229909335172, 0.510946879393606, 0.6235577935577935, 0.5635279751069225, 0.5749449079054344, 0.6726000726000725, 0.5209370988446727, 0.4692508710801393, 0.4719086783891095, 0.6128248344037818, 0.5718093310198573, 0.5212595669912743, 0.5287474314303583, 0.5033577533577533, 0.6307579770008613, 0.500001786831055, 0.6182596265523095, 0.5193431906846542]}, {\"categories\": [\"0\", \"1\", \"2\", \"3\", \"4\", \"5\", \"6\", \"7\", \"8\", \"9\", \"10\", \"11\", \"12\", \"13\", \"14\", \"15\", \"16\", \"17\", \"18\", \"19\", \"20\", \"21\"], \"mode\": \"lines\", \"name\": \"f1_score_macro_max\", \"stepped\": true, \"type\": \"scatter\", \"data\": [0.6260938667130619, 0.6260938667130619, 0.6260938667130619, 0.6260938667130619, 0.6260938667130619, 0.6260938667130619, 0.6260938667130619, 0.6260938667130619, 0.6260938667130619, 0.6726000726000725, 0.6726000726000725, 0.6726000726000725, 0.6726000726000725, 0.6726000726000725, 0.6726000726000725, 0.6726000726000725, 0.6726000726000725, 0.6726000726000725, 0.6726000726000725, 0.6726000726000725, 0.6726000726000725, 0.6726000726000725]}], \"average_precision_score_micro\": [{\"categories\": [\"0\", \"1\", \"2\", \"3\", \"4\", \"5\", \"6\", \"7\", \"8\", \"9\", \"10\", \"11\", \"12\", \"13\", \"14\", \"15\", \"16\", \"17\", \"18\", \"19\", \"20\", \"21\"], \"mode\": \"markers\", \"name\": \"average_precision_score_micro\", \"stepped\": false, \"type\": \"scatter\", \"data\": [0.8227782246000445, 0.7939740438987676, 0.7932810997330666, 0.7436006520798644, 0.7424072771124255, 0.8151131918762651, 0.7856935394729625, 0.726622524882802, 0.7559426053228305, 0.842922192446536, 0.8123613607451811, 0.8167858900379471, 0.7886786029860268, 0.7642228601537817, 0.7071555475508264, 0.8125851244114667, 0.8163591194766561, 0.7991699865756763, 0.7555495354034408, 0.7759632298923654, 0.8248899140704612, 0.8447040561353176]}, {\"categories\": [\"0\", \"1\", \"2\", \"3\", \"4\", \"5\", \"6\", \"7\", \"8\", \"9\", \"10\", \"11\", \"12\", \"13\", \"14\", \"15\", \"16\", \"17\", \"18\", \"19\", \"20\", \"21\"], \"mode\": \"lines\", \"name\": \"average_precision_score_micro_max\", \"stepped\": true, \"type\": \"scatter\", \"data\": [0.8227782246000445, 0.8227782246000445, 0.8227782246000445, 0.8227782246000445, 0.8227782246000445, 0.8227782246000445, 0.8227782246000445, 0.8227782246000445, 0.8227782246000445, 0.842922192446536, 0.842922192446536, 0.842922192446536, 0.842922192446536, 0.842922192446536, 0.842922192446536, 0.842922192446536, 0.842922192446536, 0.842922192446536, 0.842922192446536, 0.842922192446536, 0.842922192446536, 0.8447040561353176]}], \"accuracy\": [{\"categories\": [\"0\", \"1\", \"2\", \"3\", \"4\", \"5\", \"6\", \"7\", \"8\", \"9\", \"10\", \"11\", \"12\", \"13\", \"14\", \"15\", \"16\", \"17\", \"18\", \"19\", \"20\", \"21\"], \"mode\": \"markers\", \"name\": \"accuracy\", \"stepped\": false, \"type\": \"scatter\", \"data\": [0.7637681159420291, 0.7297101449275363, 0.788768115942029, 0.7460144927536232, 0.721376811594203, 0.7539855072463768, 0.7126811594202899, 0.7452898550724637, 0.7130434782608696, 0.7887681159420289, 0.7641304347826087, 0.7550724637681159, 0.7634057971014493, 0.7387681159420291, 0.7380434782608696, 0.7634057971014493, 0.7717391304347826, 0.730072463768116, 0.686231884057971, 0.763768115942029, 0.8054347826086957, 0.7630434782608695]}, {\"categories\": [\"0\", \"1\", \"2\", \"3\", \"4\", \"5\", \"6\", \"7\", \"8\", \"9\", \"10\", \"11\", \"12\", \"13\", \"14\", \"15\", \"16\", \"17\", \"18\", \"19\", \"20\", \"21\"], \"mode\": \"lines\", \"name\": \"accuracy_max\", \"stepped\": true, \"type\": \"scatter\", \"data\": [0.7637681159420291, 0.7637681159420291, 0.788768115942029, 0.788768115942029, 0.788768115942029, 0.788768115942029, 0.788768115942029, 0.788768115942029, 0.788768115942029, 0.788768115942029, 0.788768115942029, 0.788768115942029, 0.788768115942029, 0.788768115942029, 0.788768115942029, 0.788768115942029, 0.788768115942029, 0.788768115942029, 0.788768115942029, 0.788768115942029, 0.8054347826086957, 0.8054347826086957]}], \"precision_score_macro\": [{\"categories\": [\"0\", \"1\", \"2\", \"3\", \"4\", \"5\", \"6\", \"7\", \"8\", \"9\", \"10\", \"11\", \"12\", \"13\", \"14\", \"15\", \"16\", \"17\", \"18\", \"19\", \"20\", \"21\"], \"mode\": \"markers\", \"name\": \"precision_score_macro\", \"stepped\": false, \"type\": \"scatter\", \"data\": [0.7076826278670403, 0.6355797101449275, 0.842885375494071, 0.5314488048183701, 0.610686274509804, 0.6104786422578184, 0.6341060985797828, 0.5685376484689986, 0.5928149920255184, 0.744611908559277, 0.5862554112554113, 0.4802042160737813, 0.48111001317523067, 0.6209649122807018, 0.6246031746031745, 0.5856554677206851, 0.6372623753058535, 0.5814699792960661, 0.6355623543123544, 0.5835638998682476, 0.8978260869565217, 0.5857966309053266]}, {\"categories\": [\"0\", \"1\", \"2\", \"3\", \"4\", \"5\", \"6\", \"7\", \"8\", \"9\", \"10\", \"11\", \"12\", \"13\", \"14\", \"15\", \"16\", \"17\", \"18\", \"19\", \"20\", \"21\"], \"mode\": \"lines\", \"name\": \"precision_score_macro_max\", \"stepped\": true, \"type\": \"scatter\", \"data\": [0.7076826278670403, 0.7076826278670403, 0.842885375494071, 0.842885375494071, 0.842885375494071, 0.842885375494071, 0.842885375494071, 0.842885375494071, 0.842885375494071, 0.842885375494071, 0.842885375494071, 0.842885375494071, 0.842885375494071, 0.842885375494071, 0.842885375494071, 0.842885375494071, 0.842885375494071, 0.842885375494071, 0.842885375494071, 0.842885375494071, 0.8978260869565217, 0.8978260869565217]}], \"log_loss\": [{\"categories\": [\"0\", \"1\", \"2\", \"3\", \"4\", \"5\", \"6\", \"7\", \"8\", \"9\", \"10\", \"11\", \"12\", \"13\", \"14\", \"15\", \"16\", \"17\", \"18\", \"19\", \"20\", \"21\"], \"mode\": \"markers\", \"name\": \"log_loss\", \"stepped\": false, \"type\": \"scatter\", \"data\": [0.6553644908112481, 0.657328714223335, 1.0875010476939966, 0.8843299773496319, 1.158249975706698, 0.5382258016130759, 0.5785233953721411, 3.567634958742778, 0.6174841586460441, 0.5374170721542588, 0.5514496175378808, 0.5532886425531479, 0.5557714987221354, 1.6455892980319764, 0.9489811276420059, 0.5433367884922357, 0.5373848495455504, 0.5603324471845413, 0.6842457297169675, 0.5489961037413825, 0.547422004452099, 0.5127582934915159]}, {\"categories\": [\"0\", \"1\", \"2\", \"3\", \"4\", \"5\", \"6\", \"7\", \"8\", \"9\", \"10\", \"11\", \"12\", \"13\", \"14\", \"15\", \"16\", \"17\", \"18\", \"19\", \"20\", \"21\"], \"mode\": \"lines\", \"name\": \"log_loss_min\", \"stepped\": true, \"type\": \"scatter\", \"data\": [0.6553644908112481, 0.6553644908112481, 0.6553644908112481, 0.6553644908112481, 0.6553644908112481, 0.5382258016130759, 0.5382258016130759, 0.5382258016130759, 0.5382258016130759, 0.5374170721542588, 0.5374170721542588, 0.5374170721542588, 0.5374170721542588, 0.5374170721542588, 0.5374170721542588, 0.5374170721542588, 0.5373848495455504, 0.5373848495455504, 0.5373848495455504, 0.5373848495455504, 0.5373848495455504, 0.5127582934915159]}], \"norm_macro_recall\": [{\"categories\": [\"0\", \"1\", \"2\", \"3\", \"4\", \"5\", \"6\", \"7\", \"8\", \"9\", \"10\", \"11\", \"12\", \"13\", \"14\", \"15\", \"16\", \"17\", \"18\", \"19\", \"20\", \"21\"], \"mode\": \"markers\", \"name\": \"norm_macro_recall\", \"stepped\": false, \"type\": \"scatter\", \"data\": [0.2720241780922895, 0.14241043785935426, 0.1687114845938375, 0.07947368421052628, 0.13378888397464248, 0.08699248120300748, 0.32757776794928495, 0.19165413533834585, 0.1820286009140498, 0.34559781807459833, 0.11666666666666665, 0.05, 0.05, 0.2672622733303848, 0.1354518649565089, 0.09628040689960193, 0.11280701754385962, 0.08961374023293525, 0.3737402329352793, 0.08333333333333334, 0.22047619047619044, 0.09628040689960189]}, {\"categories\": [\"0\", \"1\", \"2\", \"3\", \"4\", \"5\", \"6\", \"7\", \"8\", \"9\", \"10\", \"11\", \"12\", \"13\", \"14\", \"15\", \"16\", \"17\", \"18\", \"19\", \"20\", \"21\"], \"mode\": \"lines\", \"name\": \"norm_macro_recall_max\", \"stepped\": true, \"type\": \"scatter\", \"data\": [0.2720241780922895, 0.2720241780922895, 0.2720241780922895, 0.2720241780922895, 0.2720241780922895, 0.2720241780922895, 0.32757776794928495, 0.32757776794928495, 0.32757776794928495, 0.34559781807459833, 0.34559781807459833, 0.34559781807459833, 0.34559781807459833, 0.34559781807459833, 0.34559781807459833, 0.34559781807459833, 0.34559781807459833, 0.34559781807459833, 0.3737402329352793, 0.3737402329352793, 0.3737402329352793, 0.3737402329352793]}], \"average_precision_score_macro\": [{\"categories\": [\"0\", \"1\", \"2\", \"3\", \"4\", \"5\", \"6\", \"7\", \"8\", \"9\", \"10\", \"11\", \"12\", \"13\", \"14\", \"15\", \"16\", \"17\", \"18\", \"19\", \"20\", \"21\"], \"mode\": \"markers\", \"name\": \"average_precision_score_macro\", \"stepped\": false, \"type\": \"scatter\", \"data\": [0.7273334503574764, 0.6849014090694799, 0.6644091842252265, 0.5797419009486662, 0.6233360643166844, 0.7030170585171763, 0.6970502381708672, 0.5840665081221215, 0.6277554065345342, 0.7475007680338074, 0.6708788693333501, 0.677069985973362, 0.6314996302939914, 0.6508384522677119, 0.5719171744644876, 0.7074398586539212, 0.7048803288871586, 0.6734152727311506, 0.7422667524834369, 0.6377726746062824, 0.7186658248330582, 0.775573995405576]}, {\"categories\": [\"0\", \"1\", \"2\", \"3\", \"4\", \"5\", \"6\", \"7\", \"8\", \"9\", \"10\", \"11\", \"12\", \"13\", \"14\", \"15\", \"16\", \"17\", \"18\", \"19\", \"20\", \"21\"], \"mode\": \"lines\", \"name\": \"average_precision_score_macro_max\", \"stepped\": true, \"type\": \"scatter\", \"data\": [0.7273334503574764, 0.7273334503574764, 0.7273334503574764, 0.7273334503574764, 0.7273334503574764, 0.7273334503574764, 0.7273334503574764, 0.7273334503574764, 0.7273334503574764, 0.7475007680338074, 0.7475007680338074, 0.7475007680338074, 0.7475007680338074, 0.7475007680338074, 0.7475007680338074, 0.7475007680338074, 0.7475007680338074, 0.7475007680338074, 0.7475007680338074, 0.7475007680338074, 0.7475007680338074, 0.775573995405576]}], \"f1_score_micro\": [{\"categories\": [\"0\", \"1\", \"2\", \"3\", \"4\", \"5\", \"6\", \"7\", \"8\", \"9\", \"10\", \"11\", \"12\", \"13\", \"14\", \"15\", \"16\", \"17\", \"18\", \"19\", \"20\", \"21\"], \"mode\": \"markers\", \"name\": \"f1_score_micro\", \"stepped\": false, \"type\": \"scatter\", \"data\": [0.7637681159420291, 0.7297101449275363, 0.788768115942029, 0.7460144927536232, 0.7213768115942029, 0.7539855072463768, 0.7126811594202898, 0.7452898550724637, 0.7130434782608696, 0.7887681159420289, 0.7641304347826087, 0.7550724637681159, 0.7634057971014492, 0.7387681159420291, 0.7380434782608696, 0.7634057971014492, 0.7717391304347826, 0.730072463768116, 0.686231884057971, 0.763768115942029, 0.8054347826086957, 0.7630434782608695]}, {\"categories\": [\"0\", \"1\", \"2\", \"3\", \"4\", \"5\", \"6\", \"7\", \"8\", \"9\", \"10\", \"11\", \"12\", \"13\", \"14\", \"15\", \"16\", \"17\", \"18\", \"19\", \"20\", \"21\"], \"mode\": \"lines\", \"name\": \"f1_score_micro_max\", \"stepped\": true, \"type\": \"scatter\", \"data\": [0.7637681159420291, 0.7637681159420291, 0.788768115942029, 0.788768115942029, 0.788768115942029, 0.788768115942029, 0.788768115942029, 0.788768115942029, 0.788768115942029, 0.788768115942029, 0.788768115942029, 0.788768115942029, 0.788768115942029, 0.788768115942029, 0.788768115942029, 0.788768115942029, 0.788768115942029, 0.788768115942029, 0.788768115942029, 0.788768115942029, 0.8054347826086957, 0.8054347826086957]}], \"weighted_accuracy\": [{\"categories\": [\"0\", \"1\", \"2\", \"3\", \"4\", \"5\", \"6\", \"7\", \"8\", \"9\", \"10\", \"11\", \"12\", \"13\", \"14\", \"15\", \"16\", \"17\", \"18\", \"19\", \"20\", \"21\"], \"mode\": \"markers\", \"name\": \"weighted_accuracy\", \"stepped\": false, \"type\": \"scatter\", \"data\": [0.8403755519916102, 0.8216967711992794, 0.9050464058831178, 0.8725289604638157, 0.811837664513851, 0.8770325311636729, 0.7522425855778614, 0.8416128885613912, 0.7866842867005042, 0.8584233734682464, 0.8882340687583057, 0.8906940129591824, 0.9005385725446746, 0.8110501082046279, 0.8328635099318845, 0.8873675267709984, 0.8967419782152948, 0.848641294522742, 0.6938661857102231, 0.8943863206514902, 0.9176962510558806, 0.8871325107596736]}, {\"categories\": [\"0\", \"1\", \"2\", \"3\", \"4\", \"5\", \"6\", \"7\", \"8\", \"9\", \"10\", \"11\", \"12\", \"13\", \"14\", \"15\", \"16\", \"17\", \"18\", \"19\", \"20\", \"21\"], \"mode\": \"lines\", \"name\": \"weighted_accuracy_max\", \"stepped\": true, \"type\": \"scatter\", \"data\": [0.8403755519916102, 0.8403755519916102, 0.9050464058831178, 0.9050464058831178, 0.9050464058831178, 0.9050464058831178, 0.9050464058831178, 0.9050464058831178, 0.9050464058831178, 0.9050464058831178, 0.9050464058831178, 0.9050464058831178, 0.9050464058831178, 0.9050464058831178, 0.9050464058831178, 0.9050464058831178, 0.9050464058831178, 0.9050464058831178, 0.9050464058831178, 0.9050464058831178, 0.9176962510558806, 0.9176962510558806]}], \"AUC_micro\": [{\"categories\": [\"0\", \"1\", \"2\", \"3\", \"4\", \"5\", \"6\", \"7\", \"8\", \"9\", \"10\", \"11\", \"12\", \"13\", \"14\", \"15\", \"16\", \"17\", \"18\", \"19\", \"20\", \"21\"], \"mode\": \"markers\", \"name\": \"AUC_micro\", \"stepped\": false, \"type\": \"scatter\", \"data\": [0.8228103339634532, 0.8011749107330391, 0.8063753675698383, 0.7558286074354127, 0.7609473456206679, 0.8209823303927746, 0.7745241283343836, 0.7575502783028776, 0.753737397605545, 0.8475090579710145, 0.8145078502415458, 0.8153952688510818, 0.7945238657844991, 0.7944926879857173, 0.7413456994328922, 0.8194306605755093, 0.8221854652383953, 0.8041528827977317, 0.7589463873135897, 0.7902410207939509, 0.8309198435202688, 0.8457112476370512]}, {\"categories\": [\"0\", \"1\", \"2\", \"3\", \"4\", \"5\", \"6\", \"7\", \"8\", \"9\", \"10\", \"11\", \"12\", \"13\", \"14\", \"15\", \"16\", \"17\", \"18\", \"19\", \"20\", \"21\"], \"mode\": \"lines\", \"name\": \"AUC_micro_max\", \"stepped\": true, \"type\": \"scatter\", \"data\": [0.8228103339634532, 0.8228103339634532, 0.8228103339634532, 0.8228103339634532, 0.8228103339634532, 0.8228103339634532, 0.8228103339634532, 0.8228103339634532, 0.8228103339634532, 0.8475090579710145, 0.8475090579710145, 0.8475090579710145, 0.8475090579710145, 0.8475090579710145, 0.8475090579710145, 0.8475090579710145, 0.8475090579710145, 0.8475090579710145, 0.8475090579710145, 0.8475090579710145, 0.8475090579710145, 0.8475090579710145]}], \"recall_score_macro\": [{\"categories\": [\"0\", \"1\", \"2\", \"3\", \"4\", \"5\", \"6\", \"7\", \"8\", \"9\", \"10\", \"11\", \"12\", \"13\", \"14\", \"15\", \"16\", \"17\", \"18\", \"19\", \"20\", \"21\"], \"mode\": \"markers\", \"name\": \"recall_score_macro\", \"stepped\": false, \"type\": \"scatter\", \"data\": [0.6360120890461449, 0.5678438743918621, 0.5843557422969188, 0.5279721362229102, 0.5635330974495062, 0.5434962406015038, 0.6604275394368274, 0.5781800088456436, 0.5866003243402623, 0.6727989090372992, 0.5478070175438596, 0.5197368421052632, 0.525, 0.615984077841663, 0.5677259324782545, 0.548140203449801, 0.5564035087719299, 0.5231350434910806, 0.6868701164676396, 0.5364035087719298, 0.6102380952380952, 0.5481402034498009]}, {\"categories\": [\"0\", \"1\", \"2\", \"3\", \"4\", \"5\", \"6\", \"7\", \"8\", \"9\", \"10\", \"11\", \"12\", \"13\", \"14\", \"15\", \"16\", \"17\", \"18\", \"19\", \"20\", \"21\"], \"mode\": \"lines\", \"name\": \"recall_score_macro_max\", \"stepped\": true, \"type\": \"scatter\", \"data\": [0.6360120890461449, 0.6360120890461449, 0.6360120890461449, 0.6360120890461449, 0.6360120890461449, 0.6360120890461449, 0.6604275394368274, 0.6604275394368274, 0.6604275394368274, 0.6727989090372992, 0.6727989090372992, 0.6727989090372992, 0.6727989090372992, 0.6727989090372992, 0.6727989090372992, 0.6727989090372992, 0.6727989090372992, 0.6727989090372992, 0.6868701164676396, 0.6868701164676396, 0.6868701164676396, 0.6868701164676396]}], \"precision_score_micro\": [{\"categories\": [\"0\", \"1\", \"2\", \"3\", \"4\", \"5\", \"6\", \"7\", \"8\", \"9\", \"10\", \"11\", \"12\", \"13\", \"14\", \"15\", \"16\", \"17\", \"18\", \"19\", \"20\", \"21\"], \"mode\": \"markers\", \"name\": \"precision_score_micro\", \"stepped\": false, \"type\": \"scatter\", \"data\": [0.7637681159420291, 0.7297101449275363, 0.788768115942029, 0.7460144927536232, 0.721376811594203, 0.7539855072463768, 0.7126811594202899, 0.7452898550724637, 0.7130434782608696, 0.7887681159420289, 0.7641304347826087, 0.7550724637681159, 0.7634057971014493, 0.7387681159420291, 0.7380434782608696, 0.7634057971014493, 0.7717391304347826, 0.730072463768116, 0.686231884057971, 0.763768115942029, 0.8054347826086957, 0.7630434782608695]}, {\"categories\": [\"0\", \"1\", \"2\", \"3\", \"4\", \"5\", \"6\", \"7\", \"8\", \"9\", \"10\", \"11\", \"12\", \"13\", \"14\", \"15\", \"16\", \"17\", \"18\", \"19\", \"20\", \"21\"], \"mode\": \"lines\", \"name\": \"precision_score_micro_max\", \"stepped\": true, \"type\": \"scatter\", \"data\": [0.7637681159420291, 0.7637681159420291, 0.788768115942029, 0.788768115942029, 0.788768115942029, 0.788768115942029, 0.788768115942029, 0.788768115942029, 0.788768115942029, 0.788768115942029, 0.788768115942029, 0.788768115942029, 0.788768115942029, 0.788768115942029, 0.788768115942029, 0.788768115942029, 0.788768115942029, 0.788768115942029, 0.788768115942029, 0.788768115942029, 0.8054347826086957, 0.8054347826086957]}], \"precision_score_weighted\": [{\"categories\": [\"0\", \"1\", \"2\", \"3\", \"4\", \"5\", \"6\", \"7\", \"8\", \"9\", \"10\", \"11\", \"12\", \"13\", \"14\", \"15\", \"16\", \"17\", \"18\", \"19\", \"20\", \"21\"], \"mode\": \"markers\", \"name\": \"precision_score_weighted\", \"stepped\": false, \"type\": \"scatter\", \"data\": [0.7715085638998682, 0.7203985507246377, 0.8115777338603426, 0.6378778075788946, 0.7005948828806885, 0.6929433154799411, 0.7423768206748755, 0.6849197722567287, 0.6987005928853756, 0.7924122518087049, 0.6723559351276742, 0.6113406035783162, 0.6127747823222777, 0.7159528349860158, 0.7083707154359329, 0.6696560954535908, 0.6985675857958465, 0.6767919882050316, 0.7561451787946354, 0.6684810057092665, 0.8483695652173913, 0.6732769311396438]}, {\"categories\": [\"0\", \"1\", \"2\", \"3\", \"4\", \"5\", \"6\", \"7\", \"8\", \"9\", \"10\", \"11\", \"12\", \"13\", \"14\", \"15\", \"16\", \"17\", \"18\", \"19\", \"20\", \"21\"], \"mode\": \"lines\", \"name\": \"precision_score_weighted_max\", \"stepped\": true, \"type\": \"scatter\", \"data\": [0.7715085638998682, 0.7715085638998682, 0.8115777338603426, 0.8115777338603426, 0.8115777338603426, 0.8115777338603426, 0.8115777338603426, 0.8115777338603426, 0.8115777338603426, 0.8115777338603426, 0.8115777338603426, 0.8115777338603426, 0.8115777338603426, 0.8115777338603426, 0.8115777338603426, 0.8115777338603426, 0.8115777338603426, 0.8115777338603426, 0.8115777338603426, 0.8115777338603426, 0.8483695652173913, 0.8483695652173913]}], \"average_precision_score_weighted\": [{\"categories\": [\"0\", \"1\", \"2\", \"3\", \"4\", \"5\", \"6\", \"7\", \"8\", \"9\", \"10\", \"11\", \"12\", \"13\", \"14\", \"15\", \"16\", \"17\", \"18\", \"19\", \"20\", \"21\"], \"mode\": \"markers\", \"name\": \"average_precision_score_weighted\", \"stepped\": false, \"type\": \"scatter\", \"data\": [0.8019709902822955, 0.7685079807933566, 0.7512339045761276, 0.6834323662216555, 0.7194609631351292, 0.7850990561300755, 0.7862993709516204, 0.6893237848885188, 0.7330461248027451, 0.8159284395838778, 0.7697349398409854, 0.7750715450317095, 0.7352747517850583, 0.7396374710200924, 0.6695437287617517, 0.7847966237171033, 0.7876478997600616, 0.766033921523842, 0.8093298839528892, 0.7319996351759123, 0.7943991765175218, 0.8355901365996514]}, {\"categories\": [\"0\", \"1\", \"2\", \"3\", \"4\", \"5\", \"6\", \"7\", \"8\", \"9\", \"10\", \"11\", \"12\", \"13\", \"14\", \"15\", \"16\", \"17\", \"18\", \"19\", \"20\", \"21\"], \"mode\": \"lines\", \"name\": \"average_precision_score_weighted_max\", \"stepped\": true, \"type\": \"scatter\", \"data\": [0.8019709902822955, 0.8019709902822955, 0.8019709902822955, 0.8019709902822955, 0.8019709902822955, 0.8019709902822955, 0.8019709902822955, 0.8019709902822955, 0.8019709902822955, 0.8159284395838778, 0.8159284395838778, 0.8159284395838778, 0.8159284395838778, 0.8159284395838778, 0.8159284395838778, 0.8159284395838778, 0.8159284395838778, 0.8159284395838778, 0.8159284395838778, 0.8159284395838778, 0.8159284395838778, 0.8355901365996514]}], \"recall_score_micro\": [{\"categories\": [\"0\", \"1\", \"2\", \"3\", \"4\", \"5\", \"6\", \"7\", \"8\", \"9\", \"10\", \"11\", \"12\", \"13\", \"14\", \"15\", \"16\", \"17\", \"18\", \"19\", \"20\", \"21\"], \"mode\": \"markers\", \"name\": \"recall_score_micro\", \"stepped\": false, \"type\": \"scatter\", \"data\": [0.7637681159420291, 0.7297101449275363, 0.788768115942029, 0.7460144927536232, 0.721376811594203, 0.7539855072463768, 0.7126811594202899, 0.7452898550724637, 0.7130434782608696, 0.7887681159420289, 0.7641304347826087, 0.7550724637681159, 0.7634057971014493, 0.7387681159420291, 0.7380434782608696, 0.7634057971014493, 0.7717391304347826, 0.730072463768116, 0.686231884057971, 0.763768115942029, 0.8054347826086957, 0.7630434782608695]}, {\"categories\": [\"0\", \"1\", \"2\", \"3\", \"4\", \"5\", \"6\", \"7\", \"8\", \"9\", \"10\", \"11\", \"12\", \"13\", \"14\", \"15\", \"16\", \"17\", \"18\", \"19\", \"20\", \"21\"], \"mode\": \"lines\", \"name\": \"recall_score_micro_max\", \"stepped\": true, \"type\": \"scatter\", \"data\": [0.7637681159420291, 0.7637681159420291, 0.788768115942029, 0.788768115942029, 0.788768115942029, 0.788768115942029, 0.788768115942029, 0.788768115942029, 0.788768115942029, 0.788768115942029, 0.788768115942029, 0.788768115942029, 0.788768115942029, 0.788768115942029, 0.788768115942029, 0.788768115942029, 0.788768115942029, 0.788768115942029, 0.788768115942029, 0.788768115942029, 0.8054347826086957, 0.8054347826086957]}], \"balanced_accuracy\": [{\"categories\": [\"0\", \"1\", \"2\", \"3\", \"4\", \"5\", \"6\", \"7\", \"8\", \"9\", \"10\", \"11\", \"12\", \"13\", \"14\", \"15\", \"16\", \"17\", \"18\", \"19\", \"20\", \"21\"], \"mode\": \"markers\", \"name\": \"balanced_accuracy\", \"stepped\": false, \"type\": \"scatter\", \"data\": [0.6360120890461449, 0.5678438743918621, 0.5843557422969188, 0.5279721362229102, 0.5635330974495062, 0.5434962406015038, 0.6604275394368274, 0.5781800088456436, 0.5866003243402623, 0.6727989090372992, 0.5478070175438596, 0.5197368421052632, 0.525, 0.615984077841663, 0.5677259324782545, 0.548140203449801, 0.5564035087719299, 0.5231350434910806, 0.6868701164676396, 0.5364035087719298, 0.6102380952380952, 0.5481402034498009]}, {\"categories\": [\"0\", \"1\", \"2\", \"3\", \"4\", \"5\", \"6\", \"7\", \"8\", \"9\", \"10\", \"11\", \"12\", \"13\", \"14\", \"15\", \"16\", \"17\", \"18\", \"19\", \"20\", \"21\"], \"mode\": \"lines\", \"name\": \"balanced_accuracy_max\", \"stepped\": true, \"type\": \"scatter\", \"data\": [0.6360120890461449, 0.6360120890461449, 0.6360120890461449, 0.6360120890461449, 0.6360120890461449, 0.6360120890461449, 0.6604275394368274, 0.6604275394368274, 0.6604275394368274, 0.6727989090372992, 0.6727989090372992, 0.6727989090372992, 0.6727989090372992, 0.6727989090372992, 0.6727989090372992, 0.6727989090372992, 0.6727989090372992, 0.6727989090372992, 0.6868701164676396, 0.6868701164676396, 0.6868701164676396, 0.6868701164676396]}]}, \"metricName\": null, \"primaryMetricName\": \"precision_score_weighted\", \"showLegend\": false}, \"run_metrics\": [{\"name\": \"log_loss\", \"run_id\": \"AutoML_073d7624-35cd-471a-8b3f-6b19ee9f129a\", \"categories\": [0], \"series\": [{\"data\": [0.547422004452099]}]}, {\"name\": \"precision_score_weighted\", \"run_id\": \"AutoML_073d7624-35cd-471a-8b3f-6b19ee9f129a\", \"categories\": [0], \"series\": [{\"data\": [0.8483695652173913]}]}, {\"name\": \"balanced_accuracy\", \"run_id\": \"AutoML_073d7624-35cd-471a-8b3f-6b19ee9f129a\", \"categories\": [0], \"series\": [{\"data\": [0.6102380952380952]}]}, {\"name\": \"weighted_accuracy\", \"run_id\": \"AutoML_073d7624-35cd-471a-8b3f-6b19ee9f129a\", \"categories\": [0], \"series\": [{\"data\": [0.9176962510558806]}]}, {\"name\": \"AUC_micro\", \"run_id\": \"AutoML_073d7624-35cd-471a-8b3f-6b19ee9f129a\", \"categories\": [0], \"series\": [{\"data\": [0.8309198435202688]}]}, {\"name\": \"recall_score_micro\", \"run_id\": \"AutoML_073d7624-35cd-471a-8b3f-6b19ee9f129a\", \"categories\": [0], \"series\": [{\"data\": [0.8054347826086957]}]}, {\"name\": \"f1_score_weighted\", \"run_id\": \"AutoML_073d7624-35cd-471a-8b3f-6b19ee9f129a\", \"categories\": [0], \"series\": [{\"data\": [0.7513797054836291]}]}, {\"name\": \"f1_score_micro\", \"run_id\": \"AutoML_073d7624-35cd-471a-8b3f-6b19ee9f129a\", \"categories\": [0], \"series\": [{\"data\": [0.8054347826086957]}]}, {\"name\": \"average_precision_score_macro\", \"run_id\": \"AutoML_073d7624-35cd-471a-8b3f-6b19ee9f129a\", \"categories\": [0], \"series\": [{\"data\": [0.7186658248330582]}]}, {\"name\": \"recall_score_macro\", \"run_id\": \"AutoML_073d7624-35cd-471a-8b3f-6b19ee9f129a\", \"categories\": [0], \"series\": [{\"data\": [0.6102380952380952]}]}, {\"name\": \"recall_score_weighted\", \"run_id\": \"AutoML_073d7624-35cd-471a-8b3f-6b19ee9f129a\", \"categories\": [0], \"series\": [{\"data\": [0.8054347826086957]}]}, {\"name\": \"AUC_macro\", \"run_id\": \"AutoML_073d7624-35cd-471a-8b3f-6b19ee9f129a\", \"categories\": [0], \"series\": [{\"data\": [0.706155093616394]}]}, {\"name\": \"precision_score_micro\", \"run_id\": \"AutoML_073d7624-35cd-471a-8b3f-6b19ee9f129a\", \"categories\": [0], \"series\": [{\"data\": [0.8054347826086957]}]}, {\"name\": \"average_precision_score_micro\", \"run_id\": \"AutoML_073d7624-35cd-471a-8b3f-6b19ee9f129a\", \"categories\": [0], \"series\": [{\"data\": [0.8248899140704612]}]}, {\"name\": \"average_precision_score_weighted\", \"run_id\": \"AutoML_073d7624-35cd-471a-8b3f-6b19ee9f129a\", \"categories\": [0], \"series\": [{\"data\": [0.7943991765175218]}]}, {\"name\": \"matthews_correlation\", \"run_id\": \"AutoML_073d7624-35cd-471a-8b3f-6b19ee9f129a\", \"categories\": [0], \"series\": [{\"data\": [0.41223535469692785]}]}, {\"name\": \"accuracy\", \"run_id\": \"AutoML_073d7624-35cd-471a-8b3f-6b19ee9f129a\", \"categories\": [0], \"series\": [{\"data\": [0.8054347826086957]}]}, {\"name\": \"AUC_weighted\", \"run_id\": \"AutoML_073d7624-35cd-471a-8b3f-6b19ee9f129a\", \"categories\": [0], \"series\": [{\"data\": [0.706155093616394]}]}, {\"name\": \"precision_score_macro\", \"run_id\": \"AutoML_073d7624-35cd-471a-8b3f-6b19ee9f129a\", \"categories\": [0], \"series\": [{\"data\": [0.8978260869565217]}]}, {\"name\": \"norm_macro_recall\", \"run_id\": \"AutoML_073d7624-35cd-471a-8b3f-6b19ee9f129a\", \"categories\": [0], \"series\": [{\"data\": [0.22047619047619044]}]}, {\"name\": \"f1_score_macro\", \"run_id\": \"AutoML_073d7624-35cd-471a-8b3f-6b19ee9f129a\", \"categories\": [0], \"series\": [{\"data\": [0.6182596265523095]}]}], \"run_logs\": \"\\nRun is completed.\", \"graph\": {}, \"widget_settings\": {\"childWidgetDisplay\": \"popup\", \"send_telemetry\": false, \"log_level\": \"INFO\", \"sdk_version\": \"1.24.0\"}, \"loading\": false}"
     },
     "metadata": {},
     "output_type": "display_data"
    },
    {
     "data": {
      "text/plain": [
       "{'runId': 'AutoML_073d7624-35cd-471a-8b3f-6b19ee9f129a',\n",
       " 'target': 'local',\n",
       " 'status': 'Completed',\n",
       " 'startTimeUtc': '2021-03-14T09:12:38.463082Z',\n",
       " 'endTimeUtc': '2021-03-14T09:30:04.77002Z',\n",
       " 'properties': {'num_iterations': '25',\n",
       "  'training_type': 'TrainFull',\n",
       "  'acquisition_function': 'EI',\n",
       "  'primary_metric': 'precision_score_weighted',\n",
       "  'train_split': '0',\n",
       "  'acquisition_parameter': '0',\n",
       "  'num_cross_validation': '5',\n",
       "  'target': 'local',\n",
       "  'AMLSettingsJsonString': '{\"path\":null,\"name\":\"automl-binary-classification-SDSHackathon\",\"subscription_id\":\"43c1f93a-903d-4b23-a4bf-92bd7a150627\",\"resource_group\":\"myResourceGroup11\",\"workspace_name\":\"machine_learning_workspace11\",\"region\":\"northeurope\",\"compute_target\":\"local\",\"spark_service\":null,\"azure_service\":\"remote\",\"many_models\":false,\"pipeline_fetch_max_batch_size\":1,\"enable_batch_run\":false,\"iterations\":25,\"primary_metric\":\"precision_score_weighted\",\"task_type\":\"classification\",\"data_script\":null,\"validation_size\":0.0,\"n_cross_validations\":5,\"y_min\":null,\"y_max\":null,\"num_classes\":null,\"featurization\":\"auto\",\"_ignore_package_version_incompatibilities\":false,\"is_timeseries\":false,\"max_cores_per_iteration\":-1,\"max_concurrent_iterations\":1,\"iteration_timeout_minutes\":5,\"mem_in_mb\":null,\"enforce_time_on_windows\":false,\"experiment_timeout_minutes\":15,\"experiment_exit_score\":null,\"whitelist_models\":null,\"blacklist_algos\":[\"TensorFlowLinearClassifier\",\"TensorFlowDNN\"],\"supported_models\":[\"MultinomialNaiveBayes\",\"XGBoostClassifier\",\"LinearSVM\",\"RandomForest\",\"BernoulliNaiveBayes\",\"SGD\",\"AveragedPerceptronClassifier\",\"KNN\",\"SVM\",\"TensorFlowDNN\",\"DecisionTree\",\"ExtremeRandomTrees\",\"LightGBM\",\"TensorFlowLinearClassifier\",\"LogisticRegression\",\"GradientBoosting\"],\"private_models\":[],\"auto_blacklist\":true,\"blacklist_samples_reached\":false,\"exclude_nan_labels\":true,\"verbosity\":20,\"_debug_log\":\"automl_errors.log\",\"show_warnings\":false,\"model_explainability\":true,\"service_url\":null,\"sdk_url\":null,\"sdk_packages\":null,\"enable_onnx_compatible_models\":false,\"enable_split_onnx_featurizer_estimator_models\":false,\"vm_type\":null,\"telemetry_verbosity\":20,\"send_telemetry\":true,\"enable_dnn\":false,\"scenario\":\"SDK-1.13.0\",\"environment_label\":null,\"save_mlflow\":false,\"force_text_dnn\":false,\"enable_feature_sweeping\":true,\"enable_early_stopping\":true,\"early_stopping_n_iters\":10,\"metrics\":null,\"enable_metric_confidence\":false,\"enable_ensembling\":true,\"enable_stack_ensembling\":true,\"ensemble_iterations\":15,\"enable_tf\":false,\"enable_subsampling\":false,\"subsample_seed\":null,\"enable_nimbusml\":false,\"enable_streaming\":false,\"force_streaming\":false,\"track_child_runs\":true,\"allowed_private_models\":[],\"label_column_name\":\"True_Target\",\"weight_column_name\":null,\"cv_split_column_names\":null,\"enable_local_managed\":false,\"_local_managed_run_id\":null,\"cost_mode\":1,\"lag_length\":0,\"metric_operation\":\"maximize\",\"preprocess\":true}',\n",
       "  'DataPrepJsonString': None,\n",
       "  'EnableSubsampling': 'False',\n",
       "  'runTemplate': 'AutoML',\n",
       "  'azureml.runsource': 'automl',\n",
       "  'display_task_type': 'classification',\n",
       "  'dependencies_versions': '{\"azureml-widgets\": \"1.24.0\", \"azureml-train-restclients-hyperdrive\": \"1.24.0\", \"azureml-train-core\": \"1.24.0\", \"azureml-train-automl\": \"1.24.0\", \"azureml-train-automl-runtime\": \"1.24.0\", \"azureml-train-automl-client\": \"1.24.0\", \"azureml-telemetry\": \"1.24.0\", \"azureml-pipeline-steps\": \"1.24.0\", \"azureml-pipeline-core\": \"1.24.0\", \"azureml-model-management-sdk\": \"1.0.1b6.post1\", \"azureml-interpret\": \"1.24.0\", \"azureml-defaults\": \"1.24.0\", \"azureml-dataset-runtime\": \"1.24.0\", \"azureml-dataprep\": \"2.11.1\", \"azureml-dataprep-rslex\": \"1.9.0\", \"azureml-dataprep-native\": \"30.0.0\", \"azureml-core\": \"1.24.0.post1\", \"azureml-automl-runtime\": \"1.24.0\", \"azureml-automl-core\": \"1.24.0\"}',\n",
       "  '_aml_system_scenario_identification': 'Local.Parent',\n",
       "  'ClientSdkVersion': '1.24.0',\n",
       "  'ClientType': 'SDK',\n",
       "  'environment_cpu_name': 'AzureML-AutoML',\n",
       "  'environment_cpu_label': 'prod',\n",
       "  'environment_gpu_name': 'AzureML-AutoML-GPU',\n",
       "  'environment_gpu_label': 'prod',\n",
       "  'root_attribution': 'automl',\n",
       "  'attribution': 'AutoML',\n",
       "  'Orchestrator': 'AutoML',\n",
       "  '_azureml.ComputeTargetType': 'local',\n",
       "  'ProblemInfoJsonString': '{\"dataset_num_categorical\": 0, \"is_sparse\": false, \"subsampling\": false, \"dataset_classes\": 2, \"dataset_features\": 14, \"dataset_samples\": 118, \"single_frequency_class_detected\": false}',\n",
       "  'feature_skus': 'automatedml_sdk_guardrails',\n",
       "  'azureml.git.repository_uri': 'https://github.com/albert-kevin/G15SDSHackathon2021.git',\n",
       "  'mlflow.source.git.repoURL': 'https://github.com/albert-kevin/G15SDSHackathon2021.git',\n",
       "  'azureml.git.branch': 'main',\n",
       "  'mlflow.source.git.branch': 'main',\n",
       "  'azureml.git.commit': 'dc8d706fb0df8472c26bb7f32215cf10af6a4c24',\n",
       "  'mlflow.source.git.commit': 'dc8d706fb0df8472c26bb7f32215cf10af6a4c24',\n",
       "  'azureml.git.dirty': 'True'},\n",
       " 'inputDatasets': [],\n",
       " 'outputDatasets': [],\n",
       " 'logFiles': {},\n",
       " 'submittedBy': 'Kevin albert'}"
      ]
     },
     "execution_count": 131,
     "metadata": {},
     "output_type": "execute_result"
    }
   ],
   "source": [
    "RunDetails(automl_run).show()\n",
    "automl_run.wait_for_completion() # get more parameter info"
   ]
  },
  {
   "cell_type": "markdown",
   "id": "later-digest",
   "metadata": {},
   "source": [
    "### select best pipeline "
   ]
  },
  {
   "cell_type": "code",
   "execution_count": 132,
   "id": "horizontal-creature",
   "metadata": {},
   "outputs": [],
   "source": [
    "best_run, fitted_model = automl_run.get_output()"
   ]
  },
  {
   "cell_type": "markdown",
   "id": "accredited-biography",
   "metadata": {},
   "source": [
    "### inspect model properties"
   ]
  },
  {
   "cell_type": "code",
   "execution_count": 133,
   "id": "extreme-appraisal",
   "metadata": {},
   "outputs": [
    {
     "name": "stdout",
     "output_type": "stream",
     "text": [
      "datatransformer\n",
      "prefittedsoftvotingclassifier\n"
     ]
    }
   ],
   "source": [
    "# pipeline steps\n",
    "for step in fitted_model.named_steps:\n",
    "    print(step)"
   ]
  },
  {
   "cell_type": "code",
   "execution_count": 134,
   "id": "caring-trauma",
   "metadata": {},
   "outputs": [
    {
     "data": {
      "text/plain": [
       "{'datatransformer': DataTransformer(enable_dnn=None, enable_feature_sweeping=None,\n",
       "                 feature_sweeping_config=None, feature_sweeping_timeout=None,\n",
       "                 featurization_config=None, force_text_dnn=None,\n",
       "                 is_cross_validation=None, is_onnx_compatible=None, logger=None,\n",
       "                 observer=None, task=None, working_dir=None),\n",
       " 'prefittedsoftvotingclassifier': PreFittedSoftVotingClassifier(classification_labels=None,\n",
       "                               estimators=[('2',\n",
       "                                            Pipeline(memory=None,\n",
       "                                                     steps=[('minmaxscaler',\n",
       "                                                             MinMaxScaler(copy=True,\n",
       "                                                                          feature_range=(0,\n",
       "                                                                                         1))),\n",
       "                                                            ('randomforestclassifier',\n",
       "                                                             RandomForestClassifier(bootstrap=True,\n",
       "                                                                                    ccp_alpha=0.0,\n",
       "                                                                                    class_weight='balanced',\n",
       "                                                                                    criterion='gini',\n",
       "                                                                                    max_depth=None,\n",
       "                                                                                    max_features='log2',\n",
       "                                                                                    max_leaf_nodes=None,\n",
       "                                                                                    max_samples=N...\n",
       "                                                                                    max_leaf_nodes=None,\n",
       "                                                                                    max_samples=None,\n",
       "                                                                                    min_impurity_decrease=0.0,\n",
       "                                                                                    min_impurity_split=None,\n",
       "                                                                                    min_samples_leaf=0.035789473684210524,\n",
       "                                                                                    min_samples_split=0.01,\n",
       "                                                                                    min_weight_fraction_leaf=0.0,\n",
       "                                                                                    n_estimators=10,\n",
       "                                                                                    n_jobs=-1,\n",
       "                                                                                    oob_score=True,\n",
       "                                                                                    random_state=None,\n",
       "                                                                                    verbose=0,\n",
       "                                                                                    warm_start=False))],\n",
       "                                                     verbose=False))],\n",
       "                               flatten_transform=None,\n",
       "                               weights=[0.125, 0.125, 0.125, 0.125, 0.125, 0.125,\n",
       "                                        0.25])}"
      ]
     },
     "execution_count": 134,
     "metadata": {},
     "output_type": "execute_result"
    }
   ],
   "source": [
    "# model properties\n",
    "fitted_model.named_steps"
   ]
  },
  {
   "cell_type": "code",
   "execution_count": 135,
   "id": "selected-melissa",
   "metadata": {},
   "outputs": [
    {
     "data": {
      "text/plain": [
       "{'recall_score_weighted': 0.8054347826086957,\n",
       " 'matthews_correlation': 0.41223535469692785,\n",
       " 'f1_score_weighted': 0.7513797054836291,\n",
       " 'AUC_weighted': 0.706155093616394,\n",
       " 'AUC_macro': 0.706155093616394,\n",
       " 'f1_score_macro': 0.6182596265523095,\n",
       " 'average_precision_score_micro': 0.8248899140704612,\n",
       " 'accuracy': 0.8054347826086957,\n",
       " 'precision_score_macro': 0.8978260869565217,\n",
       " 'log_loss': 0.547422004452099,\n",
       " 'norm_macro_recall': 0.22047619047619044,\n",
       " 'average_precision_score_macro': 0.7186658248330582,\n",
       " 'f1_score_micro': 0.8054347826086957,\n",
       " 'weighted_accuracy': 0.9176962510558806,\n",
       " 'AUC_micro': 0.8309198435202688,\n",
       " 'recall_score_macro': 0.6102380952380952,\n",
       " 'precision_score_micro': 0.8054347826086957,\n",
       " 'precision_score_weighted': 0.8483695652173913,\n",
       " 'average_precision_score_weighted': 0.7943991765175218,\n",
       " 'recall_score_micro': 0.8054347826086957,\n",
       " 'balanced_accuracy': 0.6102380952380952,\n",
       " 'accuracy_table': 'aml://artifactId/ExperimentRun/dcid.AutoML_073d7624-35cd-471a-8b3f-6b19ee9f129a_20/accuracy_table',\n",
       " 'confusion_matrix': 'aml://artifactId/ExperimentRun/dcid.AutoML_073d7624-35cd-471a-8b3f-6b19ee9f129a_20/confusion_matrix'}"
      ]
     },
     "execution_count": 135,
     "metadata": {},
     "output_type": "execute_result"
    }
   ],
   "source": [
    "# show all metrics\n",
    "best_run.get_metrics()"
   ]
  },
  {
   "cell_type": "markdown",
   "id": "aggressive-newsletter",
   "metadata": {},
   "source": [
    "### quick feature importance checks"
   ]
  },
  {
   "cell_type": "code",
   "execution_count": 136,
   "id": "broad-thing",
   "metadata": {},
   "outputs": [
    {
     "data": {
      "text/html": [
       "<div>\n",
       "<style scoped>\n",
       "    .dataframe tbody tr th:only-of-type {\n",
       "        vertical-align: middle;\n",
       "    }\n",
       "\n",
       "    .dataframe tbody tr th {\n",
       "        vertical-align: top;\n",
       "    }\n",
       "\n",
       "    .dataframe thead th {\n",
       "        text-align: right;\n",
       "    }\n",
       "</style>\n",
       "<table border=\"1\" class=\"dataframe\">\n",
       "  <thead>\n",
       "    <tr style=\"text-align: right;\">\n",
       "      <th></th>\n",
       "      <th>modelFeatureImportance_name</th>\n",
       "      <th>modelFeatureImportance_value</th>\n",
       "    </tr>\n",
       "  </thead>\n",
       "  <tbody>\n",
       "    <tr>\n",
       "      <th>0</th>\n",
       "      <td>acousticness_MeanImputer</td>\n",
       "      <td>0.34</td>\n",
       "    </tr>\n",
       "    <tr>\n",
       "      <th>1</th>\n",
       "      <td>speechiness_MeanImputer</td>\n",
       "      <td>0.34</td>\n",
       "    </tr>\n",
       "    <tr>\n",
       "      <th>2</th>\n",
       "      <td>duration_ms_MeanImputer</td>\n",
       "      <td>0.31</td>\n",
       "    </tr>\n",
       "    <tr>\n",
       "      <th>3</th>\n",
       "      <td>VW_MeanImputer</td>\n",
       "      <td>0.27</td>\n",
       "    </tr>\n",
       "    <tr>\n",
       "      <th>4</th>\n",
       "      <td>liveness_MeanImputer</td>\n",
       "      <td>0.19</td>\n",
       "    </tr>\n",
       "    <tr>\n",
       "      <th>5</th>\n",
       "      <td>instrumentalness_MeanImputer</td>\n",
       "      <td>0.13</td>\n",
       "    </tr>\n",
       "    <tr>\n",
       "      <th>6</th>\n",
       "      <td>valence_MeanImputer</td>\n",
       "      <td>0.13</td>\n",
       "    </tr>\n",
       "    <tr>\n",
       "      <th>7</th>\n",
       "      <td>loudness_MeanImputer</td>\n",
       "      <td>0.12</td>\n",
       "    </tr>\n",
       "    <tr>\n",
       "      <th>8</th>\n",
       "      <td>tempo_MeanImputer</td>\n",
       "      <td>0.12</td>\n",
       "    </tr>\n",
       "    <tr>\n",
       "      <th>9</th>\n",
       "      <td>popularity_MeanImputer</td>\n",
       "      <td>0.11</td>\n",
       "    </tr>\n",
       "    <tr>\n",
       "      <th>10</th>\n",
       "      <td>energy_MeanImputer</td>\n",
       "      <td>0.11</td>\n",
       "    </tr>\n",
       "    <tr>\n",
       "      <th>11</th>\n",
       "      <td>key_MeanImputer</td>\n",
       "      <td>0.05</td>\n",
       "    </tr>\n",
       "    <tr>\n",
       "      <th>12</th>\n",
       "      <td>danceability_MeanImputer</td>\n",
       "      <td>0.01</td>\n",
       "    </tr>\n",
       "    <tr>\n",
       "      <th>13</th>\n",
       "      <td>mode_ModeCatImputer_LabelEncoder</td>\n",
       "      <td>0.00</td>\n",
       "    </tr>\n",
       "  </tbody>\n",
       "</table>\n",
       "</div>"
      ],
      "text/plain": [
       "         modelFeatureImportance_name  modelFeatureImportance_value\n",
       "0           acousticness_MeanImputer                          0.34\n",
       "1            speechiness_MeanImputer                          0.34\n",
       "2            duration_ms_MeanImputer                          0.31\n",
       "3                     VW_MeanImputer                          0.27\n",
       "4               liveness_MeanImputer                          0.19\n",
       "5       instrumentalness_MeanImputer                          0.13\n",
       "6                valence_MeanImputer                          0.13\n",
       "7               loudness_MeanImputer                          0.12\n",
       "8                  tempo_MeanImputer                          0.12\n",
       "9             popularity_MeanImputer                          0.11\n",
       "10                energy_MeanImputer                          0.11\n",
       "11                   key_MeanImputer                          0.05\n",
       "12          danceability_MeanImputer                          0.01\n",
       "13  mode_ModeCatImputer_LabelEncoder                          0.00"
      ]
     },
     "execution_count": 136,
     "metadata": {},
     "output_type": "execute_result"
    }
   ],
   "source": [
    "client = ExplanationClient.from_run(best_run)\n",
    "engineered_explanations = client.download_model_explanation(raw=False)\n",
    "feature_importance = engineered_explanations.get_feature_importance_dict() # get model feature importance values\n",
    "columns = [\"modelFeatureImportance_name\", \"modelFeatureImportance_value\"]\n",
    "pd.DataFrame(list(feature_importance.items()), columns=columns)"
   ]
  },
  {
   "cell_type": "markdown",
   "id": "controlled-vitamin",
   "metadata": {},
   "source": [
    "## Register"
   ]
  },
  {
   "cell_type": "markdown",
   "id": "planned-nitrogen",
   "metadata": {},
   "source": [
    "####  prepare the scoring script, environment file and model"
   ]
  },
  {
   "cell_type": "code",
   "execution_count": 137,
   "id": "buried-cleaning",
   "metadata": {},
   "outputs": [],
   "source": [
    "# get the score and environment files\n",
    "model_name = best_run.properties['model_name'] # score.py script will look for the name of the registered model\n",
    "\n",
    "# make a local copy of the best scoring script, environment file and the model file\n",
    "script_file_name = 'inference/score.py'\n",
    "conda_env_file_name = 'inference/env.yml'\n",
    "model_pickle_file_name = 'inference/model.pkl'\n",
    "# model_onnx_file_name = 'inference/model.onnx'\n",
    "best_run.download_file('outputs/scoring_file_v_1_0_0.py', script_file_name)\n",
    "best_run.download_file('outputs/conda_env_v_1_0_0.yml', conda_env_file_name)\n",
    "best_run.download_file('outputs/model.pkl', model_pickle_file_name)\n",
    "# best_run.download_file('outputs/model.onnx', model_onnx_file_name)"
   ]
  },
  {
   "cell_type": "code",
   "execution_count": 138,
   "id": "caroline-netscape",
   "metadata": {},
   "outputs": [
    {
     "name": "stdout",
     "output_type": "stream",
     "text": [
      "# Conda environment specification. The dependencies defined in this file will\r",
      "\r\n",
      "# be automatically provisioned for runs with userManagedDependencies=False.\r",
      "\r\n",
      "\r\n",
      "# Details about the Conda environment file format:\r",
      "\r\n",
      "# https://conda.io/docs/user-guide/tasks/manage-environments.html#create-env-file-manually\r",
      "\r\n",
      "\r\n",
      "name: project_environment\r\n",
      "dependencies:\r\n",
      "  # The python interpreter version.\r",
      "\r\n",
      "  # Currently Azure ML only supports 3.5.2 and later.\r",
      "\r\n",
      "- python=3.6.2\r\n",
      "\r\n",
      "- pip:\r\n",
      "  - azureml-train-automl-runtime==1.24.0\r\n",
      "  - inference-schema\r\n",
      "  - azureml-interpret==1.24.0\r\n",
      "  - azureml-defaults==1.24.0\r\n",
      "- numpy>=1.16.0,<1.19.0\r\n",
      "- pandas==0.25.1\r\n",
      "- scikit-learn==0.22.1\r\n",
      "- py-xgboost<=0.90\r\n",
      "- fbprophet==0.5\r\n",
      "- holidays==0.9.11\r\n",
      "- psutil>=5.2.2,<6.0.0\r\n",
      "channels:\r\n",
      "- anaconda\r\n",
      "- conda-forge\r\n"
     ]
    }
   ],
   "source": [
    "! cat inference/env.yml"
   ]
  },
  {
   "cell_type": "code",
   "execution_count": 139,
   "id": "expensive-procedure",
   "metadata": {},
   "outputs": [
    {
     "name": "stdout",
     "output_type": "stream",
     "text": [
      "# ---------------------------------------------------------\r\n",
      "# Copyright (c) Microsoft Corporation. All rights reserved.\r\n",
      "# ---------------------------------------------------------\r\n",
      "import json\r\n",
      "import logging\r\n",
      "import os\r\n",
      "import pickle\r\n",
      "import numpy as np\r\n",
      "import pandas as pd\r\n",
      "import joblib\r\n",
      "\r\n",
      "import azureml.automl.core\r\n",
      "from azureml.automl.core.shared import logging_utilities, log_server\r\n",
      "from azureml.telemetry import INSTRUMENTATION_KEY\r\n",
      "\r\n",
      "from inference_schema.schema_decorators import input_schema, output_schema\r\n",
      "from inference_schema.parameter_types.numpy_parameter_type import NumpyParameterType\r\n",
      "from inference_schema.parameter_types.pandas_parameter_type import PandasParameterType\r\n",
      "\r\n",
      "\r\n",
      "input_sample = pd.DataFrame({\"VW\": pd.Series([0], dtype=\"int64\"), \"acousticness\": pd.Series([0.0], dtype=\"float64\"), \"danceability\": pd.Series([0.0], dtype=\"float64\"), \"duration_ms\": pd.Series([0], dtype=\"int64\"), \"energy\": pd.Series([0.0], dtype=\"float64\"), \"instrumentalness\": pd.Series([0.0], dtype=\"float64\"), \"key\": pd.Series([0], dtype=\"int64\"), \"liveness\": pd.Series([0.0], dtype=\"float64\"), \"loudness\": pd.Series([0.0], dtype=\"float64\"), \"mode\": pd.Series([0], dtype=\"int64\"), \"popularity\": pd.Series([0], dtype=\"int64\"), \"speechiness\": pd.Series([0.0], dtype=\"float64\"), \"tempo\": pd.Series([0.0], dtype=\"float64\"), \"valence\": pd.Series([0.0], dtype=\"float64\")})\r\n",
      "output_sample = np.array([0])\r\n",
      "try:\r\n",
      "    log_server.enable_telemetry(INSTRUMENTATION_KEY)\r\n",
      "    log_server.set_verbosity('INFO')\r\n",
      "    logger = logging.getLogger('azureml.automl.core.scoring_script')\r\n",
      "except:\r\n",
      "    pass\r\n",
      "\r\n",
      "\r\n",
      "def init():\r\n",
      "    global model\r\n",
      "    # This name is model.id of model that we want to deploy deserialize the model file back\r\n",
      "    # into a sklearn model\r\n",
      "    model_path = os.path.join(os.getenv('AZUREML_MODEL_DIR'), 'model.pkl')\r\n",
      "    path = os.path.normpath(model_path)\r\n",
      "    path_split = path.split(os.sep)\r\n",
      "    log_server.update_custom_dimensions({'model_name': path_split[-3], 'model_version': path_split[-2]})\r\n",
      "    try:\r\n",
      "        logger.info(\"Loading model from path.\")\r\n",
      "        model = joblib.load(model_path)\r\n",
      "        logger.info(\"Loading successful.\")\r\n",
      "    except Exception as e:\r\n",
      "        logging_utilities.log_traceback(e, logger)\r\n",
      "        raise\r\n",
      "\r\n",
      "\r\n",
      "@input_schema('data', PandasParameterType(input_sample))\r\n",
      "@output_schema(NumpyParameterType(output_sample))\r\n",
      "def run(data):\r\n",
      "    try:\r\n",
      "        result = model.predict(data)\r\n",
      "        return json.dumps({\"result\": result.tolist()})\r\n",
      "    except Exception as e:\r\n",
      "        result = str(e)\r\n",
      "        return json.dumps({\"error\": result})\r\n"
     ]
    }
   ],
   "source": [
    "! cat inference/score.py"
   ]
  },
  {
   "cell_type": "markdown",
   "id": "raising-underwear",
   "metadata": {},
   "source": [
    "### Register the model "
   ]
  },
  {
   "cell_type": "markdown",
   "id": "figured-suggestion",
   "metadata": {},
   "source": [
    "#### we use the local /path/model folder with Model.register()"
   ]
  },
  {
   "cell_type": "code",
   "execution_count": 140,
   "id": "responsible-scanner",
   "metadata": {},
   "outputs": [
    {
     "name": "stdout",
     "output_type": "stream",
     "text": [
      "Registering model AutoML073d7624320\n"
     ]
    }
   ],
   "source": [
    "model = Model.register(workspace=ws,\n",
    "                       model_name=model_name, # registered model name used in scoring script init()\n",
    "                       model_framework=Model.Framework.SCIKITLEARN, # {TensorFlow, ScikitLearn, Onnx, Custom}\n",
    "                       model_framework_version='0.22.2',\n",
    "                       model_path='inference/model.pkl', # local file {'model.pkl', 'model.onnx'}\n",
    "                       tags={'Training context': 'autoML Training'},\n",
    "                       properties={'AUC': best_run.get_metrics()['AUC_weighted'],\n",
    "                                   'Accuracy': best_run.get_metrics()['accuracy']},\n",
    "                       description=\"Classification model to predict diabetes\")"
   ]
  },
  {
   "cell_type": "markdown",
   "id": "configured-impact",
   "metadata": {},
   "source": [
    "### Deploy model as webservice (ACI)"
   ]
  },
  {
   "cell_type": "markdown",
   "id": "fifty-initial",
   "metadata": {},
   "source": [
    "#### this deplayment can take 15-20min... (using smallest compute 1CPU, 1GB mem)"
   ]
  },
  {
   "cell_type": "code",
   "execution_count": 141,
   "id": "third-kenya",
   "metadata": {},
   "outputs": [
    {
     "name": "stdout",
     "output_type": "stream",
     "text": [
      "\"automl-projname-service\" does not exist, creating the webservice...\n",
      "Tips: You can try get_logs(): https://aka.ms/debugimage#dockerlog or local deployment: https://aka.ms/debugimage#debug-locally to debug if deployment takes longer than 10 minutes.\n",
      "Running\n",
      "2021-03-14 10:40:37+01:00 Creating Container Registry if not exists.\n",
      "2021-03-14 10:40:37+01:00 Registering the environment.\n",
      "2021-03-14 10:40:39+01:00 Use the existing image.\n",
      "2021-03-14 10:40:39+01:00 Generating deployment configuration.\n",
      "2021-03-14 10:40:39+01:00 Submitting deployment to compute..\n",
      "2021-03-14 10:40:43+01:00 Checking the status of deployment automl-projname-service..\n",
      "2021-03-14 10:44:26+01:00 Checking the status of inference endpoint automl-projname-service.\n",
      "Succeeded\n",
      "ACI service creation operation finished, operation \"Succeeded\"\n",
      "CPU times: user 1min 15s, sys: 32.2 s, total: 1min 47s\n",
      "Wall time: 4min 15s\n"
     ]
    }
   ],
   "source": [
    "%%time\n",
    "# Configure the scoring environment\n",
    "service_name = \"automl-projname-service\" # only lowercase letters, numbers, or dashes\n",
    "\n",
    "# Remove any existing service under the same name\n",
    "try:\n",
    "    Webservice(ws, service_name).delete()\n",
    "except WebserviceException:\n",
    "    print('\"' + service_name + '\" does not exist, creating the webservice...')\n",
    "\n",
    "myenv = Environment.from_conda_specification(name=\"myenv\", file_path=conda_env_file_name)\n",
    "inference_config = InferenceConfig(entry_script=script_file_name, environment=myenv)\n",
    "\n",
    "deployment_config = AciWebservice.deploy_configuration(cpu_cores=1,\n",
    "                                                       memory_gb=1)\n",
    "\n",
    "# build container from environment, start webservice ACI and deploy inference scrips \n",
    "service = Model.deploy(ws, service_name, [model], inference_config, deployment_config)\n",
    "service.wait_for_deployment(show_output=True)"
   ]
  },
  {
   "cell_type": "code",
   "execution_count": 142,
   "id": "small-gateway",
   "metadata": {},
   "outputs": [
    {
     "name": "stdout",
     "output_type": "stream",
     "text": [
      "2021-03-14T09:44:15,139824400+00:00 - nginx/run \n",
      "/usr/sbin/nginx: /azureml-envs/azureml_fe9df1de9dcfc7f534c43ede471eccd6/lib/libcrypto.so.1.0.0: no version information available (required by /usr/sbin/nginx)\n",
      "/usr/sbin/nginx: /azureml-envs/azureml_fe9df1de9dcfc7f534c43ede471eccd6/lib/libcrypto.so.1.0.0: no version information available (required by /usr/sbin/nginx)\n",
      "/usr/sbin/nginx: /azureml-envs/azureml_fe9df1de9dcfc7f534c43ede471eccd6/lib/libssl.so.1.0.0: no version information available (required by /usr/sbin/nginx)\n",
      "/usr/sbin/nginx: /azureml-envs/azureml_fe9df1de9dcfc7f534c43ede471eccd6/lib/libssl.so.1.0.0: no version information available (required by /usr/sbin/nginx)\n",
      "/usr/sbin/nginx: /azureml-envs/azureml_fe9df1de9dcfc7f534c43ede471eccd6/lib/libssl.so.1.0.0: no version information available (required by /usr/sbin/nginx)\n",
      "2021-03-14T09:44:15,155938100+00:00 - gunicorn/run \n",
      "2021-03-14T09:44:15,163717900+00:00 - iot-server/run \n",
      "2021-03-14T09:44:15,165133700+00:00 - rsyslog/run \n",
      "rsyslogd: /azureml-envs/azureml_fe9df1de9dcfc7f534c43ede471eccd6/lib/libuuid.so.1: no version information available (required by rsyslogd)\n",
      "Starting gunicorn 19.9.0\n",
      "Listening at: http://127.0.0.1:31311 (68)\n",
      "Using worker: sync\n",
      "worker timeout is set to 300\n",
      "EdgeHubConnectionString and IOTEDGE_IOTHUBHOSTNAME are not set. Exiting...\n",
      "Booting worker with pid: 95\n",
      "2021-03-14T09:44:18,038299600+00:00 - iot-server/finish 1 0\n",
      "2021-03-14T09:44:18,049495900+00:00 - Exit code 1 is normal. Not restarting iot-server.\n",
      "SPARK_HOME not set. Skipping PySpark Initialization.\n",
      "Generating new fontManager, this may take some time...\n",
      "Initializing logger\n",
      "2021-03-14 09:44:25,961 | root | INFO | Starting up app insights client\n",
      "2021-03-14 09:44:25,963 | root | INFO | Starting up request id generator\n",
      "2021-03-14 09:44:25,963 | root | INFO | Starting up app insight hooks\n",
      "2021-03-14 09:44:25,964 | root | INFO | Invoking user's init function\n",
      "2021-03-14 09:44:39,380 | azureml.core | WARNING | Failure while loading azureml_run_type_providers. Failed to load entrypoint automl = azureml.train.automl.run:AutoMLRun._from_run_dto with exception cannot import name 'RunType'.\n",
      "Failure while loading azureml_run_type_providers. Failed to load entrypoint automl = azureml.train.automl.run:AutoMLRun._from_run_dto with exception cannot import name 'RunType'.\n",
      "2021-03-14 09:44:39,594 | root | INFO | Users's init has completed successfully\n",
      "2021-03-14 09:44:39,685 | root | INFO | Skipping middleware: dbg_model_info as it's not enabled.\n",
      "2021-03-14 09:44:39,685 | root | INFO | Skipping middleware: dbg_resource_usage as it's not enabled.\n",
      "2021-03-14 09:44:39,690 | root | INFO | Scoring timeout is found from os.environ: 60000 ms\n",
      "2021-03-14 09:44:42,167 | root | INFO | 200\n",
      "127.0.0.1 - - [14/Mar/2021:09:44:42 +0000] \"GET /swagger.json HTTP/1.0\" 200 2944 \"-\" \"Go-http-client/1.1\"\n",
      "2021-03-14 09:44:45,188 | root | INFO | 200\n",
      "127.0.0.1 - - [14/Mar/2021:09:44:45 +0000] \"GET /swagger.json HTTP/1.0\" 200 2944 \"-\" \"Go-http-client/1.1\"\n",
      "\n"
     ]
    }
   ],
   "source": [
    "# get webservice logs\n",
    "print(service.get_logs())"
   ]
  },
  {
   "cell_type": "markdown",
   "id": "absent-vatican",
   "metadata": {},
   "source": [
    "Send a HTTP triggered webrequest with testdata to the model for a prediction value.  \n",
    "In this example we test a person is inTop50 (1) or not-Top50 (0).  \n",
    "The data must be a list of 11 features to predict a binary classification.  "
   ]
  },
  {
   "cell_type": "code",
   "execution_count": null,
   "id": "yellow-damages",
   "metadata": {},
   "outputs": [],
   "source": [
    "# input_sample = pd.DataFrame({\"VW\": pd.Series([0], dtype=\"int64\"), \"acousticness\": pd.Series([0.0], dtype=\"float64\"), \"danceability\": pd.Series([0.0], dtype=\"float64\"), \"duration_ms\": pd.Series([0], dtype=\"int64\"), \"energy\": pd.Series([0.0], dtype=\"float64\"), \"instrumentalness\": pd.Series([0.0], dtype=\"float64\"), \"key\": pd.Series([0], dtype=\"int64\"), \"liveness\": pd.Series([0.0], dtype=\"float64\"), \"loudness\": pd.Series([0.0], dtype=\"float64\"), \"mode\": pd.Series([0], dtype=\"int64\"), \"popularity\": pd.Series([0], dtype=\"int64\"), \"speechiness\": pd.Series([0.0], dtype=\"float64\"), \"tempo\": pd.Series([0.0], dtype=\"float64\"), \"valence\": pd.Series([0.0], dtype=\"float64\")})\n",
    "# output_sample = np.array([0])"
   ]
  },
  {
   "cell_type": "code",
   "execution_count": 145,
   "id": "appropriate-college",
   "metadata": {},
   "outputs": [
    {
     "name": "stdout",
     "output_type": "stream",
     "text": [
      "URI: http://2202f4f2-bb98-4850-93bc-59b5d66723b2.northeurope.azurecontainer.io/score\n",
      "Body: {\"data\": [[50, 10, 0.502, 301920, 0.912, 0.000173, 1, 0.106, -4.556, 1, 80, 0.0564, 116.761, 0.72]]}\n"
     ]
    }
   ],
   "source": [
    "# get webservice URI\n",
    "endpoint = service.scoring_uri\n",
    "\n",
    "# raw test data\n",
    " \n",
    "# rawdata = [[50, 2.55e-05, 0.502, 301920, 0.912, 0.000173, 1, 0.106, -4.556, 1, 80, 0.0564, 116.761, 0.72],\n",
    "#            [50, 6, 0, 148, 58, 11, 179, 39, 0.16, 45]]\n",
    "rawdata = [[50, 2.55e-05, 0.502, 301920, 0.912, 0.000173, 1, 0.106, -4.556, 1, 80, 0.0564, 116.761, 0.72]]\n",
    "\n",
    "print(\"URI: \" + endpoint)\n",
    "print(\"Body: \" + json.dumps({\"data\": rawdata})) # convert array to a serialized JSON formatted string object"
   ]
  },
  {
   "cell_type": "code",
   "execution_count": 146,
   "id": "talented-plate",
   "metadata": {},
   "outputs": [
    {
     "data": {
      "text/plain": [
       "'{\"result\": [true]}'"
      ]
     },
     "execution_count": 146,
     "metadata": {},
     "output_type": "execute_result"
    }
   ],
   "source": [
    "response = requests.post(endpoint, json={\"data\": rawdata})\n",
    "response.json()"
   ]
  },
  {
   "cell_type": "code",
   "execution_count": 129,
   "id": "surprising-newspaper",
   "metadata": {},
   "outputs": [],
   "source": [
    "# service.delete()"
   ]
  },
  {
   "cell_type": "code",
   "execution_count": null,
   "id": "necessary-bhutan",
   "metadata": {},
   "outputs": [],
   "source": []
  },
  {
   "cell_type": "code",
   "execution_count": null,
   "id": "underlying-error",
   "metadata": {},
   "outputs": [],
   "source": []
  }
 ],
 "metadata": {
  "kernelspec": {
   "display_name": "py36_automl",
   "language": "python",
   "name": "conda-env-py36_automl-py"
  },
  "language_info": {
   "codemirror_mode": {
    "name": "ipython",
    "version": 3
   },
   "file_extension": ".py",
   "mimetype": "text/x-python",
   "name": "python",
   "nbconvert_exporter": "python",
   "pygments_lexer": "ipython3",
   "version": "3.6.6"
  }
 },
 "nbformat": 4,
 "nbformat_minor": 5
}
