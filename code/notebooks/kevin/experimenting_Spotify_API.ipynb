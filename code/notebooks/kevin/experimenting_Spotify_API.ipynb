{
 "cells": [
  {
   "cell_type": "code",
   "execution_count": null,
   "id": "authentic-miracle",
   "metadata": {},
   "outputs": [],
   "source": [
    "# !pip install spotipy"
   ]
  },
  {
   "cell_type": "code",
   "execution_count": 73,
   "id": "selected-mattress",
   "metadata": {},
   "outputs": [],
   "source": [
    "import spotipy\n",
    "from spotipy.oauth2 import SpotifyClientCredentials\n",
    "# import json"
   ]
  },
  {
   "cell_type": "code",
   "execution_count": 74,
   "id": "powerful-institution",
   "metadata": {},
   "outputs": [],
   "source": [
    "sp = spotipy.Spotify(auth_manager=SpotifyClientCredentials(client_id=\"f93a1fbf63074ec3b110cc58b86957dc\",\n",
    "                                                           client_secret=\"bee7864fda474acdbfc4789c59d53ec1\"))"
   ]
  },
  {
   "cell_type": "code",
   "execution_count": 75,
   "id": "biblical-catholic",
   "metadata": {},
   "outputs": [],
   "source": [
    "# https://developer.spotify.com/documentation/web-api/reference/#endpoint-get-audio-analysis\n",
    "# https://developer.spotify.com/dashboard/applications/f93a1fbf63074ec3b110cc58b86957dc\n",
    "# https://github.com/plamere/spotipy\n",
    "# https://spotipy.readthedocs.io/en/2.17.1/#api-reference"
   ]
  },
  {
   "cell_type": "code",
   "execution_count": 229,
   "id": "derived-bryan",
   "metadata": {},
   "outputs": [
    {
     "data": {
      "text/plain": [
       "['1,2,3']"
      ]
     },
     "execution_count": 229,
     "metadata": {},
     "output_type": "execute_result"
    }
   ],
   "source": [
    "results = sp.search(q=\"amel bent hatik 1,2,3\", limit=1)\n",
    "# for idx, track in enumerate(results['tracks']['items']):\n",
    "#     print(idx, track['name'])\n",
    "[title['name'] for title in results['tracks']['items']]"
   ]
  },
  {
   "cell_type": "code",
   "execution_count": 200,
   "id": "stupid-bargain",
   "metadata": {},
   "outputs": [
    {
     "data": {
      "text/plain": [
       "[]"
      ]
     },
     "execution_count": 200,
     "metadata": {},
     "output_type": "execute_result"
    }
   ],
   "source": [
    "[title['name'] for title in results['tracks']['items']]"
   ]
  },
  {
   "cell_type": "code",
   "execution_count": 186,
   "id": "moral-physics",
   "metadata": {},
   "outputs": [
    {
     "data": {
      "text/plain": [
       "False"
      ]
     },
     "execution_count": 186,
     "metadata": {},
     "output_type": "execute_result"
    }
   ],
   "source": [
    "[title['name'] for title in results['tracks']['items']] == []"
   ]
  },
  {
   "cell_type": "code",
   "execution_count": 182,
   "id": "bound-excerpt",
   "metadata": {},
   "outputs": [],
   "source": [
    "x = \"Amel Bent x Imen Es Jusqu'au bout\""
   ]
  },
  {
   "cell_type": "code",
   "execution_count": 175,
   "id": "proud-orchestra",
   "metadata": {},
   "outputs": [
    {
     "data": {
      "text/plain": [
       "\"en Es Jusqu'au bout\""
      ]
     },
     "execution_count": 175,
     "metadata": {},
     "output_type": "execute_result"
    }
   ],
   "source": [
    "x[14:]"
   ]
  },
  {
   "cell_type": "code",
   "execution_count": 183,
   "id": "ordered-effectiveness",
   "metadata": {},
   "outputs": [
    {
     "data": {
      "text/plain": [
       "\"Amel Bent Imen Es Jusqu'au bout\""
      ]
     },
     "execution_count": 183,
     "metadata": {},
     "output_type": "execute_result"
    }
   ],
   "source": [
    "f = x.replace(r' x ', ' ')\n",
    "f"
   ]
  },
  {
   "cell_type": "code",
   "execution_count": 187,
   "id": "closed-speaking",
   "metadata": {},
   "outputs": [
    {
     "data": {
      "text/plain": [
       "['205HNJ73cgpC0LAOnuQiWT']"
      ]
     },
     "execution_count": 187,
     "metadata": {},
     "output_type": "execute_result"
    }
   ],
   "source": [
    "[title['id'] for title in results['tracks']['items']]"
   ]
  },
  {
   "cell_type": "code",
   "execution_count": 86,
   "id": "approximate-ethnic",
   "metadata": {},
   "outputs": [
    {
     "data": {
      "text/plain": [
       "[80]"
      ]
     },
     "execution_count": 86,
     "metadata": {},
     "output_type": "execute_result"
    }
   ],
   "source": [
    "[title['popularity'] for title in results['tracks']['items']]"
   ]
  },
  {
   "cell_type": "code",
   "execution_count": null,
   "id": "federal-detail",
   "metadata": {},
   "outputs": [],
   "source": []
  },
  {
   "cell_type": "code",
   "execution_count": 87,
   "id": "noble-ghost",
   "metadata": {
    "scrolled": true
   },
   "outputs": [
    {
     "data": {
      "text/plain": [
       "{'tracks': {'href': 'https://api.spotify.com/v1/search?query=Ofenbach+feat.+Lagique+Wasted+Love&type=track&offset=0&limit=1',\n",
       "  'items': [{'album': {'album_type': 'single',\n",
       "     'artists': [{'external_urls': {'spotify': 'https://open.spotify.com/artist/4AKwRarlmsUlLjIwt38NLw'},\n",
       "       'href': 'https://api.spotify.com/v1/artists/4AKwRarlmsUlLjIwt38NLw',\n",
       "       'id': '4AKwRarlmsUlLjIwt38NLw',\n",
       "       'name': 'Ofenbach',\n",
       "       'type': 'artist',\n",
       "       'uri': 'spotify:artist:4AKwRarlmsUlLjIwt38NLw'},\n",
       "      {'external_urls': {'spotify': 'https://open.spotify.com/artist/1PbtWtrN7jZpd4toqxrjm2'},\n",
       "       'href': 'https://api.spotify.com/v1/artists/1PbtWtrN7jZpd4toqxrjm2',\n",
       "       'id': '1PbtWtrN7jZpd4toqxrjm2',\n",
       "       'name': 'Lagique',\n",
       "       'type': 'artist',\n",
       "       'uri': 'spotify:artist:1PbtWtrN7jZpd4toqxrjm2'}],\n",
       "     'available_markets': ['AD',\n",
       "      'AE',\n",
       "      'AG',\n",
       "      'AL',\n",
       "      'AM',\n",
       "      'AR',\n",
       "      'AT',\n",
       "      'AU',\n",
       "      'AZ',\n",
       "      'BA',\n",
       "      'BB',\n",
       "      'BD',\n",
       "      'BE',\n",
       "      'BF',\n",
       "      'BG',\n",
       "      'BH',\n",
       "      'BI',\n",
       "      'BN',\n",
       "      'BO',\n",
       "      'BR',\n",
       "      'BS',\n",
       "      'BT',\n",
       "      'BW',\n",
       "      'BY',\n",
       "      'BZ',\n",
       "      'CA',\n",
       "      'CH',\n",
       "      'CL',\n",
       "      'CM',\n",
       "      'CO',\n",
       "      'CR',\n",
       "      'CV',\n",
       "      'CW',\n",
       "      'CY',\n",
       "      'CZ',\n",
       "      'DE',\n",
       "      'DK',\n",
       "      'DM',\n",
       "      'DO',\n",
       "      'DZ',\n",
       "      'EC',\n",
       "      'EE',\n",
       "      'EG',\n",
       "      'ES',\n",
       "      'FI',\n",
       "      'FJ',\n",
       "      'FM',\n",
       "      'FR',\n",
       "      'GA',\n",
       "      'GB',\n",
       "      'GD',\n",
       "      'GE',\n",
       "      'GH',\n",
       "      'GM',\n",
       "      'GN',\n",
       "      'GQ',\n",
       "      'GR',\n",
       "      'GT',\n",
       "      'GW',\n",
       "      'GY',\n",
       "      'HK',\n",
       "      'HN',\n",
       "      'HR',\n",
       "      'HT',\n",
       "      'HU',\n",
       "      'ID',\n",
       "      'IE',\n",
       "      'IL',\n",
       "      'IN',\n",
       "      'IS',\n",
       "      'IT',\n",
       "      'JM',\n",
       "      'JO',\n",
       "      'JP',\n",
       "      'KE',\n",
       "      'KG',\n",
       "      'KH',\n",
       "      'KI',\n",
       "      'KM',\n",
       "      'KN',\n",
       "      'KR',\n",
       "      'KW',\n",
       "      'KZ',\n",
       "      'LA',\n",
       "      'LB',\n",
       "      'LC',\n",
       "      'LI',\n",
       "      'LK',\n",
       "      'LR',\n",
       "      'LS',\n",
       "      'LT',\n",
       "      'LU',\n",
       "      'LV',\n",
       "      'MA',\n",
       "      'MC',\n",
       "      'MD',\n",
       "      'ME',\n",
       "      'MH',\n",
       "      'MK',\n",
       "      'ML',\n",
       "      'MN',\n",
       "      'MO',\n",
       "      'MR',\n",
       "      'MT',\n",
       "      'MV',\n",
       "      'MW',\n",
       "      'MX',\n",
       "      'MY',\n",
       "      'NA',\n",
       "      'NE',\n",
       "      'NG',\n",
       "      'NI',\n",
       "      'NL',\n",
       "      'NO',\n",
       "      'NP',\n",
       "      'NR',\n",
       "      'NZ',\n",
       "      'OM',\n",
       "      'PA',\n",
       "      'PE',\n",
       "      'PG',\n",
       "      'PH',\n",
       "      'PK',\n",
       "      'PL',\n",
       "      'PS',\n",
       "      'PT',\n",
       "      'PW',\n",
       "      'PY',\n",
       "      'QA',\n",
       "      'RO',\n",
       "      'RS',\n",
       "      'RU',\n",
       "      'RW',\n",
       "      'SA',\n",
       "      'SB',\n",
       "      'SC',\n",
       "      'SE',\n",
       "      'SG',\n",
       "      'SI',\n",
       "      'SK',\n",
       "      'SL',\n",
       "      'SM',\n",
       "      'SN',\n",
       "      'SR',\n",
       "      'ST',\n",
       "      'SV',\n",
       "      'SZ',\n",
       "      'TD',\n",
       "      'TG',\n",
       "      'TH',\n",
       "      'TL',\n",
       "      'TN',\n",
       "      'TO',\n",
       "      'TR',\n",
       "      'TT',\n",
       "      'TV',\n",
       "      'TW',\n",
       "      'TZ',\n",
       "      'UA',\n",
       "      'UG',\n",
       "      'US',\n",
       "      'UY',\n",
       "      'UZ',\n",
       "      'VC',\n",
       "      'VN',\n",
       "      'VU',\n",
       "      'WS',\n",
       "      'XK',\n",
       "      'ZA',\n",
       "      'ZW'],\n",
       "     'external_urls': {'spotify': 'https://open.spotify.com/album/0i72GjB523RgrjK8HUa61B'},\n",
       "     'href': 'https://api.spotify.com/v1/albums/0i72GjB523RgrjK8HUa61B',\n",
       "     'id': '0i72GjB523RgrjK8HUa61B',\n",
       "     'images': [{'height': 640,\n",
       "       'url': 'https://i.scdn.co/image/ab67616d0000b273632e5aeca45b4cf0b9c08fcc',\n",
       "       'width': 640},\n",
       "      {'height': 300,\n",
       "       'url': 'https://i.scdn.co/image/ab67616d00001e02632e5aeca45b4cf0b9c08fcc',\n",
       "       'width': 300},\n",
       "      {'height': 64,\n",
       "       'url': 'https://i.scdn.co/image/ab67616d00004851632e5aeca45b4cf0b9c08fcc',\n",
       "       'width': 64}],\n",
       "     'name': 'Wasted Love (feat. Lagique)',\n",
       "     'release_date': '2021-01-08',\n",
       "     'release_date_precision': 'day',\n",
       "     'total_tracks': 1,\n",
       "     'type': 'album',\n",
       "     'uri': 'spotify:album:0i72GjB523RgrjK8HUa61B'},\n",
       "    'artists': [{'external_urls': {'spotify': 'https://open.spotify.com/artist/4AKwRarlmsUlLjIwt38NLw'},\n",
       "      'href': 'https://api.spotify.com/v1/artists/4AKwRarlmsUlLjIwt38NLw',\n",
       "      'id': '4AKwRarlmsUlLjIwt38NLw',\n",
       "      'name': 'Ofenbach',\n",
       "      'type': 'artist',\n",
       "      'uri': 'spotify:artist:4AKwRarlmsUlLjIwt38NLw'},\n",
       "     {'external_urls': {'spotify': 'https://open.spotify.com/artist/1PbtWtrN7jZpd4toqxrjm2'},\n",
       "      'href': 'https://api.spotify.com/v1/artists/1PbtWtrN7jZpd4toqxrjm2',\n",
       "      'id': '1PbtWtrN7jZpd4toqxrjm2',\n",
       "      'name': 'Lagique',\n",
       "      'type': 'artist',\n",
       "      'uri': 'spotify:artist:1PbtWtrN7jZpd4toqxrjm2'}],\n",
       "    'available_markets': ['AD',\n",
       "     'AE',\n",
       "     'AG',\n",
       "     'AL',\n",
       "     'AM',\n",
       "     'AR',\n",
       "     'AT',\n",
       "     'AU',\n",
       "     'AZ',\n",
       "     'BA',\n",
       "     'BB',\n",
       "     'BD',\n",
       "     'BE',\n",
       "     'BF',\n",
       "     'BG',\n",
       "     'BH',\n",
       "     'BI',\n",
       "     'BN',\n",
       "     'BO',\n",
       "     'BR',\n",
       "     'BS',\n",
       "     'BT',\n",
       "     'BW',\n",
       "     'BY',\n",
       "     'BZ',\n",
       "     'CA',\n",
       "     'CH',\n",
       "     'CL',\n",
       "     'CM',\n",
       "     'CO',\n",
       "     'CR',\n",
       "     'CV',\n",
       "     'CW',\n",
       "     'CY',\n",
       "     'CZ',\n",
       "     'DE',\n",
       "     'DK',\n",
       "     'DM',\n",
       "     'DO',\n",
       "     'DZ',\n",
       "     'EC',\n",
       "     'EE',\n",
       "     'EG',\n",
       "     'ES',\n",
       "     'FI',\n",
       "     'FJ',\n",
       "     'FM',\n",
       "     'FR',\n",
       "     'GA',\n",
       "     'GB',\n",
       "     'GD',\n",
       "     'GE',\n",
       "     'GH',\n",
       "     'GM',\n",
       "     'GN',\n",
       "     'GQ',\n",
       "     'GR',\n",
       "     'GT',\n",
       "     'GW',\n",
       "     'GY',\n",
       "     'HK',\n",
       "     'HN',\n",
       "     'HR',\n",
       "     'HT',\n",
       "     'HU',\n",
       "     'ID',\n",
       "     'IE',\n",
       "     'IL',\n",
       "     'IN',\n",
       "     'IS',\n",
       "     'IT',\n",
       "     'JM',\n",
       "     'JO',\n",
       "     'JP',\n",
       "     'KE',\n",
       "     'KG',\n",
       "     'KH',\n",
       "     'KI',\n",
       "     'KM',\n",
       "     'KN',\n",
       "     'KR',\n",
       "     'KW',\n",
       "     'KZ',\n",
       "     'LA',\n",
       "     'LB',\n",
       "     'LC',\n",
       "     'LI',\n",
       "     'LK',\n",
       "     'LR',\n",
       "     'LS',\n",
       "     'LT',\n",
       "     'LU',\n",
       "     'LV',\n",
       "     'MA',\n",
       "     'MC',\n",
       "     'MD',\n",
       "     'ME',\n",
       "     'MH',\n",
       "     'MK',\n",
       "     'ML',\n",
       "     'MN',\n",
       "     'MO',\n",
       "     'MR',\n",
       "     'MT',\n",
       "     'MV',\n",
       "     'MW',\n",
       "     'MX',\n",
       "     'MY',\n",
       "     'NA',\n",
       "     'NE',\n",
       "     'NG',\n",
       "     'NI',\n",
       "     'NL',\n",
       "     'NO',\n",
       "     'NP',\n",
       "     'NR',\n",
       "     'NZ',\n",
       "     'OM',\n",
       "     'PA',\n",
       "     'PE',\n",
       "     'PG',\n",
       "     'PH',\n",
       "     'PK',\n",
       "     'PL',\n",
       "     'PS',\n",
       "     'PT',\n",
       "     'PW',\n",
       "     'PY',\n",
       "     'QA',\n",
       "     'RO',\n",
       "     'RS',\n",
       "     'RU',\n",
       "     'RW',\n",
       "     'SA',\n",
       "     'SB',\n",
       "     'SC',\n",
       "     'SE',\n",
       "     'SG',\n",
       "     'SI',\n",
       "     'SK',\n",
       "     'SL',\n",
       "     'SM',\n",
       "     'SN',\n",
       "     'SR',\n",
       "     'ST',\n",
       "     'SV',\n",
       "     'SZ',\n",
       "     'TD',\n",
       "     'TG',\n",
       "     'TH',\n",
       "     'TL',\n",
       "     'TN',\n",
       "     'TO',\n",
       "     'TR',\n",
       "     'TT',\n",
       "     'TV',\n",
       "     'TW',\n",
       "     'TZ',\n",
       "     'UA',\n",
       "     'UG',\n",
       "     'US',\n",
       "     'UY',\n",
       "     'UZ',\n",
       "     'VC',\n",
       "     'VN',\n",
       "     'VU',\n",
       "     'WS',\n",
       "     'XK',\n",
       "     'ZA',\n",
       "     'ZW'],\n",
       "    'disc_number': 1,\n",
       "    'duration_ms': 139563,\n",
       "    'explicit': False,\n",
       "    'external_ids': {'isrc': 'FR9W12028036'},\n",
       "    'external_urls': {'spotify': 'https://open.spotify.com/track/2pPO9YecZimmuVQfIzfV6U'},\n",
       "    'href': 'https://api.spotify.com/v1/tracks/2pPO9YecZimmuVQfIzfV6U',\n",
       "    'id': '2pPO9YecZimmuVQfIzfV6U',\n",
       "    'is_local': False,\n",
       "    'name': 'Wasted Love (feat. Lagique)',\n",
       "    'popularity': 80,\n",
       "    'preview_url': 'https://p.scdn.co/mp3-preview/63d5522500dce7af5681c75512aaebc13d07d8e2?cid=f93a1fbf63074ec3b110cc58b86957dc',\n",
       "    'track_number': 1,\n",
       "    'type': 'track',\n",
       "    'uri': 'spotify:track:2pPO9YecZimmuVQfIzfV6U'}],\n",
       "  'limit': 1,\n",
       "  'next': None,\n",
       "  'offset': 0,\n",
       "  'previous': None,\n",
       "  'total': 1}}"
      ]
     },
     "execution_count": 87,
     "metadata": {},
     "output_type": "execute_result"
    }
   ],
   "source": [
    "results"
   ]
  },
  {
   "cell_type": "markdown",
   "id": "chemical-volunteer",
   "metadata": {},
   "source": [
    "### try to get the details about that first song ID"
   ]
  },
  {
   "cell_type": "code",
   "execution_count": 88,
   "id": "continent-headset",
   "metadata": {},
   "outputs": [],
   "source": [
    "# # Smells Like Teen Spirit\n",
    "# 'id': '5ghIJDpPoe3CfHMGu71E6T'\n",
    "#     'popularity': 76\n",
    "#         'uri': 'spotify:track:5ghIJDpPoe3CfHMGu71E6T'\n",
    "#             'release_date': '1991-09-26'"
   ]
  },
  {
   "cell_type": "code",
   "execution_count": 89,
   "id": "reduced-liver",
   "metadata": {},
   "outputs": [
    {
     "data": {
      "text/plain": [
       "[{'danceability': 0.734,\n",
       "  'energy': 0.874,\n",
       "  'key': 8,\n",
       "  'loudness': -3.158,\n",
       "  'mode': 1,\n",
       "  'speechiness': 0.0662,\n",
       "  'acousticness': 0.168,\n",
       "  'instrumentalness': 1.14e-05,\n",
       "  'liveness': 0.0489,\n",
       "  'valence': 0.905,\n",
       "  'tempo': 122.953,\n",
       "  'type': 'audio_features',\n",
       "  'id': '6cx06DFPPHchuUAcTxznu9',\n",
       "  'uri': 'spotify:track:6cx06DFPPHchuUAcTxznu9',\n",
       "  'track_href': 'https://api.spotify.com/v1/tracks/6cx06DFPPHchuUAcTxznu9',\n",
       "  'analysis_url': 'https://api.spotify.com/v1/audio-analysis/6cx06DFPPHchuUAcTxznu9',\n",
       "  'duration_ms': 166028,\n",
       "  'time_signature': 4}]"
      ]
     },
     "execution_count": 89,
     "metadata": {},
     "output_type": "execute_result"
    }
   ],
   "source": [
    "results = sp.audio_features(tracks=['6cx06DFPPHchuUAcTxznu9']) # tracks - a list of track URIs, URLs or IDs, maximum: 100 ids\n",
    "results"
   ]
  },
  {
   "cell_type": "code",
   "execution_count": null,
   "id": "informed-husband",
   "metadata": {},
   "outputs": [],
   "source": [
    "df = pd.DataFrame(results)"
   ]
  },
  {
   "cell_type": "code",
   "execution_count": 69,
   "id": "private-italian",
   "metadata": {},
   "outputs": [
    {
     "data": {
      "text/plain": [
       "0.734"
      ]
     },
     "execution_count": 69,
     "metadata": {},
     "output_type": "execute_result"
    }
   ],
   "source": [
    "results[0]['danceability']"
   ]
  },
  {
   "cell_type": "code",
   "execution_count": 68,
   "id": "otherwise-aluminum",
   "metadata": {},
   "outputs": [
    {
     "data": {
      "text/plain": [
       "{'danceability': 0.734,\n",
       " 'energy': 0.874,\n",
       " 'key': 8,\n",
       " 'loudness': -3.158,\n",
       " 'mode': 1,\n",
       " 'speechiness': 0.0662,\n",
       " 'acousticness': 0.168,\n",
       " 'instrumentalness': 1.14e-05,\n",
       " 'liveness': 0.0489,\n",
       " 'valence': 0.905,\n",
       " 'tempo': 122.953,\n",
       " 'type': 'audio_features',\n",
       " 'id': '6cx06DFPPHchuUAcTxznu9',\n",
       " 'uri': 'spotify:track:6cx06DFPPHchuUAcTxznu9',\n",
       " 'track_href': 'https://api.spotify.com/v1/tracks/6cx06DFPPHchuUAcTxznu9',\n",
       " 'analysis_url': 'https://api.spotify.com/v1/audio-analysis/6cx06DFPPHchuUAcTxznu9',\n",
       " 'duration_ms': 166028,\n",
       " 'time_signature': 4}"
      ]
     },
     "execution_count": 68,
     "metadata": {},
     "output_type": "execute_result"
    }
   ],
   "source": [
    "results[0]['danceability']"
   ]
  },
  {
   "cell_type": "code",
   "execution_count": null,
   "id": "neural-auditor",
   "metadata": {},
   "outputs": [],
   "source": []
  },
  {
   "cell_type": "code",
   "execution_count": null,
   "id": "regular-brisbane",
   "metadata": {},
   "outputs": [],
   "source": []
  },
  {
   "cell_type": "code",
   "execution_count": null,
   "id": "postal-bronze",
   "metadata": {},
   "outputs": [],
   "source": []
  },
  {
   "cell_type": "code",
   "execution_count": null,
   "id": "balanced-locking",
   "metadata": {},
   "outputs": [],
   "source": []
  },
  {
   "cell_type": "code",
   "execution_count": null,
   "id": "seasonal-advance",
   "metadata": {},
   "outputs": [],
   "source": []
  },
  {
   "cell_type": "code",
   "execution_count": null,
   "id": "muslim-baptist",
   "metadata": {},
   "outputs": [],
   "source": []
  }
 ],
 "metadata": {
  "kernelspec": {
   "display_name": "py38_cognitive",
   "language": "python",
   "name": "conda-env-py38_cognitive-py"
  },
  "language_info": {
   "codemirror_mode": {
    "name": "ipython",
    "version": 3
   },
   "file_extension": ".py",
   "mimetype": "text/x-python",
   "name": "python",
   "nbconvert_exporter": "python",
   "pygments_lexer": "ipython3",
   "version": "3.8.8"
  }
 },
 "nbformat": 4,
 "nbformat_minor": 5
}
